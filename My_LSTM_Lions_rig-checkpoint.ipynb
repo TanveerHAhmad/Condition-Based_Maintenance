{
 "cells": [
  {
   "cell_type": "code",
   "execution_count": 1,
   "metadata": {
    "collapsed": true
   },
   "outputs": [],
   "source": [
    "import pandas as pd\n",
    "import numpy as np\n",
    "import matplotlib.pyplot as plt\n",
    "import seaborn as sns\n",
    "%matplotlib inline"
   ]
  },
  {
   "cell_type": "code",
   "execution_count": 2,
   "metadata": {},
   "outputs": [
    {
     "data": {
      "text/plain": [
       "last_active_time                 object\n",
       "Active                            int64\n",
       "UA RegPilotPes                  float64\n",
       "UA RegRdbakPes                  float64\n",
       "pod_pilot_pres_podtrans         float64\n",
       "pod_supply_pres_podtrans        float64\n",
       "upper_ann_open_current            int64\n",
       "upper_ann_close_current           int64\n",
       "pod_2_adj                       float64\n",
       "pod_1_adj                       float64\n",
       "UA RegPilotPes_adj              float64\n",
       "UA RegRdbakPes_adj              float64\n",
       "pod_pilot_pres_podtrans_adj     float64\n",
       "pod_supply_pres_podtrans_adj    float64\n",
       "dtype: object"
      ]
     },
     "execution_count": 2,
     "metadata": {},
     "output_type": "execute_result"
    }
   ],
   "source": [
    "#hornet = pd.read_csv('Hornet_Upper_Ann_Adj_Apr_June.csv', index_col='last_active_time')\n",
    "Lions = pd.read_csv('LIONS_2017_04_24_to_2017_08_07.csv')\n",
    "#hornet.index.name = 'date'\n",
    "Lions.dtypes"
   ]
  },
  {
   "cell_type": "code",
   "execution_count": 3,
   "metadata": {
    "collapsed": true
   },
   "outputs": [],
   "source": [
    "Lions['last_active_time'] = pd.to_datetime(Lions['last_active_time'])"
   ]
  },
  {
   "cell_type": "code",
   "execution_count": 4,
   "metadata": {},
   "outputs": [
    {
     "data": {
      "text/plain": [
       "last_active_time                datetime64[ns]\n",
       "Active                                   int64\n",
       "UA RegPilotPes                         float64\n",
       "UA RegRdbakPes                         float64\n",
       "pod_pilot_pres_podtrans                float64\n",
       "pod_supply_pres_podtrans               float64\n",
       "upper_ann_open_current                   int64\n",
       "upper_ann_close_current                  int64\n",
       "pod_2_adj                              float64\n",
       "pod_1_adj                              float64\n",
       "UA RegPilotPes_adj                     float64\n",
       "UA RegRdbakPes_adj                     float64\n",
       "pod_pilot_pres_podtrans_adj            float64\n",
       "pod_supply_pres_podtrans_adj           float64\n",
       "dtype: object"
      ]
     },
     "execution_count": 4,
     "metadata": {},
     "output_type": "execute_result"
    }
   ],
   "source": [
    "#hornet.info(5)\n",
    "Lions.dtypes"
   ]
  },
  {
   "cell_type": "code",
   "execution_count": 5,
   "metadata": {
    "collapsed": true
   },
   "outputs": [],
   "source": [
    "Lions = Lions.set_index('last_active_time')"
   ]
  },
  {
   "cell_type": "code",
   "execution_count": 6,
   "metadata": {
    "collapsed": true
   },
   "outputs": [],
   "source": [
    "Lions = Lions.sort_index()"
   ]
  },
  {
   "cell_type": "code",
   "execution_count": 7,
   "metadata": {
    "scrolled": true
   },
   "outputs": [
    {
     "data": {
      "text/html": [
       "<div>\n",
       "<style>\n",
       "    .dataframe thead tr:only-child th {\n",
       "        text-align: right;\n",
       "    }\n",
       "\n",
       "    .dataframe thead th {\n",
       "        text-align: left;\n",
       "    }\n",
       "\n",
       "    .dataframe tbody tr th {\n",
       "        vertical-align: top;\n",
       "    }\n",
       "</style>\n",
       "<table border=\"1\" class=\"dataframe\">\n",
       "  <thead>\n",
       "    <tr style=\"text-align: right;\">\n",
       "      <th></th>\n",
       "      <th>Active</th>\n",
       "      <th>UA RegPilotPes</th>\n",
       "      <th>UA RegRdbakPes</th>\n",
       "      <th>pod_pilot_pres_podtrans</th>\n",
       "      <th>pod_supply_pres_podtrans</th>\n",
       "      <th>upper_ann_open_current</th>\n",
       "      <th>upper_ann_close_current</th>\n",
       "      <th>pod_2_adj</th>\n",
       "      <th>pod_1_adj</th>\n",
       "      <th>UA RegPilotPes_adj</th>\n",
       "      <th>UA RegRdbakPes_adj</th>\n",
       "      <th>pod_pilot_pres_podtrans_adj</th>\n",
       "      <th>pod_supply_pres_podtrans_adj</th>\n",
       "    </tr>\n",
       "    <tr>\n",
       "      <th>last_active_time</th>\n",
       "      <th></th>\n",
       "      <th></th>\n",
       "      <th></th>\n",
       "      <th></th>\n",
       "      <th></th>\n",
       "      <th></th>\n",
       "      <th></th>\n",
       "      <th></th>\n",
       "      <th></th>\n",
       "      <th></th>\n",
       "      <th></th>\n",
       "      <th></th>\n",
       "      <th></th>\n",
       "    </tr>\n",
       "  </thead>\n",
       "  <tbody>\n",
       "    <tr>\n",
       "      <th>2017-04-24 08:40:28</th>\n",
       "      <td>2</td>\n",
       "      <td>1363.050049</td>\n",
       "      <td>0.000000</td>\n",
       "      <td>3097.669922</td>\n",
       "      <td>3143.840088</td>\n",
       "      <td>223</td>\n",
       "      <td>0</td>\n",
       "      <td>0.0</td>\n",
       "      <td>0.0</td>\n",
       "      <td>1363.050049</td>\n",
       "      <td>0.000000</td>\n",
       "      <td>3097.669922</td>\n",
       "      <td>3143.840088</td>\n",
       "    </tr>\n",
       "    <tr>\n",
       "      <th>2017-04-24 08:40:36</th>\n",
       "      <td>2</td>\n",
       "      <td>2982.010010</td>\n",
       "      <td>3073.770020</td>\n",
       "      <td>4604.109863</td>\n",
       "      <td>4467.209961</td>\n",
       "      <td>223</td>\n",
       "      <td>0</td>\n",
       "      <td>0.0</td>\n",
       "      <td>0.0</td>\n",
       "      <td>2982.010010</td>\n",
       "      <td>3073.770020</td>\n",
       "      <td>4604.109863</td>\n",
       "      <td>4467.209961</td>\n",
       "    </tr>\n",
       "    <tr>\n",
       "      <th>2017-04-24 08:40:41</th>\n",
       "      <td>2</td>\n",
       "      <td>2969.149902</td>\n",
       "      <td>3073.770020</td>\n",
       "      <td>4604.109863</td>\n",
       "      <td>4535.520020</td>\n",
       "      <td>223</td>\n",
       "      <td>0</td>\n",
       "      <td>0.0</td>\n",
       "      <td>0.0</td>\n",
       "      <td>2969.149902</td>\n",
       "      <td>3073.770020</td>\n",
       "      <td>4604.109863</td>\n",
       "      <td>4535.520020</td>\n",
       "    </tr>\n",
       "    <tr>\n",
       "      <th>2017-04-24 08:40:46</th>\n",
       "      <td>2</td>\n",
       "      <td>2969.149902</td>\n",
       "      <td>3073.770020</td>\n",
       "      <td>4604.109863</td>\n",
       "      <td>4617.490234</td>\n",
       "      <td>223</td>\n",
       "      <td>0</td>\n",
       "      <td>0.0</td>\n",
       "      <td>0.0</td>\n",
       "      <td>2969.149902</td>\n",
       "      <td>3073.770020</td>\n",
       "      <td>4604.109863</td>\n",
       "      <td>4617.490234</td>\n",
       "    </tr>\n",
       "    <tr>\n",
       "      <th>2017-04-24 08:40:51</th>\n",
       "      <td>2</td>\n",
       "      <td>2943.439941</td>\n",
       "      <td>3060.110107</td>\n",
       "      <td>4604.109863</td>\n",
       "      <td>4617.490234</td>\n",
       "      <td>223</td>\n",
       "      <td>0</td>\n",
       "      <td>0.0</td>\n",
       "      <td>0.0</td>\n",
       "      <td>2943.439941</td>\n",
       "      <td>3060.110107</td>\n",
       "      <td>4604.109863</td>\n",
       "      <td>4617.490234</td>\n",
       "    </tr>\n",
       "  </tbody>\n",
       "</table>\n",
       "</div>"
      ],
      "text/plain": [
       "                     Active  UA RegPilotPes  UA RegRdbakPes  \\\n",
       "last_active_time                                              \n",
       "2017-04-24 08:40:28       2     1363.050049        0.000000   \n",
       "2017-04-24 08:40:36       2     2982.010010     3073.770020   \n",
       "2017-04-24 08:40:41       2     2969.149902     3073.770020   \n",
       "2017-04-24 08:40:46       2     2969.149902     3073.770020   \n",
       "2017-04-24 08:40:51       2     2943.439941     3060.110107   \n",
       "\n",
       "                     pod_pilot_pres_podtrans  pod_supply_pres_podtrans  \\\n",
       "last_active_time                                                         \n",
       "2017-04-24 08:40:28              3097.669922               3143.840088   \n",
       "2017-04-24 08:40:36              4604.109863               4467.209961   \n",
       "2017-04-24 08:40:41              4604.109863               4535.520020   \n",
       "2017-04-24 08:40:46              4604.109863               4617.490234   \n",
       "2017-04-24 08:40:51              4604.109863               4617.490234   \n",
       "\n",
       "                     upper_ann_open_current  upper_ann_close_current  \\\n",
       "last_active_time                                                       \n",
       "2017-04-24 08:40:28                     223                        0   \n",
       "2017-04-24 08:40:36                     223                        0   \n",
       "2017-04-24 08:40:41                     223                        0   \n",
       "2017-04-24 08:40:46                     223                        0   \n",
       "2017-04-24 08:40:51                     223                        0   \n",
       "\n",
       "                     pod_2_adj  pod_1_adj  UA RegPilotPes_adj  \\\n",
       "last_active_time                                                \n",
       "2017-04-24 08:40:28        0.0        0.0         1363.050049   \n",
       "2017-04-24 08:40:36        0.0        0.0         2982.010010   \n",
       "2017-04-24 08:40:41        0.0        0.0         2969.149902   \n",
       "2017-04-24 08:40:46        0.0        0.0         2969.149902   \n",
       "2017-04-24 08:40:51        0.0        0.0         2943.439941   \n",
       "\n",
       "                     UA RegRdbakPes_adj  pod_pilot_pres_podtrans_adj  \\\n",
       "last_active_time                                                       \n",
       "2017-04-24 08:40:28            0.000000                  3097.669922   \n",
       "2017-04-24 08:40:36         3073.770020                  4604.109863   \n",
       "2017-04-24 08:40:41         3073.770020                  4604.109863   \n",
       "2017-04-24 08:40:46         3073.770020                  4604.109863   \n",
       "2017-04-24 08:40:51         3060.110107                  4604.109863   \n",
       "\n",
       "                     pod_supply_pres_podtrans_adj  \n",
       "last_active_time                                   \n",
       "2017-04-24 08:40:28                   3143.840088  \n",
       "2017-04-24 08:40:36                   4467.209961  \n",
       "2017-04-24 08:40:41                   4535.520020  \n",
       "2017-04-24 08:40:46                   4617.490234  \n",
       "2017-04-24 08:40:51                   4617.490234  "
      ]
     },
     "execution_count": 7,
     "metadata": {},
     "output_type": "execute_result"
    }
   ],
   "source": [
    "Lions.head(5)"
   ]
  },
  {
   "cell_type": "code",
   "execution_count": 8,
   "metadata": {},
   "outputs": [
    {
     "data": {
      "text/html": [
       "<div>\n",
       "<style>\n",
       "    .dataframe thead tr:only-child th {\n",
       "        text-align: right;\n",
       "    }\n",
       "\n",
       "    .dataframe thead th {\n",
       "        text-align: left;\n",
       "    }\n",
       "\n",
       "    .dataframe tbody tr th {\n",
       "        vertical-align: top;\n",
       "    }\n",
       "</style>\n",
       "<table border=\"1\" class=\"dataframe\">\n",
       "  <thead>\n",
       "    <tr style=\"text-align: right;\">\n",
       "      <th></th>\n",
       "      <th>Active</th>\n",
       "      <th>UA RegPilotPes</th>\n",
       "      <th>UA RegRdbakPes</th>\n",
       "      <th>pod_pilot_pres_podtrans</th>\n",
       "      <th>pod_supply_pres_podtrans</th>\n",
       "      <th>upper_ann_open_current</th>\n",
       "      <th>upper_ann_close_current</th>\n",
       "      <th>pod_2_adj</th>\n",
       "      <th>pod_1_adj</th>\n",
       "      <th>UA RegPilotPes_adj</th>\n",
       "      <th>UA RegRdbakPes_adj</th>\n",
       "      <th>pod_pilot_pres_podtrans_adj</th>\n",
       "      <th>pod_supply_pres_podtrans_adj</th>\n",
       "    </tr>\n",
       "    <tr>\n",
       "      <th>last_active_time</th>\n",
       "      <th></th>\n",
       "      <th></th>\n",
       "      <th></th>\n",
       "      <th></th>\n",
       "      <th></th>\n",
       "      <th></th>\n",
       "      <th></th>\n",
       "      <th></th>\n",
       "      <th></th>\n",
       "      <th></th>\n",
       "      <th></th>\n",
       "      <th></th>\n",
       "      <th></th>\n",
       "    </tr>\n",
       "  </thead>\n",
       "  <tbody>\n",
       "    <tr>\n",
       "      <th>2017-04-24 08:40:28</th>\n",
       "      <td>2</td>\n",
       "      <td>1363.050049</td>\n",
       "      <td>0.000000</td>\n",
       "      <td>3097.669922</td>\n",
       "      <td>3143.840088</td>\n",
       "      <td>223</td>\n",
       "      <td>0</td>\n",
       "      <td>0.0</td>\n",
       "      <td>0.0</td>\n",
       "      <td>1363.050049</td>\n",
       "      <td>0.000000</td>\n",
       "      <td>3097.669922</td>\n",
       "      <td>3143.840088</td>\n",
       "    </tr>\n",
       "    <tr>\n",
       "      <th>2017-04-24 08:40:36</th>\n",
       "      <td>2</td>\n",
       "      <td>2982.010010</td>\n",
       "      <td>3073.770020</td>\n",
       "      <td>4604.109863</td>\n",
       "      <td>4467.209961</td>\n",
       "      <td>223</td>\n",
       "      <td>0</td>\n",
       "      <td>0.0</td>\n",
       "      <td>0.0</td>\n",
       "      <td>2982.010010</td>\n",
       "      <td>3073.770020</td>\n",
       "      <td>4604.109863</td>\n",
       "      <td>4467.209961</td>\n",
       "    </tr>\n",
       "    <tr>\n",
       "      <th>2017-04-24 08:40:41</th>\n",
       "      <td>2</td>\n",
       "      <td>2969.149902</td>\n",
       "      <td>3073.770020</td>\n",
       "      <td>4604.109863</td>\n",
       "      <td>4535.520020</td>\n",
       "      <td>223</td>\n",
       "      <td>0</td>\n",
       "      <td>0.0</td>\n",
       "      <td>0.0</td>\n",
       "      <td>2969.149902</td>\n",
       "      <td>3073.770020</td>\n",
       "      <td>4604.109863</td>\n",
       "      <td>4535.520020</td>\n",
       "    </tr>\n",
       "    <tr>\n",
       "      <th>2017-04-24 08:40:46</th>\n",
       "      <td>2</td>\n",
       "      <td>2969.149902</td>\n",
       "      <td>3073.770020</td>\n",
       "      <td>4604.109863</td>\n",
       "      <td>4617.490234</td>\n",
       "      <td>223</td>\n",
       "      <td>0</td>\n",
       "      <td>0.0</td>\n",
       "      <td>0.0</td>\n",
       "      <td>2969.149902</td>\n",
       "      <td>3073.770020</td>\n",
       "      <td>4604.109863</td>\n",
       "      <td>4617.490234</td>\n",
       "    </tr>\n",
       "    <tr>\n",
       "      <th>2017-04-24 08:40:51</th>\n",
       "      <td>2</td>\n",
       "      <td>2943.439941</td>\n",
       "      <td>3060.110107</td>\n",
       "      <td>4604.109863</td>\n",
       "      <td>4617.490234</td>\n",
       "      <td>223</td>\n",
       "      <td>0</td>\n",
       "      <td>0.0</td>\n",
       "      <td>0.0</td>\n",
       "      <td>2943.439941</td>\n",
       "      <td>3060.110107</td>\n",
       "      <td>4604.109863</td>\n",
       "      <td>4617.490234</td>\n",
       "    </tr>\n",
       "    <tr>\n",
       "      <th>2017-04-24 08:40:56</th>\n",
       "      <td>2</td>\n",
       "      <td>2943.439941</td>\n",
       "      <td>3060.110107</td>\n",
       "      <td>4604.109863</td>\n",
       "      <td>4617.490234</td>\n",
       "      <td>223</td>\n",
       "      <td>0</td>\n",
       "      <td>0.0</td>\n",
       "      <td>0.0</td>\n",
       "      <td>2943.439941</td>\n",
       "      <td>3060.110107</td>\n",
       "      <td>4604.109863</td>\n",
       "      <td>4617.490234</td>\n",
       "    </tr>\n",
       "    <tr>\n",
       "      <th>2017-04-24 08:41:01</th>\n",
       "      <td>2</td>\n",
       "      <td>2943.439941</td>\n",
       "      <td>3060.110107</td>\n",
       "      <td>4640.759766</td>\n",
       "      <td>4617.490234</td>\n",
       "      <td>223</td>\n",
       "      <td>0</td>\n",
       "      <td>0.0</td>\n",
       "      <td>0.0</td>\n",
       "      <td>2943.439941</td>\n",
       "      <td>3060.110107</td>\n",
       "      <td>4640.759766</td>\n",
       "      <td>4617.490234</td>\n",
       "    </tr>\n",
       "    <tr>\n",
       "      <th>2017-04-24 08:41:06</th>\n",
       "      <td>2</td>\n",
       "      <td>2943.439941</td>\n",
       "      <td>3060.110107</td>\n",
       "      <td>4640.759766</td>\n",
       "      <td>4617.490234</td>\n",
       "      <td>223</td>\n",
       "      <td>0</td>\n",
       "      <td>0.0</td>\n",
       "      <td>0.0</td>\n",
       "      <td>2943.439941</td>\n",
       "      <td>3060.110107</td>\n",
       "      <td>4640.759766</td>\n",
       "      <td>4617.490234</td>\n",
       "    </tr>\n",
       "    <tr>\n",
       "      <th>2017-04-24 08:41:07</th>\n",
       "      <td>2</td>\n",
       "      <td>2943.439941</td>\n",
       "      <td>3060.110107</td>\n",
       "      <td>4640.759766</td>\n",
       "      <td>4617.490234</td>\n",
       "      <td>223</td>\n",
       "      <td>0</td>\n",
       "      <td>0.0</td>\n",
       "      <td>0.0</td>\n",
       "      <td>2943.439941</td>\n",
       "      <td>3060.110107</td>\n",
       "      <td>4640.759766</td>\n",
       "      <td>4617.490234</td>\n",
       "    </tr>\n",
       "    <tr>\n",
       "      <th>2017-04-24 08:41:11</th>\n",
       "      <td>2</td>\n",
       "      <td>2943.439941</td>\n",
       "      <td>3060.110107</td>\n",
       "      <td>4640.759766</td>\n",
       "      <td>4617.490234</td>\n",
       "      <td>223</td>\n",
       "      <td>0</td>\n",
       "      <td>0.0</td>\n",
       "      <td>0.0</td>\n",
       "      <td>2943.439941</td>\n",
       "      <td>3060.110107</td>\n",
       "      <td>4640.759766</td>\n",
       "      <td>4617.490234</td>\n",
       "    </tr>\n",
       "    <tr>\n",
       "      <th>2017-04-24 08:41:12</th>\n",
       "      <td>2</td>\n",
       "      <td>2930.590088</td>\n",
       "      <td>3060.110107</td>\n",
       "      <td>4640.759766</td>\n",
       "      <td>4617.490234</td>\n",
       "      <td>223</td>\n",
       "      <td>0</td>\n",
       "      <td>0.0</td>\n",
       "      <td>0.0</td>\n",
       "      <td>2930.590088</td>\n",
       "      <td>3060.110107</td>\n",
       "      <td>4640.759766</td>\n",
       "      <td>4617.490234</td>\n",
       "    </tr>\n",
       "    <tr>\n",
       "      <th>2017-04-24 08:41:16</th>\n",
       "      <td>2</td>\n",
       "      <td>2930.590088</td>\n",
       "      <td>3060.110107</td>\n",
       "      <td>4640.759766</td>\n",
       "      <td>4617.490234</td>\n",
       "      <td>223</td>\n",
       "      <td>0</td>\n",
       "      <td>0.0</td>\n",
       "      <td>0.0</td>\n",
       "      <td>2930.590088</td>\n",
       "      <td>3060.110107</td>\n",
       "      <td>4640.759766</td>\n",
       "      <td>4617.490234</td>\n",
       "    </tr>\n",
       "    <tr>\n",
       "      <th>2017-04-24 08:41:21</th>\n",
       "      <td>2</td>\n",
       "      <td>2930.590088</td>\n",
       "      <td>3060.110107</td>\n",
       "      <td>4640.759766</td>\n",
       "      <td>4617.490234</td>\n",
       "      <td>223</td>\n",
       "      <td>0</td>\n",
       "      <td>0.0</td>\n",
       "      <td>0.0</td>\n",
       "      <td>2930.590088</td>\n",
       "      <td>3060.110107</td>\n",
       "      <td>4640.759766</td>\n",
       "      <td>4617.490234</td>\n",
       "    </tr>\n",
       "    <tr>\n",
       "      <th>2017-04-24 08:41:26</th>\n",
       "      <td>2</td>\n",
       "      <td>2930.590088</td>\n",
       "      <td>3060.110107</td>\n",
       "      <td>4640.759766</td>\n",
       "      <td>4617.490234</td>\n",
       "      <td>223</td>\n",
       "      <td>0</td>\n",
       "      <td>0.0</td>\n",
       "      <td>0.0</td>\n",
       "      <td>2930.590088</td>\n",
       "      <td>3060.110107</td>\n",
       "      <td>4640.759766</td>\n",
       "      <td>4617.490234</td>\n",
       "    </tr>\n",
       "    <tr>\n",
       "      <th>2017-04-24 08:41:31</th>\n",
       "      <td>2</td>\n",
       "      <td>2930.590088</td>\n",
       "      <td>3060.110107</td>\n",
       "      <td>4640.759766</td>\n",
       "      <td>4617.490234</td>\n",
       "      <td>223</td>\n",
       "      <td>0</td>\n",
       "      <td>0.0</td>\n",
       "      <td>0.0</td>\n",
       "      <td>2930.590088</td>\n",
       "      <td>3060.110107</td>\n",
       "      <td>4640.759766</td>\n",
       "      <td>4617.490234</td>\n",
       "    </tr>\n",
       "    <tr>\n",
       "      <th>2017-04-24 08:41:36</th>\n",
       "      <td>2</td>\n",
       "      <td>2930.590088</td>\n",
       "      <td>3060.110107</td>\n",
       "      <td>4640.759766</td>\n",
       "      <td>4617.490234</td>\n",
       "      <td>223</td>\n",
       "      <td>0</td>\n",
       "      <td>0.0</td>\n",
       "      <td>0.0</td>\n",
       "      <td>2930.590088</td>\n",
       "      <td>3060.110107</td>\n",
       "      <td>4640.759766</td>\n",
       "      <td>4617.490234</td>\n",
       "    </tr>\n",
       "    <tr>\n",
       "      <th>2017-04-24 08:41:41</th>\n",
       "      <td>2</td>\n",
       "      <td>2930.590088</td>\n",
       "      <td>3046.449951</td>\n",
       "      <td>4640.759766</td>\n",
       "      <td>4617.490234</td>\n",
       "      <td>223</td>\n",
       "      <td>0</td>\n",
       "      <td>0.0</td>\n",
       "      <td>0.0</td>\n",
       "      <td>2930.590088</td>\n",
       "      <td>3046.449951</td>\n",
       "      <td>4640.759766</td>\n",
       "      <td>4617.490234</td>\n",
       "    </tr>\n",
       "    <tr>\n",
       "      <th>2017-04-24 08:41:46</th>\n",
       "      <td>2</td>\n",
       "      <td>2917.739990</td>\n",
       "      <td>3046.449951</td>\n",
       "      <td>4640.759766</td>\n",
       "      <td>4617.490234</td>\n",
       "      <td>223</td>\n",
       "      <td>0</td>\n",
       "      <td>0.0</td>\n",
       "      <td>0.0</td>\n",
       "      <td>2917.739990</td>\n",
       "      <td>3046.449951</td>\n",
       "      <td>4640.759766</td>\n",
       "      <td>4617.490234</td>\n",
       "    </tr>\n",
       "    <tr>\n",
       "      <th>2017-04-24 08:41:51</th>\n",
       "      <td>2</td>\n",
       "      <td>2917.739990</td>\n",
       "      <td>3060.110107</td>\n",
       "      <td>4640.759766</td>\n",
       "      <td>4617.490234</td>\n",
       "      <td>223</td>\n",
       "      <td>0</td>\n",
       "      <td>0.0</td>\n",
       "      <td>0.0</td>\n",
       "      <td>2917.739990</td>\n",
       "      <td>3060.110107</td>\n",
       "      <td>4640.759766</td>\n",
       "      <td>4617.490234</td>\n",
       "    </tr>\n",
       "    <tr>\n",
       "      <th>2017-04-24 08:41:52</th>\n",
       "      <td>2</td>\n",
       "      <td>2917.739990</td>\n",
       "      <td>3060.110107</td>\n",
       "      <td>4640.759766</td>\n",
       "      <td>4617.490234</td>\n",
       "      <td>223</td>\n",
       "      <td>0</td>\n",
       "      <td>0.0</td>\n",
       "      <td>0.0</td>\n",
       "      <td>2917.739990</td>\n",
       "      <td>3060.110107</td>\n",
       "      <td>4640.759766</td>\n",
       "      <td>4617.490234</td>\n",
       "    </tr>\n",
       "  </tbody>\n",
       "</table>\n",
       "</div>"
      ],
      "text/plain": [
       "                     Active  UA RegPilotPes  UA RegRdbakPes  \\\n",
       "last_active_time                                              \n",
       "2017-04-24 08:40:28       2     1363.050049        0.000000   \n",
       "2017-04-24 08:40:36       2     2982.010010     3073.770020   \n",
       "2017-04-24 08:40:41       2     2969.149902     3073.770020   \n",
       "2017-04-24 08:40:46       2     2969.149902     3073.770020   \n",
       "2017-04-24 08:40:51       2     2943.439941     3060.110107   \n",
       "2017-04-24 08:40:56       2     2943.439941     3060.110107   \n",
       "2017-04-24 08:41:01       2     2943.439941     3060.110107   \n",
       "2017-04-24 08:41:06       2     2943.439941     3060.110107   \n",
       "2017-04-24 08:41:07       2     2943.439941     3060.110107   \n",
       "2017-04-24 08:41:11       2     2943.439941     3060.110107   \n",
       "2017-04-24 08:41:12       2     2930.590088     3060.110107   \n",
       "2017-04-24 08:41:16       2     2930.590088     3060.110107   \n",
       "2017-04-24 08:41:21       2     2930.590088     3060.110107   \n",
       "2017-04-24 08:41:26       2     2930.590088     3060.110107   \n",
       "2017-04-24 08:41:31       2     2930.590088     3060.110107   \n",
       "2017-04-24 08:41:36       2     2930.590088     3060.110107   \n",
       "2017-04-24 08:41:41       2     2930.590088     3046.449951   \n",
       "2017-04-24 08:41:46       2     2917.739990     3046.449951   \n",
       "2017-04-24 08:41:51       2     2917.739990     3060.110107   \n",
       "2017-04-24 08:41:52       2     2917.739990     3060.110107   \n",
       "\n",
       "                     pod_pilot_pres_podtrans  pod_supply_pres_podtrans  \\\n",
       "last_active_time                                                         \n",
       "2017-04-24 08:40:28              3097.669922               3143.840088   \n",
       "2017-04-24 08:40:36              4604.109863               4467.209961   \n",
       "2017-04-24 08:40:41              4604.109863               4535.520020   \n",
       "2017-04-24 08:40:46              4604.109863               4617.490234   \n",
       "2017-04-24 08:40:51              4604.109863               4617.490234   \n",
       "2017-04-24 08:40:56              4604.109863               4617.490234   \n",
       "2017-04-24 08:41:01              4640.759766               4617.490234   \n",
       "2017-04-24 08:41:06              4640.759766               4617.490234   \n",
       "2017-04-24 08:41:07              4640.759766               4617.490234   \n",
       "2017-04-24 08:41:11              4640.759766               4617.490234   \n",
       "2017-04-24 08:41:12              4640.759766               4617.490234   \n",
       "2017-04-24 08:41:16              4640.759766               4617.490234   \n",
       "2017-04-24 08:41:21              4640.759766               4617.490234   \n",
       "2017-04-24 08:41:26              4640.759766               4617.490234   \n",
       "2017-04-24 08:41:31              4640.759766               4617.490234   \n",
       "2017-04-24 08:41:36              4640.759766               4617.490234   \n",
       "2017-04-24 08:41:41              4640.759766               4617.490234   \n",
       "2017-04-24 08:41:46              4640.759766               4617.490234   \n",
       "2017-04-24 08:41:51              4640.759766               4617.490234   \n",
       "2017-04-24 08:41:52              4640.759766               4617.490234   \n",
       "\n",
       "                     upper_ann_open_current  upper_ann_close_current  \\\n",
       "last_active_time                                                       \n",
       "2017-04-24 08:40:28                     223                        0   \n",
       "2017-04-24 08:40:36                     223                        0   \n",
       "2017-04-24 08:40:41                     223                        0   \n",
       "2017-04-24 08:40:46                     223                        0   \n",
       "2017-04-24 08:40:51                     223                        0   \n",
       "2017-04-24 08:40:56                     223                        0   \n",
       "2017-04-24 08:41:01                     223                        0   \n",
       "2017-04-24 08:41:06                     223                        0   \n",
       "2017-04-24 08:41:07                     223                        0   \n",
       "2017-04-24 08:41:11                     223                        0   \n",
       "2017-04-24 08:41:12                     223                        0   \n",
       "2017-04-24 08:41:16                     223                        0   \n",
       "2017-04-24 08:41:21                     223                        0   \n",
       "2017-04-24 08:41:26                     223                        0   \n",
       "2017-04-24 08:41:31                     223                        0   \n",
       "2017-04-24 08:41:36                     223                        0   \n",
       "2017-04-24 08:41:41                     223                        0   \n",
       "2017-04-24 08:41:46                     223                        0   \n",
       "2017-04-24 08:41:51                     223                        0   \n",
       "2017-04-24 08:41:52                     223                        0   \n",
       "\n",
       "                     pod_2_adj  pod_1_adj  UA RegPilotPes_adj  \\\n",
       "last_active_time                                                \n",
       "2017-04-24 08:40:28        0.0        0.0         1363.050049   \n",
       "2017-04-24 08:40:36        0.0        0.0         2982.010010   \n",
       "2017-04-24 08:40:41        0.0        0.0         2969.149902   \n",
       "2017-04-24 08:40:46        0.0        0.0         2969.149902   \n",
       "2017-04-24 08:40:51        0.0        0.0         2943.439941   \n",
       "2017-04-24 08:40:56        0.0        0.0         2943.439941   \n",
       "2017-04-24 08:41:01        0.0        0.0         2943.439941   \n",
       "2017-04-24 08:41:06        0.0        0.0         2943.439941   \n",
       "2017-04-24 08:41:07        0.0        0.0         2943.439941   \n",
       "2017-04-24 08:41:11        0.0        0.0         2943.439941   \n",
       "2017-04-24 08:41:12        0.0        0.0         2930.590088   \n",
       "2017-04-24 08:41:16        0.0        0.0         2930.590088   \n",
       "2017-04-24 08:41:21        0.0        0.0         2930.590088   \n",
       "2017-04-24 08:41:26        0.0        0.0         2930.590088   \n",
       "2017-04-24 08:41:31        0.0        0.0         2930.590088   \n",
       "2017-04-24 08:41:36        0.0        0.0         2930.590088   \n",
       "2017-04-24 08:41:41        0.0        0.0         2930.590088   \n",
       "2017-04-24 08:41:46        0.0        0.0         2917.739990   \n",
       "2017-04-24 08:41:51        0.0        0.0         2917.739990   \n",
       "2017-04-24 08:41:52        0.0        0.0         2917.739990   \n",
       "\n",
       "                     UA RegRdbakPes_adj  pod_pilot_pres_podtrans_adj  \\\n",
       "last_active_time                                                       \n",
       "2017-04-24 08:40:28            0.000000                  3097.669922   \n",
       "2017-04-24 08:40:36         3073.770020                  4604.109863   \n",
       "2017-04-24 08:40:41         3073.770020                  4604.109863   \n",
       "2017-04-24 08:40:46         3073.770020                  4604.109863   \n",
       "2017-04-24 08:40:51         3060.110107                  4604.109863   \n",
       "2017-04-24 08:40:56         3060.110107                  4604.109863   \n",
       "2017-04-24 08:41:01         3060.110107                  4640.759766   \n",
       "2017-04-24 08:41:06         3060.110107                  4640.759766   \n",
       "2017-04-24 08:41:07         3060.110107                  4640.759766   \n",
       "2017-04-24 08:41:11         3060.110107                  4640.759766   \n",
       "2017-04-24 08:41:12         3060.110107                  4640.759766   \n",
       "2017-04-24 08:41:16         3060.110107                  4640.759766   \n",
       "2017-04-24 08:41:21         3060.110107                  4640.759766   \n",
       "2017-04-24 08:41:26         3060.110107                  4640.759766   \n",
       "2017-04-24 08:41:31         3060.110107                  4640.759766   \n",
       "2017-04-24 08:41:36         3060.110107                  4640.759766   \n",
       "2017-04-24 08:41:41         3046.449951                  4640.759766   \n",
       "2017-04-24 08:41:46         3046.449951                  4640.759766   \n",
       "2017-04-24 08:41:51         3060.110107                  4640.759766   \n",
       "2017-04-24 08:41:52         3060.110107                  4640.759766   \n",
       "\n",
       "                     pod_supply_pres_podtrans_adj  \n",
       "last_active_time                                   \n",
       "2017-04-24 08:40:28                   3143.840088  \n",
       "2017-04-24 08:40:36                   4467.209961  \n",
       "2017-04-24 08:40:41                   4535.520020  \n",
       "2017-04-24 08:40:46                   4617.490234  \n",
       "2017-04-24 08:40:51                   4617.490234  \n",
       "2017-04-24 08:40:56                   4617.490234  \n",
       "2017-04-24 08:41:01                   4617.490234  \n",
       "2017-04-24 08:41:06                   4617.490234  \n",
       "2017-04-24 08:41:07                   4617.490234  \n",
       "2017-04-24 08:41:11                   4617.490234  \n",
       "2017-04-24 08:41:12                   4617.490234  \n",
       "2017-04-24 08:41:16                   4617.490234  \n",
       "2017-04-24 08:41:21                   4617.490234  \n",
       "2017-04-24 08:41:26                   4617.490234  \n",
       "2017-04-24 08:41:31                   4617.490234  \n",
       "2017-04-24 08:41:36                   4617.490234  \n",
       "2017-04-24 08:41:41                   4617.490234  \n",
       "2017-04-24 08:41:46                   4617.490234  \n",
       "2017-04-24 08:41:51                   4617.490234  \n",
       "2017-04-24 08:41:52                   4617.490234  "
      ]
     },
     "execution_count": 8,
     "metadata": {},
     "output_type": "execute_result"
    }
   ],
   "source": [
    "Lions.head(20)"
   ]
  },
  {
   "cell_type": "code",
   "execution_count": 9,
   "metadata": {
    "collapsed": true
   },
   "outputs": [],
   "source": [
    "from matplotlib import pyplot\n",
    "from pandas.tseries.offsets import MonthEnd\n",
    "from datetime import datetime"
   ]
  },
  {
   "cell_type": "code",
   "execution_count": 10,
   "metadata": {
    "collapsed": true
   },
   "outputs": [],
   "source": [
    "# example: truncate rows before Mar 1\n",
    "#train = hornet[['pod_supply_pres_podtrans']].truncate(after='2017-05-11 8:48')\n",
    "#test = hornet[['pod_supply_pres_podtrans']].truncate(before='2017-05-11 8:48')\n",
    "\n",
    "#train = hornet[['UA RegRdbakPes']].truncate(after='2017-05-11 8:48')\n",
    "#test = hornet[['UA RegRdbakPes']].truncate(before='2017-05-11 8:48')\n",
    "##\n",
    "#UA RegPilotPes                         float64\n",
    "#UA RegRdbakPes                         float64\n",
    "#pod_pilot_pres_podtrans                float64\n",
    "#pod_supply_pres_podtrans               float64\n",
    "#upper_ann_open_current                   int64\n",
    "#upper_ann_close_current                  int64\n",
    "#pod_2_adj                              float64\n",
    "#pod_1_adj                              float64\n",
    "##UA RegPilotPes_adj                     float64\n",
    "##UA RegRdbakPes_adj                     float64\n",
    "##pod_pilot_pres_podtrans_adj            float64\n",
    "##pod_supply_pres_podtrans_adj           float64\n",
    "\n",
    "\n",
    "train = Lions[['pod_pilot_pres_podtrans_adj']].truncate(after='2017-06-11 8:48')\n",
    "test = Lions[['pod_pilot_pres_podtrans_adj']].truncate(before='2017-06-11 8:48')"
   ]
  },
  {
   "cell_type": "code",
   "execution_count": 11,
   "metadata": {
    "collapsed": true
   },
   "outputs": [],
   "source": [
    "a4_dims = (16, 8.27)"
   ]
  },
  {
   "cell_type": "code",
   "execution_count": 12,
   "metadata": {
    "scrolled": true
   },
   "outputs": [
    {
     "data": {
      "text/plain": [
       "<matplotlib.legend.Legend at 0xc1f9550>"
      ]
     },
     "execution_count": 12,
     "metadata": {},
     "output_type": "execute_result"
    },
    {
     "data": {
      "image/png": "[encoded data removed]",
      "text/plain": [
       "<matplotlib.figure.Figure at 0x6045fd0>"
      ]
     },
     "metadata": {},
     "output_type": "display_data"
    }
   ],
   "source": [
    "#fig, ax = plt.subplots(figsize=a4_dims)\n",
    "ax = train.plot()\n",
    "test.plot(ax=ax, figsize=a4_dims)\n",
    "plt.legend(['train','test'])"
   ]
  },
  {
   "cell_type": "code",
   "execution_count": 13,
   "metadata": {},
   "outputs": [
    {
     "data": {
      "text/plain": [
       "(932586, 1)"
      ]
     },
     "execution_count": 13,
     "metadata": {},
     "output_type": "execute_result"
    }
   ],
   "source": [
    "train.shape"
   ]
  },
  {
   "cell_type": "code",
   "execution_count": 14,
   "metadata": {
    "collapsed": true
   },
   "outputs": [],
   "source": [
    "# scaling \n",
    "from sklearn.preprocessing import MinMaxScaler"
   ]
  },
  {
   "cell_type": "code",
   "execution_count": 15,
   "metadata": {
    "collapsed": true
   },
   "outputs": [],
   "source": [
    "sc = MinMaxScaler()"
   ]
  },
  {
   "cell_type": "code",
   "execution_count": 16,
   "metadata": {
    "collapsed": true
   },
   "outputs": [],
   "source": [
    "train_sc = sc.fit_transform(train)\n",
    "test_sc = sc.transform(test)"
   ]
  },
  {
   "cell_type": "code",
   "execution_count": 17,
   "metadata": {},
   "outputs": [
    {
     "data": {
      "text/plain": [
       "array([[ 0.23519126],\n",
       "       [ 0.81648044],\n",
       "       [ 0.81648044],\n",
       "       [ 0.81648044],\n",
       "       [ 0.81648044]])"
      ]
     },
     "execution_count": 17,
     "metadata": {},
     "output_type": "execute_result"
    }
   ],
   "source": [
    "train_sc[:5]\n",
    "#train_sc"
   ]
  },
  {
   "cell_type": "code",
   "execution_count": 18,
   "metadata": {},
   "outputs": [
    {
     "data": {
      "text/plain": [
       "array([[ 0.16580432],\n",
       "       [ 0.16580432],\n",
       "       [ 0.16580432],\n",
       "       ..., \n",
       "       [ 0.25847847],\n",
       "       [ 0.25847847],\n",
       "       [ 0.25847847]])"
      ]
     },
     "execution_count": 18,
     "metadata": {},
     "output_type": "execute_result"
    }
   ],
   "source": [
    "test_sc"
   ]
  },
  {
   "cell_type": "code",
   "execution_count": 19,
   "metadata": {
    "collapsed": true
   },
   "outputs": [],
   "source": [
    "X_train = train_sc[:-1]\n",
    "y_train = train_sc[1:] ## slicing\n",
    " \n",
    "X_test = test_sc[:-1]\n",
    "y_test = test_sc[1:]"
   ]
  },
  {
   "cell_type": "code",
   "execution_count": 20,
   "metadata": {},
   "outputs": [
    {
     "data": {
      "text/plain": [
       "(932586, 1)"
      ]
     },
     "execution_count": 20,
     "metadata": {},
     "output_type": "execute_result"
    }
   ],
   "source": [
    "train_sc.shape"
   ]
  },
  {
   "cell_type": "code",
   "execution_count": 21,
   "metadata": {
    "collapsed": true
   },
   "outputs": [],
   "source": [
    "train_sc_df = pd.DataFrame(train_sc, columns = ['Scaled'], \n",
    "                           index= train.index)\n",
    "test_sc_df = pd.DataFrame(test_sc, columns = ['Scaled'], \n",
    "                          index= test.index)"
   ]
  },
  {
   "cell_type": "code",
   "execution_count": 22,
   "metadata": {
    "scrolled": true
   },
   "outputs": [
    {
     "data": {
      "text/html": [
       "<div>\n",
       "<style>\n",
       "    .dataframe thead tr:only-child th {\n",
       "        text-align: right;\n",
       "    }\n",
       "\n",
       "    .dataframe thead th {\n",
       "        text-align: left;\n",
       "    }\n",
       "\n",
       "    .dataframe tbody tr th {\n",
       "        vertical-align: top;\n",
       "    }\n",
       "</style>\n",
       "<table border=\"1\" class=\"dataframe\">\n",
       "  <thead>\n",
       "    <tr style=\"text-align: right;\">\n",
       "      <th></th>\n",
       "      <th>Scaled</th>\n",
       "    </tr>\n",
       "    <tr>\n",
       "      <th>last_active_time</th>\n",
       "      <th></th>\n",
       "    </tr>\n",
       "  </thead>\n",
       "  <tbody>\n",
       "    <tr>\n",
       "      <th>2017-04-24 08:40:28</th>\n",
       "      <td>0.235191</td>\n",
       "    </tr>\n",
       "    <tr>\n",
       "      <th>2017-04-24 08:40:36</th>\n",
       "      <td>0.816480</td>\n",
       "    </tr>\n",
       "    <tr>\n",
       "      <th>2017-04-24 08:40:41</th>\n",
       "      <td>0.816480</td>\n",
       "    </tr>\n",
       "    <tr>\n",
       "      <th>2017-04-24 08:40:46</th>\n",
       "      <td>0.816480</td>\n",
       "    </tr>\n",
       "    <tr>\n",
       "      <th>2017-04-24 08:40:51</th>\n",
       "      <td>0.816480</td>\n",
       "    </tr>\n",
       "  </tbody>\n",
       "</table>\n",
       "</div>"
      ],
      "text/plain": [
       "                       Scaled\n",
       "last_active_time             \n",
       "2017-04-24 08:40:28  0.235191\n",
       "2017-04-24 08:40:36  0.816480\n",
       "2017-04-24 08:40:41  0.816480\n",
       "2017-04-24 08:40:46  0.816480\n",
       "2017-04-24 08:40:51  0.816480"
      ]
     },
     "execution_count": 22,
     "metadata": {},
     "output_type": "execute_result"
    }
   ],
   "source": [
    "train_sc_df.head()"
   ]
  },
  {
   "cell_type": "code",
   "execution_count": 23,
   "metadata": {
    "collapsed": true
   },
   "outputs": [],
   "source": [
    "#>> ?? \n",
    "for s in range(1,50):\n",
    "    train_sc_df['shift_{}'.format(s)] = train_sc_df['Scaled'].shift(s)\n",
    "    test_sc_df['shift_{}'.format(s)] = test_sc_df['Scaled'].shift(s)"
   ]
  },
  {
   "cell_type": "code",
   "execution_count": 24,
   "metadata": {
    "scrolled": true
   },
   "outputs": [
    {
     "data": {
      "text/html": [
       "<div>\n",
       "<style>\n",
       "    .dataframe thead tr:only-child th {\n",
       "        text-align: right;\n",
       "    }\n",
       "\n",
       "    .dataframe thead th {\n",
       "        text-align: left;\n",
       "    }\n",
       "\n",
       "    .dataframe tbody tr th {\n",
       "        vertical-align: top;\n",
       "    }\n",
       "</style>\n",
       "<table border=\"1\" class=\"dataframe\">\n",
       "  <thead>\n",
       "    <tr style=\"text-align: right;\">\n",
       "      <th></th>\n",
       "      <th>Scaled</th>\n",
       "      <th>shift_1</th>\n",
       "      <th>shift_2</th>\n",
       "      <th>shift_3</th>\n",
       "      <th>shift_4</th>\n",
       "      <th>shift_5</th>\n",
       "      <th>shift_6</th>\n",
       "      <th>shift_7</th>\n",
       "      <th>shift_8</th>\n",
       "      <th>shift_9</th>\n",
       "      <th>...</th>\n",
       "      <th>shift_40</th>\n",
       "      <th>shift_41</th>\n",
       "      <th>shift_42</th>\n",
       "      <th>shift_43</th>\n",
       "      <th>shift_44</th>\n",
       "      <th>shift_45</th>\n",
       "      <th>shift_46</th>\n",
       "      <th>shift_47</th>\n",
       "      <th>shift_48</th>\n",
       "      <th>shift_49</th>\n",
       "    </tr>\n",
       "    <tr>\n",
       "      <th>last_active_time</th>\n",
       "      <th></th>\n",
       "      <th></th>\n",
       "      <th></th>\n",
       "      <th></th>\n",
       "      <th></th>\n",
       "      <th></th>\n",
       "      <th></th>\n",
       "      <th></th>\n",
       "      <th></th>\n",
       "      <th></th>\n",
       "      <th></th>\n",
       "      <th></th>\n",
       "      <th></th>\n",
       "      <th></th>\n",
       "      <th></th>\n",
       "      <th></th>\n",
       "      <th></th>\n",
       "      <th></th>\n",
       "      <th></th>\n",
       "      <th></th>\n",
       "      <th></th>\n",
       "    </tr>\n",
       "  </thead>\n",
       "  <tbody>\n",
       "    <tr>\n",
       "      <th>2017-04-24 08:40:28</th>\n",
       "      <td>0.235191</td>\n",
       "      <td>NaN</td>\n",
       "      <td>NaN</td>\n",
       "      <td>NaN</td>\n",
       "      <td>NaN</td>\n",
       "      <td>NaN</td>\n",
       "      <td>NaN</td>\n",
       "      <td>NaN</td>\n",
       "      <td>NaN</td>\n",
       "      <td>NaN</td>\n",
       "      <td>...</td>\n",
       "      <td>NaN</td>\n",
       "      <td>NaN</td>\n",
       "      <td>NaN</td>\n",
       "      <td>NaN</td>\n",
       "      <td>NaN</td>\n",
       "      <td>NaN</td>\n",
       "      <td>NaN</td>\n",
       "      <td>NaN</td>\n",
       "      <td>NaN</td>\n",
       "      <td>NaN</td>\n",
       "    </tr>\n",
       "    <tr>\n",
       "      <th>2017-04-24 08:40:36</th>\n",
       "      <td>0.816480</td>\n",
       "      <td>0.235191</td>\n",
       "      <td>NaN</td>\n",
       "      <td>NaN</td>\n",
       "      <td>NaN</td>\n",
       "      <td>NaN</td>\n",
       "      <td>NaN</td>\n",
       "      <td>NaN</td>\n",
       "      <td>NaN</td>\n",
       "      <td>NaN</td>\n",
       "      <td>...</td>\n",
       "      <td>NaN</td>\n",
       "      <td>NaN</td>\n",
       "      <td>NaN</td>\n",
       "      <td>NaN</td>\n",
       "      <td>NaN</td>\n",
       "      <td>NaN</td>\n",
       "      <td>NaN</td>\n",
       "      <td>NaN</td>\n",
       "      <td>NaN</td>\n",
       "      <td>NaN</td>\n",
       "    </tr>\n",
       "    <tr>\n",
       "      <th>2017-04-24 08:40:41</th>\n",
       "      <td>0.816480</td>\n",
       "      <td>0.816480</td>\n",
       "      <td>0.235191</td>\n",
       "      <td>NaN</td>\n",
       "      <td>NaN</td>\n",
       "      <td>NaN</td>\n",
       "      <td>NaN</td>\n",
       "      <td>NaN</td>\n",
       "      <td>NaN</td>\n",
       "      <td>NaN</td>\n",
       "      <td>...</td>\n",
       "      <td>NaN</td>\n",
       "      <td>NaN</td>\n",
       "      <td>NaN</td>\n",
       "      <td>NaN</td>\n",
       "      <td>NaN</td>\n",
       "      <td>NaN</td>\n",
       "      <td>NaN</td>\n",
       "      <td>NaN</td>\n",
       "      <td>NaN</td>\n",
       "      <td>NaN</td>\n",
       "    </tr>\n",
       "    <tr>\n",
       "      <th>2017-04-24 08:40:46</th>\n",
       "      <td>0.816480</td>\n",
       "      <td>0.816480</td>\n",
       "      <td>0.816480</td>\n",
       "      <td>0.235191</td>\n",
       "      <td>NaN</td>\n",
       "      <td>NaN</td>\n",
       "      <td>NaN</td>\n",
       "      <td>NaN</td>\n",
       "      <td>NaN</td>\n",
       "      <td>NaN</td>\n",
       "      <td>...</td>\n",
       "      <td>NaN</td>\n",
       "      <td>NaN</td>\n",
       "      <td>NaN</td>\n",
       "      <td>NaN</td>\n",
       "      <td>NaN</td>\n",
       "      <td>NaN</td>\n",
       "      <td>NaN</td>\n",
       "      <td>NaN</td>\n",
       "      <td>NaN</td>\n",
       "      <td>NaN</td>\n",
       "    </tr>\n",
       "    <tr>\n",
       "      <th>2017-04-24 08:40:51</th>\n",
       "      <td>0.816480</td>\n",
       "      <td>0.816480</td>\n",
       "      <td>0.816480</td>\n",
       "      <td>0.816480</td>\n",
       "      <td>0.235191</td>\n",
       "      <td>NaN</td>\n",
       "      <td>NaN</td>\n",
       "      <td>NaN</td>\n",
       "      <td>NaN</td>\n",
       "      <td>NaN</td>\n",
       "      <td>...</td>\n",
       "      <td>NaN</td>\n",
       "      <td>NaN</td>\n",
       "      <td>NaN</td>\n",
       "      <td>NaN</td>\n",
       "      <td>NaN</td>\n",
       "      <td>NaN</td>\n",
       "      <td>NaN</td>\n",
       "      <td>NaN</td>\n",
       "      <td>NaN</td>\n",
       "      <td>NaN</td>\n",
       "    </tr>\n",
       "    <tr>\n",
       "      <th>2017-04-24 08:40:56</th>\n",
       "      <td>0.816480</td>\n",
       "      <td>0.816480</td>\n",
       "      <td>0.816480</td>\n",
       "      <td>0.816480</td>\n",
       "      <td>0.816480</td>\n",
       "      <td>0.235191</td>\n",
       "      <td>NaN</td>\n",
       "      <td>NaN</td>\n",
       "      <td>NaN</td>\n",
       "      <td>NaN</td>\n",
       "      <td>...</td>\n",
       "      <td>NaN</td>\n",
       "      <td>NaN</td>\n",
       "      <td>NaN</td>\n",
       "      <td>NaN</td>\n",
       "      <td>NaN</td>\n",
       "      <td>NaN</td>\n",
       "      <td>NaN</td>\n",
       "      <td>NaN</td>\n",
       "      <td>NaN</td>\n",
       "      <td>NaN</td>\n",
       "    </tr>\n",
       "    <tr>\n",
       "      <th>2017-04-24 08:41:01</th>\n",
       "      <td>0.830623</td>\n",
       "      <td>0.816480</td>\n",
       "      <td>0.816480</td>\n",
       "      <td>0.816480</td>\n",
       "      <td>0.816480</td>\n",
       "      <td>0.816480</td>\n",
       "      <td>0.235191</td>\n",
       "      <td>NaN</td>\n",
       "      <td>NaN</td>\n",
       "      <td>NaN</td>\n",
       "      <td>...</td>\n",
       "      <td>NaN</td>\n",
       "      <td>NaN</td>\n",
       "      <td>NaN</td>\n",
       "      <td>NaN</td>\n",
       "      <td>NaN</td>\n",
       "      <td>NaN</td>\n",
       "      <td>NaN</td>\n",
       "      <td>NaN</td>\n",
       "      <td>NaN</td>\n",
       "      <td>NaN</td>\n",
       "    </tr>\n",
       "    <tr>\n",
       "      <th>2017-04-24 08:41:06</th>\n",
       "      <td>0.830623</td>\n",
       "      <td>0.830623</td>\n",
       "      <td>0.816480</td>\n",
       "      <td>0.816480</td>\n",
       "      <td>0.816480</td>\n",
       "      <td>0.816480</td>\n",
       "      <td>0.816480</td>\n",
       "      <td>0.235191</td>\n",
       "      <td>NaN</td>\n",
       "      <td>NaN</td>\n",
       "      <td>...</td>\n",
       "      <td>NaN</td>\n",
       "      <td>NaN</td>\n",
       "      <td>NaN</td>\n",
       "      <td>NaN</td>\n",
       "      <td>NaN</td>\n",
       "      <td>NaN</td>\n",
       "      <td>NaN</td>\n",
       "      <td>NaN</td>\n",
       "      <td>NaN</td>\n",
       "      <td>NaN</td>\n",
       "    </tr>\n",
       "    <tr>\n",
       "      <th>2017-04-24 08:41:07</th>\n",
       "      <td>0.830623</td>\n",
       "      <td>0.830623</td>\n",
       "      <td>0.830623</td>\n",
       "      <td>0.816480</td>\n",
       "      <td>0.816480</td>\n",
       "      <td>0.816480</td>\n",
       "      <td>0.816480</td>\n",
       "      <td>0.816480</td>\n",
       "      <td>0.235191</td>\n",
       "      <td>NaN</td>\n",
       "      <td>...</td>\n",
       "      <td>NaN</td>\n",
       "      <td>NaN</td>\n",
       "      <td>NaN</td>\n",
       "      <td>NaN</td>\n",
       "      <td>NaN</td>\n",
       "      <td>NaN</td>\n",
       "      <td>NaN</td>\n",
       "      <td>NaN</td>\n",
       "      <td>NaN</td>\n",
       "      <td>NaN</td>\n",
       "    </tr>\n",
       "    <tr>\n",
       "      <th>2017-04-24 08:41:11</th>\n",
       "      <td>0.830623</td>\n",
       "      <td>0.830623</td>\n",
       "      <td>0.830623</td>\n",
       "      <td>0.830623</td>\n",
       "      <td>0.816480</td>\n",
       "      <td>0.816480</td>\n",
       "      <td>0.816480</td>\n",
       "      <td>0.816480</td>\n",
       "      <td>0.816480</td>\n",
       "      <td>0.235191</td>\n",
       "      <td>...</td>\n",
       "      <td>NaN</td>\n",
       "      <td>NaN</td>\n",
       "      <td>NaN</td>\n",
       "      <td>NaN</td>\n",
       "      <td>NaN</td>\n",
       "      <td>NaN</td>\n",
       "      <td>NaN</td>\n",
       "      <td>NaN</td>\n",
       "      <td>NaN</td>\n",
       "      <td>NaN</td>\n",
       "    </tr>\n",
       "    <tr>\n",
       "      <th>2017-04-24 08:41:12</th>\n",
       "      <td>0.830623</td>\n",
       "      <td>0.830623</td>\n",
       "      <td>0.830623</td>\n",
       "      <td>0.830623</td>\n",
       "      <td>0.830623</td>\n",
       "      <td>0.816480</td>\n",
       "      <td>0.816480</td>\n",
       "      <td>0.816480</td>\n",
       "      <td>0.816480</td>\n",
       "      <td>0.816480</td>\n",
       "      <td>...</td>\n",
       "      <td>NaN</td>\n",
       "      <td>NaN</td>\n",
       "      <td>NaN</td>\n",
       "      <td>NaN</td>\n",
       "      <td>NaN</td>\n",
       "      <td>NaN</td>\n",
       "      <td>NaN</td>\n",
       "      <td>NaN</td>\n",
       "      <td>NaN</td>\n",
       "      <td>NaN</td>\n",
       "    </tr>\n",
       "    <tr>\n",
       "      <th>2017-04-24 08:41:16</th>\n",
       "      <td>0.830623</td>\n",
       "      <td>0.830623</td>\n",
       "      <td>0.830623</td>\n",
       "      <td>0.830623</td>\n",
       "      <td>0.830623</td>\n",
       "      <td>0.830623</td>\n",
       "      <td>0.816480</td>\n",
       "      <td>0.816480</td>\n",
       "      <td>0.816480</td>\n",
       "      <td>0.816480</td>\n",
       "      <td>...</td>\n",
       "      <td>NaN</td>\n",
       "      <td>NaN</td>\n",
       "      <td>NaN</td>\n",
       "      <td>NaN</td>\n",
       "      <td>NaN</td>\n",
       "      <td>NaN</td>\n",
       "      <td>NaN</td>\n",
       "      <td>NaN</td>\n",
       "      <td>NaN</td>\n",
       "      <td>NaN</td>\n",
       "    </tr>\n",
       "    <tr>\n",
       "      <th>2017-04-24 08:41:21</th>\n",
       "      <td>0.830623</td>\n",
       "      <td>0.830623</td>\n",
       "      <td>0.830623</td>\n",
       "      <td>0.830623</td>\n",
       "      <td>0.830623</td>\n",
       "      <td>0.830623</td>\n",
       "      <td>0.830623</td>\n",
       "      <td>0.816480</td>\n",
       "      <td>0.816480</td>\n",
       "      <td>0.816480</td>\n",
       "      <td>...</td>\n",
       "      <td>NaN</td>\n",
       "      <td>NaN</td>\n",
       "      <td>NaN</td>\n",
       "      <td>NaN</td>\n",
       "      <td>NaN</td>\n",
       "      <td>NaN</td>\n",
       "      <td>NaN</td>\n",
       "      <td>NaN</td>\n",
       "      <td>NaN</td>\n",
       "      <td>NaN</td>\n",
       "    </tr>\n",
       "  </tbody>\n",
       "</table>\n",
       "<p>13 rows × 50 columns</p>\n",
       "</div>"
      ],
      "text/plain": [
       "                       Scaled   shift_1   shift_2   shift_3   shift_4  \\\n",
       "last_active_time                                                        \n",
       "2017-04-24 08:40:28  0.235191       NaN       NaN       NaN       NaN   \n",
       "2017-04-24 08:40:36  0.816480  0.235191       NaN       NaN       NaN   \n",
       "2017-04-24 08:40:41  0.816480  0.816480  0.235191       NaN       NaN   \n",
       "2017-04-24 08:40:46  0.816480  0.816480  0.816480  0.235191       NaN   \n",
       "2017-04-24 08:40:51  0.816480  0.816480  0.816480  0.816480  0.235191   \n",
       "2017-04-24 08:40:56  0.816480  0.816480  0.816480  0.816480  0.816480   \n",
       "2017-04-24 08:41:01  0.830623  0.816480  0.816480  0.816480  0.816480   \n",
       "2017-04-24 08:41:06  0.830623  0.830623  0.816480  0.816480  0.816480   \n",
       "2017-04-24 08:41:07  0.830623  0.830623  0.830623  0.816480  0.816480   \n",
       "2017-04-24 08:41:11  0.830623  0.830623  0.830623  0.830623  0.816480   \n",
       "2017-04-24 08:41:12  0.830623  0.830623  0.830623  0.830623  0.830623   \n",
       "2017-04-24 08:41:16  0.830623  0.830623  0.830623  0.830623  0.830623   \n",
       "2017-04-24 08:41:21  0.830623  0.830623  0.830623  0.830623  0.830623   \n",
       "\n",
       "                      shift_5   shift_6   shift_7   shift_8   shift_9  \\\n",
       "last_active_time                                                        \n",
       "2017-04-24 08:40:28       NaN       NaN       NaN       NaN       NaN   \n",
       "2017-04-24 08:40:36       NaN       NaN       NaN       NaN       NaN   \n",
       "2017-04-24 08:40:41       NaN       NaN       NaN       NaN       NaN   \n",
       "2017-04-24 08:40:46       NaN       NaN       NaN       NaN       NaN   \n",
       "2017-04-24 08:40:51       NaN       NaN       NaN       NaN       NaN   \n",
       "2017-04-24 08:40:56  0.235191       NaN       NaN       NaN       NaN   \n",
       "2017-04-24 08:41:01  0.816480  0.235191       NaN       NaN       NaN   \n",
       "2017-04-24 08:41:06  0.816480  0.816480  0.235191       NaN       NaN   \n",
       "2017-04-24 08:41:07  0.816480  0.816480  0.816480  0.235191       NaN   \n",
       "2017-04-24 08:41:11  0.816480  0.816480  0.816480  0.816480  0.235191   \n",
       "2017-04-24 08:41:12  0.816480  0.816480  0.816480  0.816480  0.816480   \n",
       "2017-04-24 08:41:16  0.830623  0.816480  0.816480  0.816480  0.816480   \n",
       "2017-04-24 08:41:21  0.830623  0.830623  0.816480  0.816480  0.816480   \n",
       "\n",
       "                       ...     shift_40  shift_41  shift_42  shift_43  \\\n",
       "last_active_time       ...                                              \n",
       "2017-04-24 08:40:28    ...          NaN       NaN       NaN       NaN   \n",
       "2017-04-24 08:40:36    ...          NaN       NaN       NaN       NaN   \n",
       "2017-04-24 08:40:41    ...          NaN       NaN       NaN       NaN   \n",
       "2017-04-24 08:40:46    ...          NaN       NaN       NaN       NaN   \n",
       "2017-04-24 08:40:51    ...          NaN       NaN       NaN       NaN   \n",
       "2017-04-24 08:40:56    ...          NaN       NaN       NaN       NaN   \n",
       "2017-04-24 08:41:01    ...          NaN       NaN       NaN       NaN   \n",
       "2017-04-24 08:41:06    ...          NaN       NaN       NaN       NaN   \n",
       "2017-04-24 08:41:07    ...          NaN       NaN       NaN       NaN   \n",
       "2017-04-24 08:41:11    ...          NaN       NaN       NaN       NaN   \n",
       "2017-04-24 08:41:12    ...          NaN       NaN       NaN       NaN   \n",
       "2017-04-24 08:41:16    ...          NaN       NaN       NaN       NaN   \n",
       "2017-04-24 08:41:21    ...          NaN       NaN       NaN       NaN   \n",
       "\n",
       "                     shift_44  shift_45  shift_46  shift_47  shift_48  \\\n",
       "last_active_time                                                        \n",
       "2017-04-24 08:40:28       NaN       NaN       NaN       NaN       NaN   \n",
       "2017-04-24 08:40:36       NaN       NaN       NaN       NaN       NaN   \n",
       "2017-04-24 08:40:41       NaN       NaN       NaN       NaN       NaN   \n",
       "2017-04-24 08:40:46       NaN       NaN       NaN       NaN       NaN   \n",
       "2017-04-24 08:40:51       NaN       NaN       NaN       NaN       NaN   \n",
       "2017-04-24 08:40:56       NaN       NaN       NaN       NaN       NaN   \n",
       "2017-04-24 08:41:01       NaN       NaN       NaN       NaN       NaN   \n",
       "2017-04-24 08:41:06       NaN       NaN       NaN       NaN       NaN   \n",
       "2017-04-24 08:41:07       NaN       NaN       NaN       NaN       NaN   \n",
       "2017-04-24 08:41:11       NaN       NaN       NaN       NaN       NaN   \n",
       "2017-04-24 08:41:12       NaN       NaN       NaN       NaN       NaN   \n",
       "2017-04-24 08:41:16       NaN       NaN       NaN       NaN       NaN   \n",
       "2017-04-24 08:41:21       NaN       NaN       NaN       NaN       NaN   \n",
       "\n",
       "                     shift_49  \n",
       "last_active_time               \n",
       "2017-04-24 08:40:28       NaN  \n",
       "2017-04-24 08:40:36       NaN  \n",
       "2017-04-24 08:40:41       NaN  \n",
       "2017-04-24 08:40:46       NaN  \n",
       "2017-04-24 08:40:51       NaN  \n",
       "2017-04-24 08:40:56       NaN  \n",
       "2017-04-24 08:41:01       NaN  \n",
       "2017-04-24 08:41:06       NaN  \n",
       "2017-04-24 08:41:07       NaN  \n",
       "2017-04-24 08:41:11       NaN  \n",
       "2017-04-24 08:41:12       NaN  \n",
       "2017-04-24 08:41:16       NaN  \n",
       "2017-04-24 08:41:21       NaN  \n",
       "\n",
       "[13 rows x 50 columns]"
      ]
     },
     "execution_count": 24,
     "metadata": {},
     "output_type": "execute_result"
    }
   ],
   "source": [
    "train_sc_df.head(13)"
   ]
  },
  {
   "cell_type": "code",
   "execution_count": 25,
   "metadata": {
    "collapsed": true
   },
   "outputs": [],
   "source": [
    "##\n",
    "X_train = train_sc_df.dropna().drop('Scaled', axis=1)\n",
    "y_train = train_sc_df.dropna()[['Scaled']]\n",
    "\n",
    "X_test = test_sc_df.dropna().drop('Scaled', axis=1)\n",
    "y_test = test_sc_df.dropna()[['Scaled']]"
   ]
  },
  {
   "cell_type": "code",
   "execution_count": 26,
   "metadata": {
    "scrolled": true
   },
   "outputs": [
    {
     "data": {
      "text/html": [
       "<div>\n",
       "<style>\n",
       "    .dataframe thead tr:only-child th {\n",
       "        text-align: right;\n",
       "    }\n",
       "\n",
       "    .dataframe thead th {\n",
       "        text-align: left;\n",
       "    }\n",
       "\n",
       "    .dataframe tbody tr th {\n",
       "        vertical-align: top;\n",
       "    }\n",
       "</style>\n",
       "<table border=\"1\" class=\"dataframe\">\n",
       "  <thead>\n",
       "    <tr style=\"text-align: right;\">\n",
       "      <th></th>\n",
       "      <th>shift_1</th>\n",
       "      <th>shift_2</th>\n",
       "      <th>shift_3</th>\n",
       "      <th>shift_4</th>\n",
       "      <th>shift_5</th>\n",
       "      <th>shift_6</th>\n",
       "      <th>shift_7</th>\n",
       "      <th>shift_8</th>\n",
       "      <th>shift_9</th>\n",
       "      <th>shift_10</th>\n",
       "      <th>...</th>\n",
       "      <th>shift_40</th>\n",
       "      <th>shift_41</th>\n",
       "      <th>shift_42</th>\n",
       "      <th>shift_43</th>\n",
       "      <th>shift_44</th>\n",
       "      <th>shift_45</th>\n",
       "      <th>shift_46</th>\n",
       "      <th>shift_47</th>\n",
       "      <th>shift_48</th>\n",
       "      <th>shift_49</th>\n",
       "    </tr>\n",
       "    <tr>\n",
       "      <th>last_active_time</th>\n",
       "      <th></th>\n",
       "      <th></th>\n",
       "      <th></th>\n",
       "      <th></th>\n",
       "      <th></th>\n",
       "      <th></th>\n",
       "      <th></th>\n",
       "      <th></th>\n",
       "      <th></th>\n",
       "      <th></th>\n",
       "      <th></th>\n",
       "      <th></th>\n",
       "      <th></th>\n",
       "      <th></th>\n",
       "      <th></th>\n",
       "      <th></th>\n",
       "      <th></th>\n",
       "      <th></th>\n",
       "      <th></th>\n",
       "      <th></th>\n",
       "      <th></th>\n",
       "    </tr>\n",
       "  </thead>\n",
       "  <tbody>\n",
       "    <tr>\n",
       "      <th>2017-04-24 08:44:14</th>\n",
       "      <td>0.802335</td>\n",
       "      <td>0.802335</td>\n",
       "      <td>0.802335</td>\n",
       "      <td>0.802335</td>\n",
       "      <td>0.802335</td>\n",
       "      <td>0.802335</td>\n",
       "      <td>0.802335</td>\n",
       "      <td>0.802335</td>\n",
       "      <td>0.802335</td>\n",
       "      <td>0.802335</td>\n",
       "      <td>...</td>\n",
       "      <td>0.830623</td>\n",
       "      <td>0.830623</td>\n",
       "      <td>0.830623</td>\n",
       "      <td>0.830623</td>\n",
       "      <td>0.816480</td>\n",
       "      <td>0.816480</td>\n",
       "      <td>0.816480</td>\n",
       "      <td>0.816480</td>\n",
       "      <td>0.81648</td>\n",
       "      <td>0.235191</td>\n",
       "    </tr>\n",
       "    <tr>\n",
       "      <th>2017-04-24 08:44:18</th>\n",
       "      <td>0.802335</td>\n",
       "      <td>0.802335</td>\n",
       "      <td>0.802335</td>\n",
       "      <td>0.802335</td>\n",
       "      <td>0.802335</td>\n",
       "      <td>0.802335</td>\n",
       "      <td>0.802335</td>\n",
       "      <td>0.802335</td>\n",
       "      <td>0.802335</td>\n",
       "      <td>0.802335</td>\n",
       "      <td>...</td>\n",
       "      <td>0.830623</td>\n",
       "      <td>0.830623</td>\n",
       "      <td>0.830623</td>\n",
       "      <td>0.830623</td>\n",
       "      <td>0.830623</td>\n",
       "      <td>0.816480</td>\n",
       "      <td>0.816480</td>\n",
       "      <td>0.816480</td>\n",
       "      <td>0.81648</td>\n",
       "      <td>0.816480</td>\n",
       "    </tr>\n",
       "    <tr>\n",
       "      <th>2017-04-24 08:44:23</th>\n",
       "      <td>0.802335</td>\n",
       "      <td>0.802335</td>\n",
       "      <td>0.802335</td>\n",
       "      <td>0.802335</td>\n",
       "      <td>0.802335</td>\n",
       "      <td>0.802335</td>\n",
       "      <td>0.802335</td>\n",
       "      <td>0.802335</td>\n",
       "      <td>0.802335</td>\n",
       "      <td>0.802335</td>\n",
       "      <td>...</td>\n",
       "      <td>0.830623</td>\n",
       "      <td>0.830623</td>\n",
       "      <td>0.830623</td>\n",
       "      <td>0.830623</td>\n",
       "      <td>0.830623</td>\n",
       "      <td>0.830623</td>\n",
       "      <td>0.816480</td>\n",
       "      <td>0.816480</td>\n",
       "      <td>0.81648</td>\n",
       "      <td>0.816480</td>\n",
       "    </tr>\n",
       "    <tr>\n",
       "      <th>2017-04-24 08:44:28</th>\n",
       "      <td>0.802335</td>\n",
       "      <td>0.802335</td>\n",
       "      <td>0.802335</td>\n",
       "      <td>0.802335</td>\n",
       "      <td>0.802335</td>\n",
       "      <td>0.802335</td>\n",
       "      <td>0.802335</td>\n",
       "      <td>0.802335</td>\n",
       "      <td>0.802335</td>\n",
       "      <td>0.802335</td>\n",
       "      <td>...</td>\n",
       "      <td>0.830623</td>\n",
       "      <td>0.830623</td>\n",
       "      <td>0.830623</td>\n",
       "      <td>0.830623</td>\n",
       "      <td>0.830623</td>\n",
       "      <td>0.830623</td>\n",
       "      <td>0.830623</td>\n",
       "      <td>0.816480</td>\n",
       "      <td>0.81648</td>\n",
       "      <td>0.816480</td>\n",
       "    </tr>\n",
       "    <tr>\n",
       "      <th>2017-04-24 08:44:30</th>\n",
       "      <td>0.802335</td>\n",
       "      <td>0.802335</td>\n",
       "      <td>0.802335</td>\n",
       "      <td>0.802335</td>\n",
       "      <td>0.802335</td>\n",
       "      <td>0.802335</td>\n",
       "      <td>0.802335</td>\n",
       "      <td>0.802335</td>\n",
       "      <td>0.802335</td>\n",
       "      <td>0.802335</td>\n",
       "      <td>...</td>\n",
       "      <td>0.830623</td>\n",
       "      <td>0.830623</td>\n",
       "      <td>0.830623</td>\n",
       "      <td>0.830623</td>\n",
       "      <td>0.830623</td>\n",
       "      <td>0.830623</td>\n",
       "      <td>0.830623</td>\n",
       "      <td>0.830623</td>\n",
       "      <td>0.81648</td>\n",
       "      <td>0.816480</td>\n",
       "    </tr>\n",
       "  </tbody>\n",
       "</table>\n",
       "<p>5 rows × 49 columns</p>\n",
       "</div>"
      ],
      "text/plain": [
       "                      shift_1   shift_2   shift_3   shift_4   shift_5  \\\n",
       "last_active_time                                                        \n",
       "2017-04-24 08:44:14  0.802335  0.802335  0.802335  0.802335  0.802335   \n",
       "2017-04-24 08:44:18  0.802335  0.802335  0.802335  0.802335  0.802335   \n",
       "2017-04-24 08:44:23  0.802335  0.802335  0.802335  0.802335  0.802335   \n",
       "2017-04-24 08:44:28  0.802335  0.802335  0.802335  0.802335  0.802335   \n",
       "2017-04-24 08:44:30  0.802335  0.802335  0.802335  0.802335  0.802335   \n",
       "\n",
       "                      shift_6   shift_7   shift_8   shift_9  shift_10  \\\n",
       "last_active_time                                                        \n",
       "2017-04-24 08:44:14  0.802335  0.802335  0.802335  0.802335  0.802335   \n",
       "2017-04-24 08:44:18  0.802335  0.802335  0.802335  0.802335  0.802335   \n",
       "2017-04-24 08:44:23  0.802335  0.802335  0.802335  0.802335  0.802335   \n",
       "2017-04-24 08:44:28  0.802335  0.802335  0.802335  0.802335  0.802335   \n",
       "2017-04-24 08:44:30  0.802335  0.802335  0.802335  0.802335  0.802335   \n",
       "\n",
       "                       ...     shift_40  shift_41  shift_42  shift_43  \\\n",
       "last_active_time       ...                                              \n",
       "2017-04-24 08:44:14    ...     0.830623  0.830623  0.830623  0.830623   \n",
       "2017-04-24 08:44:18    ...     0.830623  0.830623  0.830623  0.830623   \n",
       "2017-04-24 08:44:23    ...     0.830623  0.830623  0.830623  0.830623   \n",
       "2017-04-24 08:44:28    ...     0.830623  0.830623  0.830623  0.830623   \n",
       "2017-04-24 08:44:30    ...     0.830623  0.830623  0.830623  0.830623   \n",
       "\n",
       "                     shift_44  shift_45  shift_46  shift_47  shift_48  \\\n",
       "last_active_time                                                        \n",
       "2017-04-24 08:44:14  0.816480  0.816480  0.816480  0.816480   0.81648   \n",
       "2017-04-24 08:44:18  0.830623  0.816480  0.816480  0.816480   0.81648   \n",
       "2017-04-24 08:44:23  0.830623  0.830623  0.816480  0.816480   0.81648   \n",
       "2017-04-24 08:44:28  0.830623  0.830623  0.830623  0.816480   0.81648   \n",
       "2017-04-24 08:44:30  0.830623  0.830623  0.830623  0.830623   0.81648   \n",
       "\n",
       "                     shift_49  \n",
       "last_active_time               \n",
       "2017-04-24 08:44:14  0.235191  \n",
       "2017-04-24 08:44:18  0.816480  \n",
       "2017-04-24 08:44:23  0.816480  \n",
       "2017-04-24 08:44:28  0.816480  \n",
       "2017-04-24 08:44:30  0.816480  \n",
       "\n",
       "[5 rows x 49 columns]"
      ]
     },
     "execution_count": 26,
     "metadata": {},
     "output_type": "execute_result"
    }
   ],
   "source": [
    "X_train.head()"
   ]
  },
  {
   "cell_type": "code",
   "execution_count": 27,
   "metadata": {},
   "outputs": [
    {
     "data": {
      "text/plain": [
       "(932537, 49)"
      ]
     },
     "execution_count": 27,
     "metadata": {},
     "output_type": "execute_result"
    }
   ],
   "source": [
    "X_train.shape"
   ]
  },
  {
   "cell_type": "code",
   "execution_count": 28,
   "metadata": {
    "collapsed": true
   },
   "outputs": [],
   "source": [
    "X_train = X_train.values\n",
    "X_test = X_test.values\n",
    "\n",
    "y_train = y_train.values\n",
    "y_test = y_test.values"
   ]
  },
  {
   "cell_type": "code",
   "execution_count": 29,
   "metadata": {},
   "outputs": [
    {
     "name": "stderr",
     "output_type": "stream",
     "text": [
      "Using TensorFlow backend.\n"
     ]
    }
   ],
   "source": [
    "import keras"
   ]
  },
  {
   "cell_type": "code",
   "execution_count": 30,
   "metadata": {
    "collapsed": true
   },
   "outputs": [],
   "source": [
    "from keras.models import Sequential\n",
    "from keras.layers import Dense\n",
    "from keras.optimizers import Adam, Adagrad\n",
    "import keras.backend as K\n",
    "from keras.layers import LSTM\n",
    "from keras.callbacks import EarlyStopping"
   ]
  },
  {
   "cell_type": "code",
   "execution_count": 37,
   "metadata": {
    "collapsed": true
   },
   "outputs": [],
   "source": [
    "Sequential?"
   ]
  },
  {
   "cell_type": "code",
   "execution_count": 31,
   "metadata": {
    "collapsed": true
   },
   "outputs": [],
   "source": [
    "early_stop = EarlyStopping(monitor = 'loss', patience=1, verbose=1)"
   ]
  },
  {
   "cell_type": "code",
   "execution_count": 35,
   "metadata": {},
   "outputs": [
    {
     "ename": "ValueError",
     "evalue": "cannot reshape array of size 45694313 into shape (932537,1,99)",
     "output_type": "error",
     "traceback": [
      "\u001b[1;31m---------------------------------------------------------------------------\u001b[0m",
      "\u001b[1;31mValueError\u001b[0m                                Traceback (most recent call last)",
      "\u001b[1;32m<ipython-input-35-cdd6f1638b8a>\u001b[0m in \u001b[0;36m<module>\u001b[1;34m()\u001b[0m\n\u001b[0;32m      5\u001b[0m \u001b[1;33m\u001b[0m\u001b[0m\n\u001b[0;32m      6\u001b[0m \u001b[1;31m# Change 1\u001b[0m\u001b[1;33m\u001b[0m\u001b[1;33m\u001b[0m\u001b[0m\n\u001b[1;32m----> 7\u001b[1;33m \u001b[0mX_train_t\u001b[0m \u001b[1;33m=\u001b[0m \u001b[0mX_train\u001b[0m\u001b[1;33m.\u001b[0m\u001b[0mreshape\u001b[0m\u001b[1;33m(\u001b[0m\u001b[0mX_train\u001b[0m\u001b[1;33m.\u001b[0m\u001b[0mshape\u001b[0m\u001b[1;33m[\u001b[0m\u001b[1;36m0\u001b[0m\u001b[1;33m]\u001b[0m\u001b[1;33m,\u001b[0m \u001b[1;36m1\u001b[0m\u001b[1;33m,\u001b[0m \u001b[1;36m99\u001b[0m\u001b[1;33m)\u001b[0m \u001b[1;31m##### 1 min tuke 49 min! IOT! IOT! Predicted(normal) vs\u001b[0m\u001b[1;33m\u001b[0m\u001b[0m\n\u001b[0m\u001b[0;32m      8\u001b[0m \u001b[0mX_test_t\u001b[0m \u001b[1;33m=\u001b[0m \u001b[0mX_test\u001b[0m\u001b[1;33m.\u001b[0m\u001b[0mreshape\u001b[0m\u001b[1;33m(\u001b[0m\u001b[0mX_test\u001b[0m\u001b[1;33m.\u001b[0m\u001b[0mshape\u001b[0m\u001b[1;33m[\u001b[0m\u001b[1;36m0\u001b[0m\u001b[1;33m]\u001b[0m\u001b[1;33m,\u001b[0m \u001b[1;36m1\u001b[0m\u001b[1;33m,\u001b[0m \u001b[1;36m99\u001b[0m\u001b[1;33m)\u001b[0m \u001b[1;31m#### 1, 49, MVP1-hornet, MVP1-Lions, MVP1- Marsek!\u001b[0m\u001b[1;33m\u001b[0m\u001b[0m\n\u001b[0;32m      9\u001b[0m \u001b[1;33m\u001b[0m\u001b[0m\n",
      "\u001b[1;31mValueError\u001b[0m: cannot reshape array of size 45694313 into shape (932537,1,99)"
     ]
    }
   ],
   "source": [
    "#******* LSTM on Windows\n",
    "#Original\n",
    "#X_train_t = X_train.reshape(X_train.shape[0], 1, 49) ##### 1 min tuke 49 min! IOT! IOT! Predicted(normal) vs  \n",
    "#X_test_t = X_test.reshape(X_test.shape[0], 1, 49) #### 1, 49, MVP1-hornet, MVP1-Lions, MVP1- Marsek! \n",
    "\n",
    "# Change 1\n",
    "X_train_t = X_train.reshape(X_train.shape[0], 1, 49) ##### 1 min tuke 49 min! IOT! IOT! Predicted(normal) vs  \n",
    "X_test_t = X_test.reshape(X_test.shape[0], 1, 49) #### 1, 49, MVP1-hornet, MVP1-Lions, MVP1- Marsek!   \n",
    "\n",
    "#Regression model: v1,v2,v3,v4,v5\n",
    "# V1+v2+v3+v4+v5 ~ V6 (multivaiant regression model) \n",
    "# Train normal data (): Clustering model []\n",
    "0,1,2 [clustering] #use normal data i.e. rows with 0 for regression,\n",
    "# Filter out data with 0 label. Use this this filtered data to train.\n",
    "# get all rows labled, \n",
    "# Even after filtering: try clean the data.\n",
    "# After training the model y ~  "
   ]
  },
  {
   "cell_type": "code",
   "execution_count": 106,
   "metadata": {},
   "outputs": [
    {
     "data": {
      "text/plain": [
       "(932537, 1, 49)"
      ]
     },
     "execution_count": 106,
     "metadata": {},
     "output_type": "execute_result"
    }
   ],
   "source": [
    "X_train_t.shape"
   ]
  },
  {
   "cell_type": "code",
   "execution_count": 107,
   "metadata": {},
   "outputs": [
    {
     "data": {
      "text/plain": [
       "array([[[ 0.8023346 ,  0.8023346 ,  0.8023346 , ...,  0.81648044,\n",
       "          0.81648044,  0.23519126]],\n",
       "\n",
       "       [[ 0.8023346 ,  0.8023346 ,  0.8023346 , ...,  0.81648044,\n",
       "          0.81648044,  0.81648044]],\n",
       "\n",
       "       [[ 0.8023346 ,  0.8023346 ,  0.8023346 , ...,  0.81648044,\n",
       "          0.81648044,  0.81648044]],\n",
       "\n",
       "       ..., \n",
       "       [[ 0.16580432,  0.16580432,  0.16580432, ...,  0.16580432,\n",
       "          0.16580432,  0.16580432]],\n",
       "\n",
       "       [[ 0.16580432,  0.16580432,  0.16580432, ...,  0.16580432,\n",
       "          0.16580432,  0.16580432]],\n",
       "\n",
       "       [[ 0.16580432,  0.16580432,  0.16580432, ...,  0.16580432,\n",
       "          0.16580432,  0.16580432]]])"
      ]
     },
     "execution_count": 107,
     "metadata": {},
     "output_type": "execute_result"
    }
   ],
   "source": [
    "X_train_t"
   ]
  },
  {
   "cell_type": "code",
   "execution_count": 108,
   "metadata": {
    "collapsed": true
   },
   "outputs": [],
   "source": [
    "K.clear_session()\n",
    "model = Sequential()"
   ]
  },
  {
   "cell_type": "code",
   "execution_count": 109,
   "metadata": {
    "collapsed": true
   },
   "outputs": [],
   "source": [
    "model.add(LSTM(49, input_shape=(1,49)))"
   ]
  },
  {
   "cell_type": "code",
   "execution_count": 110,
   "metadata": {
    "collapsed": true
   },
   "outputs": [],
   "source": [
    "model.add(Dense(1))"
   ]
  },
  {
   "cell_type": "code",
   "execution_count": 111,
   "metadata": {},
   "outputs": [
    {
     "name": "stdout",
     "output_type": "stream",
     "text": [
      "_________________________________________________________________\n",
      "Layer (type)                 Output Shape              Param #   \n",
      "=================================================================\n",
      "lstm_1 (LSTM)                (None, 49)                19404     \n",
      "_________________________________________________________________\n",
      "dense_1 (Dense)              (None, 1)                 50        \n",
      "=================================================================\n",
      "Total params: 19,454\n",
      "Trainable params: 19,454\n",
      "Non-trainable params: 0\n",
      "_________________________________________________________________\n"
     ]
    }
   ],
   "source": [
    "model.summary()"
   ]
  },
  {
   "cell_type": "code",
   "execution_count": 112,
   "metadata": {
    "collapsed": true
   },
   "outputs": [],
   "source": [
    "model.compile(loss='mean_squared_error', optimizer='adam', metrics=['accuracy'])"
   ]
  },
  {
   "cell_type": "code",
   "execution_count": 47,
   "metadata": {
    "collapsed": true
   },
   "outputs": [],
   "source": [
    "#model.fit?"
   ]
  },
  {
   "cell_type": "code",
   "execution_count": 113,
   "metadata": {
    "scrolled": true
   },
   "outputs": [
    {
     "name": "stdout",
     "output_type": "stream",
     "text": [
      "Epoch 1/100\n",
      "932537/932537 [==============================] - 53s 57us/step - loss: 1.1847e-04 - acc: 4.6540e-04\n",
      "Epoch 2/100\n",
      "932537/932537 [==============================] - 50s 54us/step - loss: 7.1490e-06 - acc: 4.6540e-04\n",
      "Epoch 3/100\n",
      "932537/932537 [==============================] - 50s 54us/step - loss: 5.9598e-06 - acc: 4.6540e-04\n",
      "Epoch 4/100\n",
      "932537/932537 [==============================] - 50s 54us/step - loss: 5.2166e-06 - acc: 4.6540e-04\n",
      "Epoch 5/100\n",
      "932537/932537 [==============================] - 50s 53us/step - loss: 4.7938e-06 - acc: 4.6540e-04\n",
      "Epoch 6/100\n",
      "932537/932537 [==============================] - 50s 54us/step - loss: 4.5388e-06 - acc: 4.6540e-04\n",
      "Epoch 7/100\n",
      "932537/932537 [==============================] - 50s 54us/step - loss: 4.3243e-06 - acc: 4.6540e-04\n",
      "Epoch 8/100\n",
      "932537/932537 [==============================] - 49s 53us/step - loss: 4.2566e-06 - acc: 4.6540e-04\n",
      "Epoch 9/100\n",
      "932537/932537 [==============================] - 48s 52us/step - loss: 4.1258e-06 - acc: 4.6540e-04\n",
      "Epoch 10/100\n",
      "932537/932537 [==============================] - 50s 54us/step - loss: 3.8520e-06 - acc: 4.6540e-04\n",
      "Epoch 11/100\n",
      "932537/932537 [==============================] - 45s 49us/step - loss: 3.7478e-06 - acc: 4.6540e-04\n",
      "Epoch 12/100\n",
      "932537/932537 [==============================] - 43s 47us/step - loss: 3.6781e-06 - acc: 4.6540e-04\n",
      "Epoch 13/100\n",
      "932537/932537 [==============================] - 43s 46us/step - loss: 3.5840e-06 - acc: 4.6540e-04\n",
      "Epoch 14/100\n",
      "932537/932537 [==============================] - 44s 47us/step - loss: 3.7240e-06 - acc: 4.6540e-04\n",
      "Epoch 00014: early stopping\n"
     ]
    },
    {
     "data": {
      "text/plain": [
       "<keras.callbacks.History at 0x7eb49160>"
      ]
     },
     "execution_count": 113,
     "metadata": {},
     "output_type": "execute_result"
    }
   ],
   "source": [
    "## Model fitting \n",
    "model.fit(X_train_t, y_train, epochs = 100, batch_size=64, \n",
    "          verbose=1, callbacks=[early_stop])\n",
    "# Validation missing?\n"
   ]
  },
  {
   "cell_type": "code",
   "execution_count": 114,
   "metadata": {
    "collapsed": true
   },
   "outputs": [],
   "source": [
    "y_pred = model.predict(X_test_t)"
   ]
  },
  {
   "cell_type": "code",
   "execution_count": 78,
   "metadata": {},
   "outputs": [
    {
     "data": {
      "text/plain": [
       "[<matplotlib.lines.Line2D at 0x5e66f1d0>]"
      ]
     },
     "execution_count": 78,
     "metadata": {},
     "output_type": "execute_result"
    },
    {
     "data": {
      "image/png": "[encoded data removed]",
      "text/plain": [
       "<matplotlib.figure.Figure at 0x63934ac8>"
      ]
     },
     "metadata": {},
     "output_type": "display_data"
    }
   ],
   "source": [
    "#plot(y_test[1500:1630], color = 'RED')\n",
    "plt.plot(y_test[:], color = 'RED')"
   ]
  },
  {
   "cell_type": "code",
   "execution_count": 79,
   "metadata": {
    "scrolled": true
   },
   "outputs": [
    {
     "data": {
      "text/plain": [
       "[<matplotlib.lines.Line2D at 0x5e1f12e8>]"
      ]
     },
     "execution_count": 79,
     "metadata": {},
     "output_type": "execute_result"
    },
    {
     "data": {
      "image/png": "[encoded data removed]",
      "text/plain": [
       "<matplotlib.figure.Figure at 0x601ef198>"
      ]
     },
     "metadata": {},
     "output_type": "display_data"
    }
   ],
   "source": [
    "#plt.plot(y_pred[1500:1630])\n",
    "plt.plot(y_pred[:])"
   ]
  },
  {
   "cell_type": "code",
   "execution_count": 80,
   "metadata": {
    "collapsed": true
   },
   "outputs": [],
   "source": [
    "y_test_inv_t = sc.inverse_transform(y_test)\n",
    "y_pred_inv_t = sc.inverse_transform(y_pred)\n",
    "\n",
    "Y_TEST = pd.DataFrame(y_test_inv_t, columns = ['event_count'],index= test[49:].index)\n",
    "Y_PRED = pd.DataFrame(y_pred_inv_t, columns = ['event_count'],index= test[49:].index) "
   ]
  },
  {
   "cell_type": "code",
   "execution_count": 81,
   "metadata": {
    "collapsed": true
   },
   "outputs": [],
   "source": [
    "a4_dims = (16, 8.27)"
   ]
  },
  {
   "cell_type": "code",
   "execution_count": 82,
   "metadata": {},
   "outputs": [
    {
     "data": {
      "text/plain": [
       "<matplotlib.legend.Legend at 0x60213ac8>"
      ]
     },
     "execution_count": 82,
     "metadata": {},
     "output_type": "execute_result"
    },
    {
     "data": {
      "image/png": "[encoded data removed]",
      "text/plain": [
       "<matplotlib.figure.Figure at 0x5e66fb38>"
      ]
     },
     "metadata": {},
     "output_type": "display_data"
    }
   ],
   "source": [
    "#ax = Y_TEST[1500:1630].plot()\n",
    "#Y_PRED[1500:1630].plot(ax=ax, figsize=a4_dims)\n",
    "ax = Y_TEST[:].plot()\n",
    "Y_PRED[:].plot(ax=ax, figsize=a4_dims)\n",
    "plt.legend(['Y_TEST','Y_PRED'])"
   ]
  },
  {
   "cell_type": "code",
   "execution_count": 83,
   "metadata": {
    "collapsed": true
   },
   "outputs": [],
   "source": [
    "Y_TEST.to_csv(\"Run1_y_test_PSPP_UA RegRdbakPes_adj.csv\", sep=\",\", encoding='utf-8')\n",
    "Y_PRED.to_csv(\"Run1_y_pred_PSPP_UA RegRdbakPes_adj.csv\", sep=\",\", encoding='utf-8')"
   ]
  },
  {
   "cell_type": "code",
   "execution_count": null,
   "metadata": {
    "collapsed": true
   },
   "outputs": [],
   "source": []
  },
  {
   "cell_type": "code",
   "execution_count": null,
   "metadata": {
    "collapsed": true
   },
   "outputs": [],
   "source": []
  },
  {
   "cell_type": "code",
   "execution_count": null,
   "metadata": {
    "collapsed": true
   },
   "outputs": [],
   "source": []
  }
 ],
 "metadata": {
  "kernelspec": {
   "display_name": "Python 3",
   "language": "python",
   "name": "python3"
  },
  "language_info": {
   "codemirror_mode": {
    "name": "ipython",
    "version": 3
   },
   "file_extension": ".py",
   "mimetype": "text/x-python",
   "name": "python",
   "nbconvert_exporter": "python",
   "pygments_lexer": "ipython3",
   "version": "3.6.3"
  }
 },
 "nbformat": 4,
 "nbformat_minor": 2
}
