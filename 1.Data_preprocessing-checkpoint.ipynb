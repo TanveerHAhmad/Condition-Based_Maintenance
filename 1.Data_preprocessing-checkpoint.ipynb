{
 "cells": [
  {
   "cell_type": "code",
   "execution_count": 1,
   "metadata": {},
   "outputs": [],
   "source": [
    "import pandas as pd\n",
    "import numpy as np"
   ]
  },
  {
   "cell_type": "code",
   "execution_count": 3,
   "metadata": {},
   "outputs": [],
   "source": [
    "#############################################\n",
    "######## Hornet Data Train - preprocessing###\n",
    "#############################################\n",
    "hornet_dataset_train = pd.read_excel(r'HORNET_PressureTags_2017_04_15_to_2017_06_01.xlsx')\n",
    "hornet_data_upper_annular = hornet_dataset_train[['last_active_time','Active','upper_ann_open_current','upper_ann_close_current','UA RegPilotPes','UA RegRdbakPes','pod_pilot_pres_podtrans','pod_supply_pres_podtrans', 'pod_1_adj', 'pod_2_adj']]"
   ]
  },
  {
   "cell_type": "code",
   "execution_count": 6,
   "metadata": {},
   "outputs": [
    {
     "data": {
      "text/html": [
       "<div>\n",
       "<style scoped>\n",
       "    .dataframe tbody tr th:only-of-type {\n",
       "        vertical-align: middle;\n",
       "    }\n",
       "\n",
       "    .dataframe tbody tr th {\n",
       "        vertical-align: top;\n",
       "    }\n",
       "\n",
       "    .dataframe thead th {\n",
       "        text-align: right;\n",
       "    }\n",
       "</style>\n",
       "<table border=\"1\" class=\"dataframe\">\n",
       "  <thead>\n",
       "    <tr style=\"text-align: right;\">\n",
       "      <th></th>\n",
       "      <th>last_active_time</th>\n",
       "      <th>Active</th>\n",
       "      <th>LA Open Current</th>\n",
       "      <th>LA RegRdbakPes</th>\n",
       "      <th>LA RegPilotPes</th>\n",
       "      <th>UA RegPilotPes</th>\n",
       "      <th>UA RegRdbakPes</th>\n",
       "      <th>pod_pilot_pres_podtrans</th>\n",
       "      <th>pod_supply_pres_podtrans</th>\n",
       "      <th>lower_ann_open_current</th>\n",
       "      <th>lower_ann_close_current</th>\n",
       "      <th>upper_ann_open_current</th>\n",
       "      <th>upper_ann_close_current</th>\n",
       "      <th>Pod1 Total1</th>\n",
       "      <th>Pod1 Total2</th>\n",
       "      <th>Pod2 Total1</th>\n",
       "      <th>Pod2 Total2</th>\n",
       "      <th>user_entered_reference_pres_podtrans</th>\n",
       "      <th>pod_1_adj</th>\n",
       "      <th>pod_2_adj</th>\n",
       "    </tr>\n",
       "  </thead>\n",
       "  <tbody>\n",
       "    <tr>\n",
       "      <th>0</th>\n",
       "      <td>2017-04-15 08:46:40</td>\n",
       "      <td>1</td>\n",
       "      <td>238</td>\n",
       "      <td>3551.830078</td>\n",
       "      <td>3407.360107</td>\n",
       "      <td>3269.750000</td>\n",
       "      <td>3285.540039</td>\n",
       "      <td>4968.430176</td>\n",
       "      <td>4981.879883</td>\n",
       "      <td>238</td>\n",
       "      <td>1</td>\n",
       "      <td>240</td>\n",
       "      <td>1</td>\n",
       "      <td>4122.350098</td>\n",
       "      <td>0</td>\n",
       "      <td>878.780029</td>\n",
       "      <td>6682.919922</td>\n",
       "      <td>0</td>\n",
       "      <td>1836.160034</td>\n",
       "      <td>1841.359985</td>\n",
       "    </tr>\n",
       "    <tr>\n",
       "      <th>1</th>\n",
       "      <td>2017-04-15 08:46:51</td>\n",
       "      <td>1</td>\n",
       "      <td>238</td>\n",
       "      <td>3414.629883</td>\n",
       "      <td>3274.110107</td>\n",
       "      <td>3474.110107</td>\n",
       "      <td>3528.679932</td>\n",
       "      <td>4968.430176</td>\n",
       "      <td>4855.069824</td>\n",
       "      <td>238</td>\n",
       "      <td>1</td>\n",
       "      <td>241</td>\n",
       "      <td>1</td>\n",
       "      <td>4122.350098</td>\n",
       "      <td>0</td>\n",
       "      <td>878.780029</td>\n",
       "      <td>6682.919922</td>\n",
       "      <td>0</td>\n",
       "      <td>1836.160034</td>\n",
       "      <td>1841.359985</td>\n",
       "    </tr>\n",
       "    <tr>\n",
       "      <th>2</th>\n",
       "      <td>2017-04-15 08:47:02</td>\n",
       "      <td>1</td>\n",
       "      <td>238</td>\n",
       "      <td>3407.010010</td>\n",
       "      <td>3248.729980</td>\n",
       "      <td>3474.110107</td>\n",
       "      <td>3528.679932</td>\n",
       "      <td>4968.430176</td>\n",
       "      <td>4855.069824</td>\n",
       "      <td>238</td>\n",
       "      <td>0</td>\n",
       "      <td>241</td>\n",
       "      <td>1</td>\n",
       "      <td>4122.350098</td>\n",
       "      <td>0</td>\n",
       "      <td>878.780029</td>\n",
       "      <td>6682.919922</td>\n",
       "      <td>0</td>\n",
       "      <td>1836.160034</td>\n",
       "      <td>1841.359985</td>\n",
       "    </tr>\n",
       "    <tr>\n",
       "      <th>3</th>\n",
       "      <td>2017-04-15 08:47:17</td>\n",
       "      <td>1</td>\n",
       "      <td>238</td>\n",
       "      <td>3407.010010</td>\n",
       "      <td>3236.040039</td>\n",
       "      <td>3474.110107</td>\n",
       "      <td>3528.679932</td>\n",
       "      <td>4968.430176</td>\n",
       "      <td>4855.069824</td>\n",
       "      <td>238</td>\n",
       "      <td>1</td>\n",
       "      <td>241</td>\n",
       "      <td>1</td>\n",
       "      <td>4122.350098</td>\n",
       "      <td>0</td>\n",
       "      <td>878.780029</td>\n",
       "      <td>6682.919922</td>\n",
       "      <td>0</td>\n",
       "      <td>1836.160034</td>\n",
       "      <td>1841.359985</td>\n",
       "    </tr>\n",
       "    <tr>\n",
       "      <th>4</th>\n",
       "      <td>2017-04-15 08:47:28</td>\n",
       "      <td>1</td>\n",
       "      <td>238</td>\n",
       "      <td>3399.389893</td>\n",
       "      <td>3248.729980</td>\n",
       "      <td>3474.110107</td>\n",
       "      <td>3516.209961</td>\n",
       "      <td>4968.430176</td>\n",
       "      <td>4855.069824</td>\n",
       "      <td>238</td>\n",
       "      <td>0</td>\n",
       "      <td>241</td>\n",
       "      <td>1</td>\n",
       "      <td>3307.870117</td>\n",
       "      <td>0</td>\n",
       "      <td>878.780029</td>\n",
       "      <td>6682.919922</td>\n",
       "      <td>0</td>\n",
       "      <td>1836.160034</td>\n",
       "      <td>1841.359985</td>\n",
       "    </tr>\n",
       "  </tbody>\n",
       "</table>\n",
       "</div>"
      ],
      "text/plain": [
       "     last_active_time  Active  LA Open Current  LA RegRdbakPes  \\\n",
       "0 2017-04-15 08:46:40       1              238     3551.830078   \n",
       "1 2017-04-15 08:46:51       1              238     3414.629883   \n",
       "2 2017-04-15 08:47:02       1              238     3407.010010   \n",
       "3 2017-04-15 08:47:17       1              238     3407.010010   \n",
       "4 2017-04-15 08:47:28       1              238     3399.389893   \n",
       "\n",
       "   LA RegPilotPes  UA RegPilotPes  UA RegRdbakPes  pod_pilot_pres_podtrans  \\\n",
       "0     3407.360107     3269.750000     3285.540039              4968.430176   \n",
       "1     3274.110107     3474.110107     3528.679932              4968.430176   \n",
       "2     3248.729980     3474.110107     3528.679932              4968.430176   \n",
       "3     3236.040039     3474.110107     3528.679932              4968.430176   \n",
       "4     3248.729980     3474.110107     3516.209961              4968.430176   \n",
       "\n",
       "   pod_supply_pres_podtrans  lower_ann_open_current  lower_ann_close_current  \\\n",
       "0               4981.879883                     238                        1   \n",
       "1               4855.069824                     238                        1   \n",
       "2               4855.069824                     238                        0   \n",
       "3               4855.069824                     238                        1   \n",
       "4               4855.069824                     238                        0   \n",
       "\n",
       "   upper_ann_open_current  upper_ann_close_current  Pod1 Total1  Pod1 Total2  \\\n",
       "0                     240                        1  4122.350098            0   \n",
       "1                     241                        1  4122.350098            0   \n",
       "2                     241                        1  4122.350098            0   \n",
       "3                     241                        1  4122.350098            0   \n",
       "4                     241                        1  3307.870117            0   \n",
       "\n",
       "   Pod2 Total1  Pod2 Total2  user_entered_reference_pres_podtrans  \\\n",
       "0   878.780029  6682.919922                                     0   \n",
       "1   878.780029  6682.919922                                     0   \n",
       "2   878.780029  6682.919922                                     0   \n",
       "3   878.780029  6682.919922                                     0   \n",
       "4   878.780029  6682.919922                                     0   \n",
       "\n",
       "     pod_1_adj    pod_2_adj  \n",
       "0  1836.160034  1841.359985  \n",
       "1  1836.160034  1841.359985  \n",
       "2  1836.160034  1841.359985  \n",
       "3  1836.160034  1841.359985  \n",
       "4  1836.160034  1841.359985  "
      ]
     },
     "execution_count": 6,
     "metadata": {},
     "output_type": "execute_result"
    }
   ],
   "source": [
    "hornet_dataset_train.head()"
   ]
  },
  {
   "cell_type": "code",
   "execution_count": 7,
   "metadata": {},
   "outputs": [
    {
     "data": {
      "text/html": [
       "<div>\n",
       "<style scoped>\n",
       "    .dataframe tbody tr th:only-of-type {\n",
       "        vertical-align: middle;\n",
       "    }\n",
       "\n",
       "    .dataframe tbody tr th {\n",
       "        vertical-align: top;\n",
       "    }\n",
       "\n",
       "    .dataframe thead th {\n",
       "        text-align: right;\n",
       "    }\n",
       "</style>\n",
       "<table border=\"1\" class=\"dataframe\">\n",
       "  <thead>\n",
       "    <tr style=\"text-align: right;\">\n",
       "      <th></th>\n",
       "      <th>Active</th>\n",
       "      <th>LA Open Current</th>\n",
       "      <th>LA RegRdbakPes</th>\n",
       "      <th>LA RegPilotPes</th>\n",
       "      <th>UA RegPilotPes</th>\n",
       "      <th>UA RegRdbakPes</th>\n",
       "      <th>pod_pilot_pres_podtrans</th>\n",
       "      <th>pod_supply_pres_podtrans</th>\n",
       "      <th>lower_ann_open_current</th>\n",
       "      <th>lower_ann_close_current</th>\n",
       "      <th>upper_ann_open_current</th>\n",
       "      <th>upper_ann_close_current</th>\n",
       "      <th>Pod1 Total1</th>\n",
       "      <th>Pod1 Total2</th>\n",
       "      <th>Pod2 Total1</th>\n",
       "      <th>Pod2 Total2</th>\n",
       "      <th>user_entered_reference_pres_podtrans</th>\n",
       "      <th>pod_1_adj</th>\n",
       "      <th>pod_2_adj</th>\n",
       "    </tr>\n",
       "  </thead>\n",
       "  <tbody>\n",
       "    <tr>\n",
       "      <th>count</th>\n",
       "      <td>536145.000000</td>\n",
       "      <td>536145.000000</td>\n",
       "      <td>536145.000000</td>\n",
       "      <td>536145.000000</td>\n",
       "      <td>536145.000000</td>\n",
       "      <td>536145.000000</td>\n",
       "      <td>536145.000000</td>\n",
       "      <td>536145.000000</td>\n",
       "      <td>536145.000000</td>\n",
       "      <td>536145.000000</td>\n",
       "      <td>536145.000000</td>\n",
       "      <td>536145.000000</td>\n",
       "      <td>536145.000000</td>\n",
       "      <td>536145.0</td>\n",
       "      <td>536145.000000</td>\n",
       "      <td>536145.000000</td>\n",
       "      <td>536145.0</td>\n",
       "      <td>536145.000000</td>\n",
       "      <td>536145.000000</td>\n",
       "    </tr>\n",
       "    <tr>\n",
       "      <th>mean</th>\n",
       "      <td>1.793739</td>\n",
       "      <td>224.272221</td>\n",
       "      <td>3324.704911</td>\n",
       "      <td>3346.345387</td>\n",
       "      <td>3264.750448</td>\n",
       "      <td>3365.376175</td>\n",
       "      <td>4990.166870</td>\n",
       "      <td>4711.769834</td>\n",
       "      <td>224.272221</td>\n",
       "      <td>5.867338</td>\n",
       "      <td>224.650772</td>\n",
       "      <td>6.546283</td>\n",
       "      <td>6715.836834</td>\n",
       "      <td>0.0</td>\n",
       "      <td>4425.518139</td>\n",
       "      <td>6682.919922</td>\n",
       "      <td>0.0</td>\n",
       "      <td>1824.781261</td>\n",
       "      <td>1874.546567</td>\n",
       "    </tr>\n",
       "    <tr>\n",
       "      <th>std</th>\n",
       "      <td>0.404621</td>\n",
       "      <td>52.728889</td>\n",
       "      <td>264.555279</td>\n",
       "      <td>207.907152</td>\n",
       "      <td>215.655381</td>\n",
       "      <td>250.873142</td>\n",
       "      <td>83.626909</td>\n",
       "      <td>248.325672</td>\n",
       "      <td>52.728889</td>\n",
       "      <td>36.181270</td>\n",
       "      <td>54.220664</td>\n",
       "      <td>38.231132</td>\n",
       "      <td>1614.827385</td>\n",
       "      <td>0.0</td>\n",
       "      <td>2375.570119</td>\n",
       "      <td>0.000000</td>\n",
       "      <td>0.0</td>\n",
       "      <td>26.353552</td>\n",
       "      <td>19.797931</td>\n",
       "    </tr>\n",
       "    <tr>\n",
       "      <th>min</th>\n",
       "      <td>1.000000</td>\n",
       "      <td>0.000000</td>\n",
       "      <td>1803.979980</td>\n",
       "      <td>2524.510010</td>\n",
       "      <td>1912.569946</td>\n",
       "      <td>1850.250000</td>\n",
       "      <td>4236.529785</td>\n",
       "      <td>3152.169922</td>\n",
       "      <td>0.000000</td>\n",
       "      <td>0.000000</td>\n",
       "      <td>0.000000</td>\n",
       "      <td>0.000000</td>\n",
       "      <td>3307.870117</td>\n",
       "      <td>0.0</td>\n",
       "      <td>876.820007</td>\n",
       "      <td>6682.919922</td>\n",
       "      <td>0.0</td>\n",
       "      <td>1764.709961</td>\n",
       "      <td>1805.949951</td>\n",
       "    </tr>\n",
       "    <tr>\n",
       "      <th>25%</th>\n",
       "      <td>2.000000</td>\n",
       "      <td>236.000000</td>\n",
       "      <td>3293.770020</td>\n",
       "      <td>3327.209961</td>\n",
       "      <td>3228.350098</td>\n",
       "      <td>3344.909912</td>\n",
       "      <td>4947.600098</td>\n",
       "      <td>4497.279785</td>\n",
       "      <td>236.000000</td>\n",
       "      <td>0.000000</td>\n",
       "      <td>237.000000</td>\n",
       "      <td>0.000000</td>\n",
       "      <td>5525.430176</td>\n",
       "      <td>0.0</td>\n",
       "      <td>2430.810059</td>\n",
       "      <td>6682.919922</td>\n",
       "      <td>0.0</td>\n",
       "      <td>1799.719971</td>\n",
       "      <td>1864.859985</td>\n",
       "    </tr>\n",
       "    <tr>\n",
       "      <th>50%</th>\n",
       "      <td>2.000000</td>\n",
       "      <td>236.000000</td>\n",
       "      <td>3346.040039</td>\n",
       "      <td>3381.979980</td>\n",
       "      <td>3320.209961</td>\n",
       "      <td>3414.350098</td>\n",
       "      <td>5007.580078</td>\n",
       "      <td>4775.819824</td>\n",
       "      <td>236.000000</td>\n",
       "      <td>0.000000</td>\n",
       "      <td>237.000000</td>\n",
       "      <td>0.000000</td>\n",
       "      <td>6199.779785</td>\n",
       "      <td>0.0</td>\n",
       "      <td>4216.379883</td>\n",
       "      <td>6682.919922</td>\n",
       "      <td>0.0</td>\n",
       "      <td>1834.729980</td>\n",
       "      <td>1876.770020</td>\n",
       "    </tr>\n",
       "    <tr>\n",
       "      <th>75%</th>\n",
       "      <td>2.000000</td>\n",
       "      <td>237.000000</td>\n",
       "      <td>3434.719971</td>\n",
       "      <td>3400.739990</td>\n",
       "      <td>3346.459961</td>\n",
       "      <td>3489.580078</td>\n",
       "      <td>5037.879883</td>\n",
       "      <td>4932.069824</td>\n",
       "      <td>237.000000</td>\n",
       "      <td>1.000000</td>\n",
       "      <td>237.000000</td>\n",
       "      <td>1.000000</td>\n",
       "      <td>8467.900391</td>\n",
       "      <td>0.0</td>\n",
       "      <td>6385.540039</td>\n",
       "      <td>6682.919922</td>\n",
       "      <td>0.0</td>\n",
       "      <td>1834.729980</td>\n",
       "      <td>1898.650024</td>\n",
       "    </tr>\n",
       "    <tr>\n",
       "      <th>max</th>\n",
       "      <td>2.000000</td>\n",
       "      <td>454.000000</td>\n",
       "      <td>3940.550049</td>\n",
       "      <td>3794.419922</td>\n",
       "      <td>4816.080078</td>\n",
       "      <td>4875.310059</td>\n",
       "      <td>5166.669922</td>\n",
       "      <td>5104.169922</td>\n",
       "      <td>454.000000</td>\n",
       "      <td>462.000000</td>\n",
       "      <td>456.000000</td>\n",
       "      <td>462.000000</td>\n",
       "      <td>9140.000000</td>\n",
       "      <td>0.0</td>\n",
       "      <td>8188.430176</td>\n",
       "      <td>6682.919922</td>\n",
       "      <td>0.0</td>\n",
       "      <td>1906.780029</td>\n",
       "      <td>1898.650024</td>\n",
       "    </tr>\n",
       "  </tbody>\n",
       "</table>\n",
       "</div>"
      ],
      "text/plain": [
       "              Active  LA Open Current  LA RegRdbakPes  LA RegPilotPes  \\\n",
       "count  536145.000000    536145.000000   536145.000000   536145.000000   \n",
       "mean        1.793739       224.272221     3324.704911     3346.345387   \n",
       "std         0.404621        52.728889      264.555279      207.907152   \n",
       "min         1.000000         0.000000     1803.979980     2524.510010   \n",
       "25%         2.000000       236.000000     3293.770020     3327.209961   \n",
       "50%         2.000000       236.000000     3346.040039     3381.979980   \n",
       "75%         2.000000       237.000000     3434.719971     3400.739990   \n",
       "max         2.000000       454.000000     3940.550049     3794.419922   \n",
       "\n",
       "       UA RegPilotPes  UA RegRdbakPes  pod_pilot_pres_podtrans  \\\n",
       "count   536145.000000   536145.000000            536145.000000   \n",
       "mean      3264.750448     3365.376175              4990.166870   \n",
       "std        215.655381      250.873142                83.626909   \n",
       "min       1912.569946     1850.250000              4236.529785   \n",
       "25%       3228.350098     3344.909912              4947.600098   \n",
       "50%       3320.209961     3414.350098              5007.580078   \n",
       "75%       3346.459961     3489.580078              5037.879883   \n",
       "max       4816.080078     4875.310059              5166.669922   \n",
       "\n",
       "       pod_supply_pres_podtrans  lower_ann_open_current  \\\n",
       "count             536145.000000           536145.000000   \n",
       "mean                4711.769834              224.272221   \n",
       "std                  248.325672               52.728889   \n",
       "min                 3152.169922                0.000000   \n",
       "25%                 4497.279785              236.000000   \n",
       "50%                 4775.819824              236.000000   \n",
       "75%                 4932.069824              237.000000   \n",
       "max                 5104.169922              454.000000   \n",
       "\n",
       "       lower_ann_close_current  upper_ann_open_current  \\\n",
       "count            536145.000000           536145.000000   \n",
       "mean                  5.867338              224.650772   \n",
       "std                  36.181270               54.220664   \n",
       "min                   0.000000                0.000000   \n",
       "25%                   0.000000              237.000000   \n",
       "50%                   0.000000              237.000000   \n",
       "75%                   1.000000              237.000000   \n",
       "max                 462.000000              456.000000   \n",
       "\n",
       "       upper_ann_close_current    Pod1 Total1  Pod1 Total2    Pod2 Total1  \\\n",
       "count            536145.000000  536145.000000     536145.0  536145.000000   \n",
       "mean                  6.546283    6715.836834          0.0    4425.518139   \n",
       "std                  38.231132    1614.827385          0.0    2375.570119   \n",
       "min                   0.000000    3307.870117          0.0     876.820007   \n",
       "25%                   0.000000    5525.430176          0.0    2430.810059   \n",
       "50%                   0.000000    6199.779785          0.0    4216.379883   \n",
       "75%                   1.000000    8467.900391          0.0    6385.540039   \n",
       "max                 462.000000    9140.000000          0.0    8188.430176   \n",
       "\n",
       "         Pod2 Total2  user_entered_reference_pres_podtrans      pod_1_adj  \\\n",
       "count  536145.000000                              536145.0  536145.000000   \n",
       "mean     6682.919922                                   0.0    1824.781261   \n",
       "std         0.000000                                   0.0      26.353552   \n",
       "min      6682.919922                                   0.0    1764.709961   \n",
       "25%      6682.919922                                   0.0    1799.719971   \n",
       "50%      6682.919922                                   0.0    1834.729980   \n",
       "75%      6682.919922                                   0.0    1834.729980   \n",
       "max      6682.919922                                   0.0    1906.780029   \n",
       "\n",
       "           pod_2_adj  \n",
       "count  536145.000000  \n",
       "mean     1874.546567  \n",
       "std        19.797931  \n",
       "min      1805.949951  \n",
       "25%      1864.859985  \n",
       "50%      1876.770020  \n",
       "75%      1898.650024  \n",
       "max      1898.650024  "
      ]
     },
     "execution_count": 7,
     "metadata": {},
     "output_type": "execute_result"
    }
   ],
   "source": [
    "hornet_dataset_train.describe()"
   ]
  },
  {
   "cell_type": "code",
   "execution_count": 17,
   "metadata": {},
   "outputs": [
    {
     "data": {
      "text/plain": [
       "['last_active_time',\n",
       " 'Active',\n",
       " 'LA Open Current',\n",
       " 'LA RegRdbakPes',\n",
       " 'LA RegPilotPes',\n",
       " 'UA RegPilotPes',\n",
       " 'UA RegRdbakPes',\n",
       " 'pod_pilot_pres_podtrans',\n",
       " 'pod_supply_pres_podtrans',\n",
       " 'lower_ann_open_current',\n",
       " 'lower_ann_close_current',\n",
       " 'upper_ann_open_current',\n",
       " 'upper_ann_close_current',\n",
       " 'Pod1 Total1',\n",
       " 'Pod1 Total2',\n",
       " 'Pod2 Total1',\n",
       " 'Pod2 Total2',\n",
       " 'user_entered_reference_pres_podtrans',\n",
       " 'pod_1_adj',\n",
       " 'pod_2_adj']"
      ]
     },
     "execution_count": 17,
     "metadata": {},
     "output_type": "execute_result"
    }
   ],
   "source": [
    "list(hornet_dataset_train.columns.values)"
   ]
  },
  {
   "cell_type": "code",
   "execution_count": 16,
   "metadata": {
    "scrolled": true
   },
   "outputs": [
    {
     "data": {
      "text/plain": [
       "['last_active_time',\n",
       " 'Active',\n",
       " 'upper_ann_open_current',\n",
       " 'upper_ann_close_current',\n",
       " 'UA RegPilotPes',\n",
       " 'UA RegRdbakPes',\n",
       " 'pod_pilot_pres_podtrans',\n",
       " 'pod_supply_pres_podtrans',\n",
       " 'pod_1_adj',\n",
       " 'pod_2_adj']"
      ]
     },
     "execution_count": 16,
     "metadata": {},
     "output_type": "execute_result"
    }
   ],
   "source": [
    "list(hornet_data_upper_annular.columns.values)"
   ]
  },
  {
   "cell_type": "code",
   "execution_count": 20,
   "metadata": {},
   "outputs": [
    {
     "data": {
      "text/plain": [
       "0    3269.750000\n",
       "1    3474.110107\n",
       "2    3474.110107\n",
       "3    3474.110107\n",
       "4    3474.110107\n",
       "Name: UA RegPilotPes, dtype: float64"
      ]
     },
     "execution_count": 20,
     "metadata": {},
     "output_type": "execute_result"
    }
   ],
   "source": [
    "hornet_data_upper_annular[\"UA RegPilotPes\"].head()"
   ]
  },
  {
   "cell_type": "code",
   "execution_count": 18,
   "metadata": {},
   "outputs": [
    {
     "name": "stderr",
     "output_type": "stream",
     "text": [
      "C:\\Program Files\\anaconda\\lib\\site-packages\\ipykernel_launcher.py:2: SettingWithCopyWarning: \n",
      "A value is trying to be set on a copy of a slice from a DataFrame.\n",
      "Try using .loc[row_indexer,col_indexer] = value instead\n",
      "\n",
      "See the caveats in the documentation: http://pandas.pydata.org/pandas-docs/stable/indexing.html#indexing-view-versus-copy\n",
      "  \n"
     ]
    }
   ],
   "source": [
    "### Pressure Adjustments ###\n",
    "hornet_data_upper_annular['UA RegPilotPes Adj'] = np.where(hornet_data_upper_annular['Active'] == 1, hornet_data_upper_annular['UA RegPilotPes'] - hornet_data_upper_annular['pod_1_adj'], hornet_data_upper_annular['UA RegPilotPes'] - hornet_data_upper_annular['pod_2_adj'])"
   ]
  },
  {
   "cell_type": "code",
   "execution_count": 21,
   "metadata": {},
   "outputs": [
    {
     "name": "stderr",
     "output_type": "stream",
     "text": [
      "C:\\Program Files\\anaconda\\lib\\site-packages\\ipykernel_launcher.py:2: SettingWithCopyWarning: \n",
      "A value is trying to be set on a copy of a slice from a DataFrame.\n",
      "Try using .loc[row_indexer,col_indexer] = value instead\n",
      "\n",
      "See the caveats in the documentation: http://pandas.pydata.org/pandas-docs/stable/indexing.html#indexing-view-versus-copy\n",
      "  \n"
     ]
    }
   ],
   "source": [
    "#Logic of elsif statement i.e. where(condition, value1, value2)\n",
    "hornet_data_upper_annular['UA RegRdbakPes Adj'] = np.where(hornet_data_upper_annular['Active'] == 1, hornet_data_upper_annular['UA RegRdbakPes'] - hornet_data_upper_annular['pod_1_adj'], hornet_data_upper_annular['UA RegRdbakPes'] - hornet_data_upper_annular['pod_2_adj'])"
   ]
  },
  {
   "cell_type": "code",
   "execution_count": 26,
   "metadata": {},
   "outputs": [
    {
     "data": {
      "text/plain": [
       "['last_active_time',\n",
       " 'Active',\n",
       " 'upper_ann_open_current',\n",
       " 'upper_ann_close_current',\n",
       " 'UA RegPilotPes',\n",
       " 'UA RegRdbakPes',\n",
       " 'pod_pilot_pres_podtrans',\n",
       " 'pod_supply_pres_podtrans',\n",
       " 'pod_1_adj',\n",
       " 'pod_2_adj',\n",
       " 'UA RegPilotPes Adj',\n",
       " 'UA RegRdbakPes Adj',\n",
       " 'pod_pilot_pres_podtrans_adj',\n",
       " 'pod_supply_pres_podtrans_adj']"
      ]
     },
     "execution_count": 26,
     "metadata": {},
     "output_type": "execute_result"
    }
   ],
   "source": [
    "list(hornet_data_upper_annular.columns.values)"
   ]
  },
  {
   "cell_type": "code",
   "execution_count": 23,
   "metadata": {},
   "outputs": [
    {
     "name": "stderr",
     "output_type": "stream",
     "text": [
      "C:\\Program Files\\anaconda\\lib\\site-packages\\ipykernel_launcher.py:1: SettingWithCopyWarning: \n",
      "A value is trying to be set on a copy of a slice from a DataFrame.\n",
      "Try using .loc[row_indexer,col_indexer] = value instead\n",
      "\n",
      "See the caveats in the documentation: http://pandas.pydata.org/pandas-docs/stable/indexing.html#indexing-view-versus-copy\n",
      "  \"\"\"Entry point for launching an IPython kernel.\n"
     ]
    }
   ],
   "source": [
    "hornet_data_upper_annular['pod_pilot_pres_podtrans_adj'] = np.where(hornet_data_upper_annular['Active'] == 1, hornet_data_upper_annular['pod_pilot_pres_podtrans'] - hornet_data_upper_annular['pod_1_adj'], hornet_data_upper_annular['pod_pilot_pres_podtrans'] - hornet_data_upper_annular['pod_2_adj'])"
   ]
  },
  {
   "cell_type": "code",
   "execution_count": 25,
   "metadata": {},
   "outputs": [
    {
     "name": "stderr",
     "output_type": "stream",
     "text": [
      "C:\\Program Files\\anaconda\\lib\\site-packages\\ipykernel_launcher.py:1: SettingWithCopyWarning: \n",
      "A value is trying to be set on a copy of a slice from a DataFrame.\n",
      "Try using .loc[row_indexer,col_indexer] = value instead\n",
      "\n",
      "See the caveats in the documentation: http://pandas.pydata.org/pandas-docs/stable/indexing.html#indexing-view-versus-copy\n",
      "  \"\"\"Entry point for launching an IPython kernel.\n"
     ]
    }
   ],
   "source": [
    "hornet_data_upper_annular['pod_supply_pres_podtrans_adj'] = np.where(hornet_data_upper_annular['Active'] == 1, hornet_data_upper_annular['pod_supply_pres_podtrans'] - hornet_data_upper_annular['pod_1_adj'], hornet_data_upper_annular['pod_supply_pres_podtrans'] - hornet_data_upper_annular['pod_2_adj'])"
   ]
  },
  {
   "cell_type": "code",
   "execution_count": 27,
   "metadata": {},
   "outputs": [],
   "source": [
    "hornet_data_upper_annular.to_csv(r'hornet_data_upper_annular_train.csv', index = False)"
   ]
  },
  {
   "cell_type": "code",
   "execution_count": null,
   "metadata": {},
   "outputs": [],
   "source": []
  },
  {
   "cell_type": "code",
   "execution_count": 29,
   "metadata": {},
   "outputs": [],
   "source": [
    "#############################################\n",
    "######## Hornet Data Test - preprocessing####\n",
    "#############################################\n",
    "## Data in hornet_data_upper_annular_test \n",
    "## test data that is from 2nd of June till 20 August is for testing purpose \n",
    "## in the end of 1.pre_processing python, \n",
    "## you see hornet_data_upper_annular.to_csv(r'hornet_data_upper_annular_test.csv', index = False) \n",
    "hornet_dataset_test = pd.read_csv(r'HORNET_PressureTags_2017_06_02_to_2017_08_20_test_predicted.csv')"
   ]
  },
  {
   "cell_type": "code",
   "execution_count": 30,
   "metadata": {},
   "outputs": [],
   "source": [
    "hornet_data_upper_annular = hornet_dataset_test[['last_active_time','Active','upper_ann_open_current','upper_ann_close_current','UA RegPilotPes','UA RegRdbakPes','pod_pilot_pres_podtrans','pod_supply_pres_podtrans', 'pod_1_adj', 'pod_2_adj']]"
   ]
  },
  {
   "cell_type": "code",
   "execution_count": 31,
   "metadata": {},
   "outputs": [
    {
     "name": "stderr",
     "output_type": "stream",
     "text": [
      "C:\\Program Files\\anaconda\\lib\\site-packages\\ipykernel_launcher.py:2: SettingWithCopyWarning: \n",
      "A value is trying to be set on a copy of a slice from a DataFrame.\n",
      "Try using .loc[row_indexer,col_indexer] = value instead\n",
      "\n",
      "See the caveats in the documentation: http://pandas.pydata.org/pandas-docs/stable/indexing.html#indexing-view-versus-copy\n",
      "  \n"
     ]
    }
   ],
   "source": [
    "### Pressure Adjustments ###\n",
    "hornet_data_upper_annular['UA RegPilotPes Adj'] = np.where(hornet_data_upper_annular['Active'] == 1, hornet_data_upper_annular['UA RegPilotPes'] - hornet_data_upper_annular['pod_1_adj'], hornet_data_upper_annular['UA RegPilotPes'] - hornet_data_upper_annular['pod_2_adj'])"
   ]
  },
  {
   "cell_type": "code",
   "execution_count": 32,
   "metadata": {},
   "outputs": [
    {
     "name": "stderr",
     "output_type": "stream",
     "text": [
      "C:\\Program Files\\anaconda\\lib\\site-packages\\ipykernel_launcher.py:1: SettingWithCopyWarning: \n",
      "A value is trying to be set on a copy of a slice from a DataFrame.\n",
      "Try using .loc[row_indexer,col_indexer] = value instead\n",
      "\n",
      "See the caveats in the documentation: http://pandas.pydata.org/pandas-docs/stable/indexing.html#indexing-view-versus-copy\n",
      "  \"\"\"Entry point for launching an IPython kernel.\n"
     ]
    }
   ],
   "source": [
    "hornet_data_upper_annular['UA RegRdbakPes Adj'] = np.where(hornet_data_upper_annular['Active'] == 1, hornet_data_upper_annular['UA RegRdbakPes'] - hornet_data_upper_annular['pod_1_adj'], hornet_data_upper_annular['UA RegRdbakPes'] - hornet_data_upper_annular['pod_2_adj'])"
   ]
  },
  {
   "cell_type": "code",
   "execution_count": 33,
   "metadata": {},
   "outputs": [
    {
     "name": "stderr",
     "output_type": "stream",
     "text": [
      "C:\\Program Files\\anaconda\\lib\\site-packages\\ipykernel_launcher.py:1: SettingWithCopyWarning: \n",
      "A value is trying to be set on a copy of a slice from a DataFrame.\n",
      "Try using .loc[row_indexer,col_indexer] = value instead\n",
      "\n",
      "See the caveats in the documentation: http://pandas.pydata.org/pandas-docs/stable/indexing.html#indexing-view-versus-copy\n",
      "  \"\"\"Entry point for launching an IPython kernel.\n"
     ]
    }
   ],
   "source": [
    "hornet_data_upper_annular['pod_pilot_pres_podtrans_adj'] = np.where(hornet_data_upper_annular['Active'] == 1, hornet_data_upper_annular['pod_pilot_pres_podtrans'] - hornet_data_upper_annular['pod_1_adj'], hornet_data_upper_annular['pod_pilot_pres_podtrans'] - hornet_data_upper_annular['pod_2_adj'])"
   ]
  },
  {
   "cell_type": "code",
   "execution_count": 34,
   "metadata": {},
   "outputs": [
    {
     "name": "stderr",
     "output_type": "stream",
     "text": [
      "C:\\Program Files\\anaconda\\lib\\site-packages\\ipykernel_launcher.py:1: SettingWithCopyWarning: \n",
      "A value is trying to be set on a copy of a slice from a DataFrame.\n",
      "Try using .loc[row_indexer,col_indexer] = value instead\n",
      "\n",
      "See the caveats in the documentation: http://pandas.pydata.org/pandas-docs/stable/indexing.html#indexing-view-versus-copy\n",
      "  \"\"\"Entry point for launching an IPython kernel.\n"
     ]
    }
   ],
   "source": [
    "hornet_data_upper_annular['pod_supply_pres_podtrans_adj'] = np.where(hornet_data_upper_annular['Active'] == 1, hornet_data_upper_annular['pod_supply_pres_podtrans'] - hornet_data_upper_annular['pod_1_adj'], hornet_data_upper_annular['pod_supply_pres_podtrans'] - hornet_data_upper_annular['pod_2_adj'])"
   ]
  },
  {
   "cell_type": "code",
   "execution_count": 35,
   "metadata": {},
   "outputs": [],
   "source": [
    "hornet_data_upper_annular.to_csv(r'hornet_data_upper_annular_test.csv', index = False)"
   ]
  },
  {
   "cell_type": "code",
   "execution_count": null,
   "metadata": {},
   "outputs": [],
   "source": []
  }
 ],
 "metadata": {
  "kernelspec": {
   "display_name": "Python 3",
   "language": "python",
   "name": "python3"
  },
  "language_info": {
   "codemirror_mode": {
    "name": "ipython",
    "version": 3
   },
   "file_extension": ".py",
   "mimetype": "text/x-python",
   "name": "python",
   "nbconvert_exporter": "python",
   "pygments_lexer": "ipython3",
   "version": "3.6.5"
  }
 },
 "nbformat": 4,
 "nbformat_minor": 2
}
