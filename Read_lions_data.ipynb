{
 "cells": [
  {
   "cell_type": "code",
   "execution_count": 22,
   "metadata": {
    "collapsed": true
   },
   "outputs": [],
   "source": [
    "import pandas as pd\n",
    "import numpy as np\n",
    "import csv\n",
    "import matplotlib.pyplot as plt\n",
    "%matplotlib inline"
   ]
  },
  {
   "cell_type": "code",
   "execution_count": 1,
   "metadata": {
    "collapsed": true
   },
   "outputs": [],
   "source": [
    "import dask.dataframe as dd"
   ]
  },
  {
   "cell_type": "code",
   "execution_count": 265,
   "metadata": {
    "collapsed": true
   },
   "outputs": [],
   "source": [
    "df = pd.read_csv('LION_PressureTags_2018_01_01_to_2018_01_31.csv', sep = '\\t')"
   ]
  },
  {
   "cell_type": "code",
   "execution_count": 266,
   "metadata": {
    "scrolled": true
   },
   "outputs": [
    {
     "data": {
      "text/html": [
       "<div>\n",
       "<style>\n",
       "    .dataframe thead tr:only-child th {\n",
       "        text-align: right;\n",
       "    }\n",
       "\n",
       "    .dataframe thead th {\n",
       "        text-align: left;\n",
       "    }\n",
       "\n",
       "    .dataframe tbody tr th {\n",
       "        vertical-align: top;\n",
       "    }\n",
       "</style>\n",
       "<table border=\"1\" class=\"dataframe\">\n",
       "  <thead>\n",
       "    <tr style=\"text-align: right;\">\n",
       "      <th></th>\n",
       "      <th>last_active_time</th>\n",
       "      <th>activePod</th>\n",
       "      <th>rig_id</th>\n",
       "      <th>Blue</th>\n",
       "      <th>Yellow</th>\n",
       "      <th>Active</th>\n",
       "      <th>BlueSem</th>\n",
       "      <th>YellowSem</th>\n",
       "      <th>LA Open Current</th>\n",
       "      <th>LA Close SC</th>\n",
       "      <th>...</th>\n",
       "      <th>YellowFlowIndx</th>\n",
       "      <th>Pod1 Total1</th>\n",
       "      <th>Pod1 Total2</th>\n",
       "      <th>Pod2 Total1</th>\n",
       "      <th>Pod2 Total2</th>\n",
       "      <th>user_entered_reference_pres_podtrans_pod_1_sema</th>\n",
       "      <th>user_entered_reference_pres_podtrans</th>\n",
       "      <th>user_entered_reference_pres_podtrans_pod_2_sema</th>\n",
       "      <th>pod_2_adj</th>\n",
       "      <th>pod_1_adj</th>\n",
       "    </tr>\n",
       "  </thead>\n",
       "  <tbody>\n",
       "    <tr>\n",
       "      <th>0</th>\n",
       "      <td>2018-01-01 00:00:04</td>\n",
       "      <td>2</td>\n",
       "      <td>LION</td>\n",
       "      <td>1</td>\n",
       "      <td>2</td>\n",
       "      <td>2</td>\n",
       "      <td>4</td>\n",
       "      <td>2</td>\n",
       "      <td>232</td>\n",
       "      <td>0</td>\n",
       "      <td>...</td>\n",
       "      <td>17</td>\n",
       "      <td>0.0</td>\n",
       "      <td>253.899994</td>\n",
       "      <td>0.0</td>\n",
       "      <td>516.539978</td>\n",
       "      <td>-2000</td>\n",
       "      <td>-2000</td>\n",
       "      <td>-2000</td>\n",
       "      <td>1476.719971</td>\n",
       "      <td>1544.319946</td>\n",
       "    </tr>\n",
       "    <tr>\n",
       "      <th>1</th>\n",
       "      <td>2018-01-01 00:00:09</td>\n",
       "      <td>2</td>\n",
       "      <td>LION</td>\n",
       "      <td>1</td>\n",
       "      <td>2</td>\n",
       "      <td>2</td>\n",
       "      <td>4</td>\n",
       "      <td>2</td>\n",
       "      <td>232</td>\n",
       "      <td>0</td>\n",
       "      <td>...</td>\n",
       "      <td>17</td>\n",
       "      <td>0.0</td>\n",
       "      <td>253.899994</td>\n",
       "      <td>0.0</td>\n",
       "      <td>516.539978</td>\n",
       "      <td>-2000</td>\n",
       "      <td>-2000</td>\n",
       "      <td>-2000</td>\n",
       "      <td>1476.719971</td>\n",
       "      <td>1544.319946</td>\n",
       "    </tr>\n",
       "    <tr>\n",
       "      <th>2</th>\n",
       "      <td>2018-01-01 00:00:14</td>\n",
       "      <td>2</td>\n",
       "      <td>LION</td>\n",
       "      <td>1</td>\n",
       "      <td>2</td>\n",
       "      <td>2</td>\n",
       "      <td>4</td>\n",
       "      <td>2</td>\n",
       "      <td>232</td>\n",
       "      <td>0</td>\n",
       "      <td>...</td>\n",
       "      <td>17</td>\n",
       "      <td>0.0</td>\n",
       "      <td>253.899994</td>\n",
       "      <td>0.0</td>\n",
       "      <td>516.539978</td>\n",
       "      <td>-2000</td>\n",
       "      <td>-2000</td>\n",
       "      <td>-2000</td>\n",
       "      <td>1476.719971</td>\n",
       "      <td>1544.319946</td>\n",
       "    </tr>\n",
       "    <tr>\n",
       "      <th>3</th>\n",
       "      <td>2018-01-01 00:00:23</td>\n",
       "      <td>2</td>\n",
       "      <td>LION</td>\n",
       "      <td>1</td>\n",
       "      <td>2</td>\n",
       "      <td>2</td>\n",
       "      <td>4</td>\n",
       "      <td>2</td>\n",
       "      <td>232</td>\n",
       "      <td>0</td>\n",
       "      <td>...</td>\n",
       "      <td>17</td>\n",
       "      <td>0.0</td>\n",
       "      <td>253.899994</td>\n",
       "      <td>0.0</td>\n",
       "      <td>516.539978</td>\n",
       "      <td>-2000</td>\n",
       "      <td>-2000</td>\n",
       "      <td>-2000</td>\n",
       "      <td>1476.719971</td>\n",
       "      <td>1544.319946</td>\n",
       "    </tr>\n",
       "    <tr>\n",
       "      <th>4</th>\n",
       "      <td>2018-01-01 00:00:24</td>\n",
       "      <td>2</td>\n",
       "      <td>LION</td>\n",
       "      <td>1</td>\n",
       "      <td>2</td>\n",
       "      <td>2</td>\n",
       "      <td>4</td>\n",
       "      <td>2</td>\n",
       "      <td>232</td>\n",
       "      <td>0</td>\n",
       "      <td>...</td>\n",
       "      <td>17</td>\n",
       "      <td>0.0</td>\n",
       "      <td>253.899994</td>\n",
       "      <td>0.0</td>\n",
       "      <td>516.539978</td>\n",
       "      <td>-2000</td>\n",
       "      <td>-2000</td>\n",
       "      <td>-2000</td>\n",
       "      <td>1476.719971</td>\n",
       "      <td>1544.319946</td>\n",
       "    </tr>\n",
       "  </tbody>\n",
       "</table>\n",
       "<p>5 rows × 43 columns</p>\n",
       "</div>"
      ],
      "text/plain": [
       "      last_active_time  activePod rig_id  Blue  Yellow  Active  BlueSem  \\\n",
       "0  2018-01-01 00:00:04          2   LION     1       2       2        4   \n",
       "1  2018-01-01 00:00:09          2   LION     1       2       2        4   \n",
       "2  2018-01-01 00:00:14          2   LION     1       2       2        4   \n",
       "3  2018-01-01 00:00:23          2   LION     1       2       2        4   \n",
       "4  2018-01-01 00:00:24          2   LION     1       2       2        4   \n",
       "\n",
       "   YellowSem  LA Open Current  LA Close SC     ...       YellowFlowIndx  \\\n",
       "0          2              232            0     ...                   17   \n",
       "1          2              232            0     ...                   17   \n",
       "2          2              232            0     ...                   17   \n",
       "3          2              232            0     ...                   17   \n",
       "4          2              232            0     ...                   17   \n",
       "\n",
       "   Pod1 Total1  Pod1 Total2  Pod2 Total1  Pod2 Total2  \\\n",
       "0          0.0   253.899994          0.0   516.539978   \n",
       "1          0.0   253.899994          0.0   516.539978   \n",
       "2          0.0   253.899994          0.0   516.539978   \n",
       "3          0.0   253.899994          0.0   516.539978   \n",
       "4          0.0   253.899994          0.0   516.539978   \n",
       "\n",
       "   user_entered_reference_pres_podtrans_pod_1_sema  \\\n",
       "0                                            -2000   \n",
       "1                                            -2000   \n",
       "2                                            -2000   \n",
       "3                                            -2000   \n",
       "4                                            -2000   \n",
       "\n",
       "   user_entered_reference_pres_podtrans  \\\n",
       "0                                 -2000   \n",
       "1                                 -2000   \n",
       "2                                 -2000   \n",
       "3                                 -2000   \n",
       "4                                 -2000   \n",
       "\n",
       "   user_entered_reference_pres_podtrans_pod_2_sema    pod_2_adj    pod_1_adj  \n",
       "0                                            -2000  1476.719971  1544.319946  \n",
       "1                                            -2000  1476.719971  1544.319946  \n",
       "2                                            -2000  1476.719971  1544.319946  \n",
       "3                                            -2000  1476.719971  1544.319946  \n",
       "4                                            -2000  1476.719971  1544.319946  \n",
       "\n",
       "[5 rows x 43 columns]"
      ]
     },
     "execution_count": 266,
     "metadata": {},
     "output_type": "execute_result"
    }
   ],
   "source": [
    "df.head()"
   ]
  },
  {
   "cell_type": "code",
   "execution_count": 267,
   "metadata": {
    "scrolled": true
   },
   "outputs": [
    {
     "name": "stdout",
     "output_type": "stream",
     "text": [
      "502637\n"
     ]
    }
   ],
   "source": [
    "print(len(df))"
   ]
  },
  {
   "cell_type": "code",
   "execution_count": 268,
   "metadata": {},
   "outputs": [
    {
     "data": {
      "text/plain": [
       "43"
      ]
     },
     "execution_count": 268,
     "metadata": {},
     "output_type": "execute_result"
    }
   ],
   "source": [
    "len(df.columns)"
   ]
  },
  {
   "cell_type": "code",
   "execution_count": 238,
   "metadata": {
    "collapsed": true
   },
   "outputs": [],
   "source": [
    "#df1 = pd.read_csv(\"MAERSK_Annular_2017_02_26_to_2017_06_19.csv\", sep = '\\t')"
   ]
  },
  {
   "cell_type": "code",
   "execution_count": 239,
   "metadata": {
    "collapsed": true
   },
   "outputs": [],
   "source": [
    "#df1 = pd.read_csv(\"LION_PressureTags_2017_04_24_to_2017_08_07.csv\", sep='\\t')"
   ]
  },
  {
   "cell_type": "code",
   "execution_count": 269,
   "metadata": {
    "collapsed": true
   },
   "outputs": [],
   "source": [
    "df['last_active_time'] = pd.to_datetime(df['last_active_time'])"
   ]
  },
  {
   "cell_type": "code",
   "execution_count": 270,
   "metadata": {
    "scrolled": true
   },
   "outputs": [
    {
     "data": {
      "text/html": [
       "<div>\n",
       "<style>\n",
       "    .dataframe thead tr:only-child th {\n",
       "        text-align: right;\n",
       "    }\n",
       "\n",
       "    .dataframe thead th {\n",
       "        text-align: left;\n",
       "    }\n",
       "\n",
       "    .dataframe tbody tr th {\n",
       "        vertical-align: top;\n",
       "    }\n",
       "</style>\n",
       "<table border=\"1\" class=\"dataframe\">\n",
       "  <thead>\n",
       "    <tr style=\"text-align: right;\">\n",
       "      <th></th>\n",
       "      <th>last_active_time</th>\n",
       "      <th>activePod</th>\n",
       "      <th>rig_id</th>\n",
       "      <th>Blue</th>\n",
       "      <th>Yellow</th>\n",
       "      <th>Active</th>\n",
       "      <th>BlueSem</th>\n",
       "      <th>YellowSem</th>\n",
       "      <th>LA Open Current</th>\n",
       "      <th>LA Close SC</th>\n",
       "      <th>...</th>\n",
       "      <th>YellowFlowIndx</th>\n",
       "      <th>Pod1 Total1</th>\n",
       "      <th>Pod1 Total2</th>\n",
       "      <th>Pod2 Total1</th>\n",
       "      <th>Pod2 Total2</th>\n",
       "      <th>user_entered_reference_pres_podtrans_pod_1_sema</th>\n",
       "      <th>user_entered_reference_pres_podtrans</th>\n",
       "      <th>user_entered_reference_pres_podtrans_pod_2_sema</th>\n",
       "      <th>pod_2_adj</th>\n",
       "      <th>pod_1_adj</th>\n",
       "    </tr>\n",
       "  </thead>\n",
       "  <tbody>\n",
       "    <tr>\n",
       "      <th>0</th>\n",
       "      <td>2018-01-01 00:00:04</td>\n",
       "      <td>2</td>\n",
       "      <td>LION</td>\n",
       "      <td>1</td>\n",
       "      <td>2</td>\n",
       "      <td>2</td>\n",
       "      <td>4</td>\n",
       "      <td>2</td>\n",
       "      <td>232</td>\n",
       "      <td>0</td>\n",
       "      <td>...</td>\n",
       "      <td>17</td>\n",
       "      <td>0.0</td>\n",
       "      <td>253.899994</td>\n",
       "      <td>0.0</td>\n",
       "      <td>516.539978</td>\n",
       "      <td>-2000</td>\n",
       "      <td>-2000</td>\n",
       "      <td>-2000</td>\n",
       "      <td>1476.719971</td>\n",
       "      <td>1544.319946</td>\n",
       "    </tr>\n",
       "    <tr>\n",
       "      <th>1</th>\n",
       "      <td>2018-01-01 00:00:09</td>\n",
       "      <td>2</td>\n",
       "      <td>LION</td>\n",
       "      <td>1</td>\n",
       "      <td>2</td>\n",
       "      <td>2</td>\n",
       "      <td>4</td>\n",
       "      <td>2</td>\n",
       "      <td>232</td>\n",
       "      <td>0</td>\n",
       "      <td>...</td>\n",
       "      <td>17</td>\n",
       "      <td>0.0</td>\n",
       "      <td>253.899994</td>\n",
       "      <td>0.0</td>\n",
       "      <td>516.539978</td>\n",
       "      <td>-2000</td>\n",
       "      <td>-2000</td>\n",
       "      <td>-2000</td>\n",
       "      <td>1476.719971</td>\n",
       "      <td>1544.319946</td>\n",
       "    </tr>\n",
       "    <tr>\n",
       "      <th>2</th>\n",
       "      <td>2018-01-01 00:00:14</td>\n",
       "      <td>2</td>\n",
       "      <td>LION</td>\n",
       "      <td>1</td>\n",
       "      <td>2</td>\n",
       "      <td>2</td>\n",
       "      <td>4</td>\n",
       "      <td>2</td>\n",
       "      <td>232</td>\n",
       "      <td>0</td>\n",
       "      <td>...</td>\n",
       "      <td>17</td>\n",
       "      <td>0.0</td>\n",
       "      <td>253.899994</td>\n",
       "      <td>0.0</td>\n",
       "      <td>516.539978</td>\n",
       "      <td>-2000</td>\n",
       "      <td>-2000</td>\n",
       "      <td>-2000</td>\n",
       "      <td>1476.719971</td>\n",
       "      <td>1544.319946</td>\n",
       "    </tr>\n",
       "    <tr>\n",
       "      <th>3</th>\n",
       "      <td>2018-01-01 00:00:23</td>\n",
       "      <td>2</td>\n",
       "      <td>LION</td>\n",
       "      <td>1</td>\n",
       "      <td>2</td>\n",
       "      <td>2</td>\n",
       "      <td>4</td>\n",
       "      <td>2</td>\n",
       "      <td>232</td>\n",
       "      <td>0</td>\n",
       "      <td>...</td>\n",
       "      <td>17</td>\n",
       "      <td>0.0</td>\n",
       "      <td>253.899994</td>\n",
       "      <td>0.0</td>\n",
       "      <td>516.539978</td>\n",
       "      <td>-2000</td>\n",
       "      <td>-2000</td>\n",
       "      <td>-2000</td>\n",
       "      <td>1476.719971</td>\n",
       "      <td>1544.319946</td>\n",
       "    </tr>\n",
       "    <tr>\n",
       "      <th>4</th>\n",
       "      <td>2018-01-01 00:00:24</td>\n",
       "      <td>2</td>\n",
       "      <td>LION</td>\n",
       "      <td>1</td>\n",
       "      <td>2</td>\n",
       "      <td>2</td>\n",
       "      <td>4</td>\n",
       "      <td>2</td>\n",
       "      <td>232</td>\n",
       "      <td>0</td>\n",
       "      <td>...</td>\n",
       "      <td>17</td>\n",
       "      <td>0.0</td>\n",
       "      <td>253.899994</td>\n",
       "      <td>0.0</td>\n",
       "      <td>516.539978</td>\n",
       "      <td>-2000</td>\n",
       "      <td>-2000</td>\n",
       "      <td>-2000</td>\n",
       "      <td>1476.719971</td>\n",
       "      <td>1544.319946</td>\n",
       "    </tr>\n",
       "  </tbody>\n",
       "</table>\n",
       "<p>5 rows × 43 columns</p>\n",
       "</div>"
      ],
      "text/plain": [
       "     last_active_time  activePod rig_id  Blue  Yellow  Active  BlueSem  \\\n",
       "0 2018-01-01 00:00:04          2   LION     1       2       2        4   \n",
       "1 2018-01-01 00:00:09          2   LION     1       2       2        4   \n",
       "2 2018-01-01 00:00:14          2   LION     1       2       2        4   \n",
       "3 2018-01-01 00:00:23          2   LION     1       2       2        4   \n",
       "4 2018-01-01 00:00:24          2   LION     1       2       2        4   \n",
       "\n",
       "   YellowSem  LA Open Current  LA Close SC     ...       YellowFlowIndx  \\\n",
       "0          2              232            0     ...                   17   \n",
       "1          2              232            0     ...                   17   \n",
       "2          2              232            0     ...                   17   \n",
       "3          2              232            0     ...                   17   \n",
       "4          2              232            0     ...                   17   \n",
       "\n",
       "   Pod1 Total1  Pod1 Total2  Pod2 Total1  Pod2 Total2  \\\n",
       "0          0.0   253.899994          0.0   516.539978   \n",
       "1          0.0   253.899994          0.0   516.539978   \n",
       "2          0.0   253.899994          0.0   516.539978   \n",
       "3          0.0   253.899994          0.0   516.539978   \n",
       "4          0.0   253.899994          0.0   516.539978   \n",
       "\n",
       "   user_entered_reference_pres_podtrans_pod_1_sema  \\\n",
       "0                                            -2000   \n",
       "1                                            -2000   \n",
       "2                                            -2000   \n",
       "3                                            -2000   \n",
       "4                                            -2000   \n",
       "\n",
       "   user_entered_reference_pres_podtrans  \\\n",
       "0                                 -2000   \n",
       "1                                 -2000   \n",
       "2                                 -2000   \n",
       "3                                 -2000   \n",
       "4                                 -2000   \n",
       "\n",
       "   user_entered_reference_pres_podtrans_pod_2_sema    pod_2_adj    pod_1_adj  \n",
       "0                                            -2000  1476.719971  1544.319946  \n",
       "1                                            -2000  1476.719971  1544.319946  \n",
       "2                                            -2000  1476.719971  1544.319946  \n",
       "3                                            -2000  1476.719971  1544.319946  \n",
       "4                                            -2000  1476.719971  1544.319946  \n",
       "\n",
       "[5 rows x 43 columns]"
      ]
     },
     "execution_count": 270,
     "metadata": {},
     "output_type": "execute_result"
    }
   ],
   "source": [
    "df.head()"
   ]
  },
  {
   "cell_type": "code",
   "execution_count": 271,
   "metadata": {},
   "outputs": [
    {
     "data": {
      "text/plain": [
       "['last_active_time',\n",
       " 'activePod',\n",
       " 'rig_id',\n",
       " 'Blue',\n",
       " 'Yellow',\n",
       " 'Active',\n",
       " 'BlueSem',\n",
       " 'YellowSem',\n",
       " 'LA Open Current',\n",
       " 'LA Close SC',\n",
       " 'LA Close SFS',\n",
       " 'LA Open SFS',\n",
       " 'LA Open SOC',\n",
       " 'LA Close SOC',\n",
       " 'Blue Adj Ref',\n",
       " 'Yellow Adj Ref',\n",
       " 'BLUE ADJ',\n",
       " 'YELLOW ADJ',\n",
       " 'LA RegRdbakPes 1/A',\n",
       " 'LA RegRdbakPes 1/B',\n",
       " 'LA RegRdbakPes 2/A',\n",
       " 'LA RegRdbakPes 2/B',\n",
       " 'LA RegRdbakPes',\n",
       " 'LA RegPilotPes',\n",
       " 'UA RegPilotPes',\n",
       " 'UA RegRdbakPes',\n",
       " 'pod_pilot_pres_podtrans',\n",
       " 'pod_supply_pres_podtrans',\n",
       " 'lower_ann_open_current',\n",
       " 'lower_ann_close_current',\n",
       " 'upper_ann_open_current',\n",
       " 'upper_ann_close_current',\n",
       " 'BlueFlowIndx',\n",
       " 'YellowFlowIndx',\n",
       " 'Pod1 Total1',\n",
       " 'Pod1 Total2',\n",
       " 'Pod2 Total1',\n",
       " 'Pod2 Total2',\n",
       " 'user_entered_reference_pres_podtrans_pod_1_sema',\n",
       " 'user_entered_reference_pres_podtrans',\n",
       " 'user_entered_reference_pres_podtrans_pod_2_sema',\n",
       " 'pod_2_adj',\n",
       " 'pod_1_adj']"
      ]
     },
     "execution_count": 271,
     "metadata": {},
     "output_type": "execute_result"
    }
   ],
   "source": [
    "list(df.columns.values)"
   ]
  },
  {
   "cell_type": "code",
   "execution_count": 243,
   "metadata": {
    "collapsed": true
   },
   "outputs": [],
   "source": [
    "## Selected Columns:\n",
    "# 'last_active_time','UA RegPilotPes', 'UA RegRdbakPes', 'pod_pilot_pres_podtrans', 'pod_supply_pres_podtrans',\n",
    "# 'upper_ann_open_current', 'upper_ann_close_current', 'pod_2_adj', 'pod_1_adj'"
   ]
  },
  {
   "cell_type": "code",
   "execution_count": 272,
   "metadata": {
    "collapsed": true
   },
   "outputs": [],
   "source": [
    "df_temp = df[['last_active_time','UA RegPilotPes', 'UA RegRdbakPes', 'pod_pilot_pres_podtrans', 'pod_supply_pres_podtrans',\n",
    "                'upper_ann_open_current', 'upper_ann_close_current', 'pod_2_adj', 'pod_1_adj','Active']]"
   ]
  },
  {
   "cell_type": "code",
   "execution_count": 273,
   "metadata": {
    "collapsed": true
   },
   "outputs": [],
   "source": [
    "#df2.head()"
   ]
  },
  {
   "cell_type": "code",
   "execution_count": 274,
   "metadata": {
    "collapsed": true
   },
   "outputs": [],
   "source": [
    "temp = df_temp.describe()"
   ]
  },
  {
   "cell_type": "code",
   "execution_count": 275,
   "metadata": {
    "scrolled": true
   },
   "outputs": [
    {
     "data": {
      "text/html": [
       "<div>\n",
       "<style>\n",
       "    .dataframe thead tr:only-child th {\n",
       "        text-align: right;\n",
       "    }\n",
       "\n",
       "    .dataframe thead th {\n",
       "        text-align: left;\n",
       "    }\n",
       "\n",
       "    .dataframe tbody tr th {\n",
       "        vertical-align: top;\n",
       "    }\n",
       "</style>\n",
       "<table border=\"1\" class=\"dataframe\">\n",
       "  <thead>\n",
       "    <tr style=\"text-align: right;\">\n",
       "      <th></th>\n",
       "      <th>UA RegPilotPes</th>\n",
       "      <th>UA RegRdbakPes</th>\n",
       "      <th>pod_pilot_pres_podtrans</th>\n",
       "      <th>pod_supply_pres_podtrans</th>\n",
       "      <th>upper_ann_open_current</th>\n",
       "      <th>upper_ann_close_current</th>\n",
       "      <th>pod_2_adj</th>\n",
       "      <th>pod_1_adj</th>\n",
       "      <th>Active</th>\n",
       "    </tr>\n",
       "  </thead>\n",
       "  <tbody>\n",
       "    <tr>\n",
       "      <th>count</th>\n",
       "      <td>502637.000000</td>\n",
       "      <td>502637.000000</td>\n",
       "      <td>502637.000000</td>\n",
       "      <td>502637.000000</td>\n",
       "      <td>502637.0</td>\n",
       "      <td>502637.0</td>\n",
       "      <td>502637.000000</td>\n",
       "      <td>502637.000000</td>\n",
       "      <td>502637.000000</td>\n",
       "    </tr>\n",
       "    <tr>\n",
       "      <th>mean</th>\n",
       "      <td>2898.216302</td>\n",
       "      <td>2629.647103</td>\n",
       "      <td>4526.756155</td>\n",
       "      <td>4311.154751</td>\n",
       "      <td>241.0</td>\n",
       "      <td>0.0</td>\n",
       "      <td>1471.812338</td>\n",
       "      <td>1522.420170</td>\n",
       "      <td>1.511584</td>\n",
       "    </tr>\n",
       "    <tr>\n",
       "      <th>std</th>\n",
       "      <td>263.595148</td>\n",
       "      <td>476.745897</td>\n",
       "      <td>171.211613</td>\n",
       "      <td>349.230937</td>\n",
       "      <td>0.0</td>\n",
       "      <td>0.0</td>\n",
       "      <td>51.292416</td>\n",
       "      <td>57.671665</td>\n",
       "      <td>0.499866</td>\n",
       "    </tr>\n",
       "    <tr>\n",
       "      <th>min</th>\n",
       "      <td>1985.920044</td>\n",
       "      <td>1151.319946</td>\n",
       "      <td>3797.649902</td>\n",
       "      <td>2162.159912</td>\n",
       "      <td>241.0</td>\n",
       "      <td>0.0</td>\n",
       "      <td>682.380005</td>\n",
       "      <td>678.669983</td>\n",
       "      <td>1.000000</td>\n",
       "    </tr>\n",
       "    <tr>\n",
       "      <th>25%</th>\n",
       "      <td>2829.129883</td>\n",
       "      <td>2584.639893</td>\n",
       "      <td>4396.770020</td>\n",
       "      <td>4081.250000</td>\n",
       "      <td>241.0</td>\n",
       "      <td>0.0</td>\n",
       "      <td>1476.719971</td>\n",
       "      <td>1516.989990</td>\n",
       "      <td>1.000000</td>\n",
       "    </tr>\n",
       "    <tr>\n",
       "      <th>50%</th>\n",
       "      <td>2955.179932</td>\n",
       "      <td>2812.500000</td>\n",
       "      <td>4409.200195</td>\n",
       "      <td>4314.209961</td>\n",
       "      <td>241.0</td>\n",
       "      <td>0.0</td>\n",
       "      <td>1476.719971</td>\n",
       "      <td>1516.989990</td>\n",
       "      <td>2.000000</td>\n",
       "    </tr>\n",
       "    <tr>\n",
       "      <th>75%</th>\n",
       "      <td>3098.959961</td>\n",
       "      <td>2890.620117</td>\n",
       "      <td>4714.080078</td>\n",
       "      <td>4618.750000</td>\n",
       "      <td>241.0</td>\n",
       "      <td>0.0</td>\n",
       "      <td>1476.719971</td>\n",
       "      <td>1544.319946</td>\n",
       "      <td>2.000000</td>\n",
       "    </tr>\n",
       "    <tr>\n",
       "      <th>max</th>\n",
       "      <td>3732.489990</td>\n",
       "      <td>3685.639893</td>\n",
       "      <td>4794.720215</td>\n",
       "      <td>4775.000000</td>\n",
       "      <td>241.0</td>\n",
       "      <td>0.0</td>\n",
       "      <td>1519.849976</td>\n",
       "      <td>1544.319946</td>\n",
       "      <td>2.000000</td>\n",
       "    </tr>\n",
       "  </tbody>\n",
       "</table>\n",
       "</div>"
      ],
      "text/plain": [
       "       UA RegPilotPes  UA RegRdbakPes  pod_pilot_pres_podtrans  \\\n",
       "count   502637.000000   502637.000000            502637.000000   \n",
       "mean      2898.216302     2629.647103              4526.756155   \n",
       "std        263.595148      476.745897               171.211613   \n",
       "min       1985.920044     1151.319946              3797.649902   \n",
       "25%       2829.129883     2584.639893              4396.770020   \n",
       "50%       2955.179932     2812.500000              4409.200195   \n",
       "75%       3098.959961     2890.620117              4714.080078   \n",
       "max       3732.489990     3685.639893              4794.720215   \n",
       "\n",
       "       pod_supply_pres_podtrans  upper_ann_open_current  \\\n",
       "count             502637.000000                502637.0   \n",
       "mean                4311.154751                   241.0   \n",
       "std                  349.230937                     0.0   \n",
       "min                 2162.159912                   241.0   \n",
       "25%                 4081.250000                   241.0   \n",
       "50%                 4314.209961                   241.0   \n",
       "75%                 4618.750000                   241.0   \n",
       "max                 4775.000000                   241.0   \n",
       "\n",
       "       upper_ann_close_current      pod_2_adj      pod_1_adj         Active  \n",
       "count                 502637.0  502637.000000  502637.000000  502637.000000  \n",
       "mean                       0.0    1471.812338    1522.420170       1.511584  \n",
       "std                        0.0      51.292416      57.671665       0.499866  \n",
       "min                        0.0     682.380005     678.669983       1.000000  \n",
       "25%                        0.0    1476.719971    1516.989990       1.000000  \n",
       "50%                        0.0    1476.719971    1516.989990       2.000000  \n",
       "75%                        0.0    1476.719971    1544.319946       2.000000  \n",
       "max                        0.0    1519.849976    1544.319946       2.000000  "
      ]
     },
     "execution_count": 275,
     "metadata": {},
     "output_type": "execute_result"
    }
   ],
   "source": [
    "temp"
   ]
  },
  {
   "cell_type": "code",
   "execution_count": 248,
   "metadata": {},
   "outputs": [],
   "source": [
    "#stat_summary"
   ]
  },
  {
   "cell_type": "code",
   "execution_count": null,
   "metadata": {
    "collapsed": true
   },
   "outputs": [],
   "source": []
  },
  {
   "cell_type": "code",
   "execution_count": 276,
   "metadata": {},
   "outputs": [
    {
     "name": "stderr",
     "output_type": "stream",
     "text": [
      "C:\\Users\\1535980\\Anaconda\\lib\\site-packages\\ipykernel_launcher.py:1: SettingWithCopyWarning: \n",
      "A value is trying to be set on a copy of a slice from a DataFrame.\n",
      "Try using .loc[row_indexer,col_indexer] = value instead\n",
      "\n",
      "See the caveats in the documentation: http://pandas.pydata.org/pandas-docs/stable/indexing.html#indexing-view-versus-copy\n",
      "  \"\"\"Entry point for launching an IPython kernel.\n"
     ]
    }
   ],
   "source": [
    "df_temp['UA RegPilotPes_adj'] = np.where(df_temp['Active'] == 1, df_temp['UA RegPilotPes']- df_temp['pod_1_adj'],df_temp['UA RegPilotPes']- df_temp['pod_2_adj'])"
   ]
  },
  {
   "cell_type": "code",
   "execution_count": 277,
   "metadata": {
    "scrolled": true
   },
   "outputs": [
    {
     "name": "stderr",
     "output_type": "stream",
     "text": [
      "C:\\Users\\1535980\\Anaconda\\lib\\site-packages\\ipykernel_launcher.py:1: SettingWithCopyWarning: \n",
      "A value is trying to be set on a copy of a slice from a DataFrame.\n",
      "Try using .loc[row_indexer,col_indexer] = value instead\n",
      "\n",
      "See the caveats in the documentation: http://pandas.pydata.org/pandas-docs/stable/indexing.html#indexing-view-versus-copy\n",
      "  \"\"\"Entry point for launching an IPython kernel.\n"
     ]
    }
   ],
   "source": [
    "df_temp['UA RegRdbakPes_adj'] = np.where(df_temp['Active'] == 1, df_temp['UA RegRdbakPes']- df_temp['pod_1_adj'],df_temp['UA RegRdbakPes']- df_temp['pod_2_adj']) "
   ]
  },
  {
   "cell_type": "code",
   "execution_count": 278,
   "metadata": {},
   "outputs": [
    {
     "name": "stderr",
     "output_type": "stream",
     "text": [
      "C:\\Users\\1535980\\Anaconda\\lib\\site-packages\\ipykernel_launcher.py:1: SettingWithCopyWarning: \n",
      "A value is trying to be set on a copy of a slice from a DataFrame.\n",
      "Try using .loc[row_indexer,col_indexer] = value instead\n",
      "\n",
      "See the caveats in the documentation: http://pandas.pydata.org/pandas-docs/stable/indexing.html#indexing-view-versus-copy\n",
      "  \"\"\"Entry point for launching an IPython kernel.\n"
     ]
    }
   ],
   "source": [
    "df_temp['pod_pilot_pres_podtrans_adj'] = np.where(df_temp['Active'] == 1, df_temp['pod_pilot_pres_podtrans']- df_temp['pod_1_adj'],df_temp['pod_pilot_pres_podtrans']- df_temp['pod_2_adj']) "
   ]
  },
  {
   "cell_type": "code",
   "execution_count": 279,
   "metadata": {},
   "outputs": [
    {
     "name": "stderr",
     "output_type": "stream",
     "text": [
      "C:\\Users\\1535980\\Anaconda\\lib\\site-packages\\ipykernel_launcher.py:1: SettingWithCopyWarning: \n",
      "A value is trying to be set on a copy of a slice from a DataFrame.\n",
      "Try using .loc[row_indexer,col_indexer] = value instead\n",
      "\n",
      "See the caveats in the documentation: http://pandas.pydata.org/pandas-docs/stable/indexing.html#indexing-view-versus-copy\n",
      "  \"\"\"Entry point for launching an IPython kernel.\n"
     ]
    }
   ],
   "source": [
    "df_temp['pod_supply_pres_podtrans_adj'] = np.where(df_temp['Active'] == 1, df_temp['pod_supply_pres_podtrans']- df_temp['pod_1_adj'],df_temp['pod_supply_pres_podtrans']- df_temp['pod_2_adj']) "
   ]
  },
  {
   "cell_type": "code",
   "execution_count": 280,
   "metadata": {},
   "outputs": [
    {
     "data": {
      "text/html": [
       "<div>\n",
       "<style>\n",
       "    .dataframe thead tr:only-child th {\n",
       "        text-align: right;\n",
       "    }\n",
       "\n",
       "    .dataframe thead th {\n",
       "        text-align: left;\n",
       "    }\n",
       "\n",
       "    .dataframe tbody tr th {\n",
       "        vertical-align: top;\n",
       "    }\n",
       "</style>\n",
       "<table border=\"1\" class=\"dataframe\">\n",
       "  <thead>\n",
       "    <tr style=\"text-align: right;\">\n",
       "      <th></th>\n",
       "      <th>UA RegPilotPes_adj</th>\n",
       "      <th>UA RegRdbakPes_adj</th>\n",
       "      <th>pod_pilot_pres_podtrans_adj</th>\n",
       "      <th>pod_supply_pres_podtrans_adj</th>\n",
       "      <th>upper_ann_open_current</th>\n",
       "      <th>upper_ann_close_current</th>\n",
       "    </tr>\n",
       "  </thead>\n",
       "  <tbody>\n",
       "    <tr>\n",
       "      <th>count</th>\n",
       "      <td>502637.000000</td>\n",
       "      <td>502637.000000</td>\n",
       "      <td>502637.000000</td>\n",
       "      <td>502637.000000</td>\n",
       "      <td>502637.0</td>\n",
       "      <td>502637.0</td>\n",
       "    </tr>\n",
       "    <tr>\n",
       "      <th>mean</th>\n",
       "      <td>1406.615833</td>\n",
       "      <td>1138.046634</td>\n",
       "      <td>3035.155686</td>\n",
       "      <td>2819.554282</td>\n",
       "      <td>241.0</td>\n",
       "      <td>0.0</td>\n",
       "    </tr>\n",
       "    <tr>\n",
       "      <th>std</th>\n",
       "      <td>251.097687</td>\n",
       "      <td>469.932239</td>\n",
       "      <td>184.946703</td>\n",
       "      <td>356.342043</td>\n",
       "      <td>0.0</td>\n",
       "      <td>0.0</td>\n",
       "    </tr>\n",
       "    <tr>\n",
       "      <th>min</th>\n",
       "      <td>509.200073</td>\n",
       "      <td>-365.670044</td>\n",
       "      <td>2716.829834</td>\n",
       "      <td>645.169922</td>\n",
       "      <td>241.0</td>\n",
       "      <td>0.0</td>\n",
       "    </tr>\n",
       "    <tr>\n",
       "      <th>25%</th>\n",
       "      <td>1359.409912</td>\n",
       "      <td>1087.959961</td>\n",
       "      <td>2879.780029</td>\n",
       "      <td>2591.489990</td>\n",
       "      <td>241.0</td>\n",
       "      <td>0.0</td>\n",
       "    </tr>\n",
       "    <tr>\n",
       "      <th>50%</th>\n",
       "      <td>1478.459961</td>\n",
       "      <td>1315.040039</td>\n",
       "      <td>2899.500244</td>\n",
       "      <td>2823.280029</td>\n",
       "      <td>241.0</td>\n",
       "      <td>0.0</td>\n",
       "    </tr>\n",
       "    <tr>\n",
       "      <th>75%</th>\n",
       "      <td>1581.969971</td>\n",
       "      <td>1380.149902</td>\n",
       "      <td>3237.360107</td>\n",
       "      <td>3110.780029</td>\n",
       "      <td>241.0</td>\n",
       "      <td>0.0</td>\n",
       "    </tr>\n",
       "    <tr>\n",
       "      <th>max</th>\n",
       "      <td>2255.770020</td>\n",
       "      <td>2208.919922</td>\n",
       "      <td>3528.080200</td>\n",
       "      <td>3353.060059</td>\n",
       "      <td>241.0</td>\n",
       "      <td>0.0</td>\n",
       "    </tr>\n",
       "  </tbody>\n",
       "</table>\n",
       "</div>"
      ],
      "text/plain": [
       "       UA RegPilotPes_adj  UA RegRdbakPes_adj  pod_pilot_pres_podtrans_adj  \\\n",
       "count       502637.000000       502637.000000                502637.000000   \n",
       "mean          1406.615833         1138.046634                  3035.155686   \n",
       "std            251.097687          469.932239                   184.946703   \n",
       "min            509.200073         -365.670044                  2716.829834   \n",
       "25%           1359.409912         1087.959961                  2879.780029   \n",
       "50%           1478.459961         1315.040039                  2899.500244   \n",
       "75%           1581.969971         1380.149902                  3237.360107   \n",
       "max           2255.770020         2208.919922                  3528.080200   \n",
       "\n",
       "       pod_supply_pres_podtrans_adj  upper_ann_open_current  \\\n",
       "count                 502637.000000                502637.0   \n",
       "mean                    2819.554282                   241.0   \n",
       "std                      356.342043                     0.0   \n",
       "min                      645.169922                   241.0   \n",
       "25%                     2591.489990                   241.0   \n",
       "50%                     2823.280029                   241.0   \n",
       "75%                     3110.780029                   241.0   \n",
       "max                     3353.060059                   241.0   \n",
       "\n",
       "       upper_ann_close_current  \n",
       "count                 502637.0  \n",
       "mean                       0.0  \n",
       "std                        0.0  \n",
       "min                        0.0  \n",
       "25%                        0.0  \n",
       "50%                        0.0  \n",
       "75%                        0.0  \n",
       "max                        0.0  "
      ]
     },
     "execution_count": 280,
     "metadata": {},
     "output_type": "execute_result"
    }
   ],
   "source": [
    "df_temp[['UA RegPilotPes_adj', 'UA RegRdbakPes_adj', 'pod_pilot_pres_podtrans_adj', 'pod_supply_pres_podtrans_adj', 'upper_ann_open_current', 'upper_ann_close_current']].describe()"
   ]
  },
  {
   "cell_type": "code",
   "execution_count": 281,
   "metadata": {
    "collapsed": true
   },
   "outputs": [],
   "source": [
    "temp = df_temp[['UA RegPilotPes_adj', 'UA RegRdbakPes_adj', 'pod_pilot_pres_podtrans_adj', 'pod_supply_pres_podtrans_adj', 'upper_ann_open_current', 'upper_ann_close_current']].describe()"
   ]
  },
  {
   "cell_type": "code",
   "execution_count": 282,
   "metadata": {},
   "outputs": [],
   "source": [
    "temp.to_excel(\"summary_2017_01_01_to_2017_01_31.xlsx\")"
   ]
  },
  {
   "cell_type": "code",
   "execution_count": 283,
   "metadata": {
    "scrolled": true
   },
   "outputs": [
    {
     "data": {
      "text/plain": [
       "[<matplotlib.lines.Line2D at 0x1bec34908>]"
      ]
     },
     "execution_count": 283,
     "metadata": {},
     "output_type": "execute_result"
    },
    {
     "data": {
      "image/png": "[encoded data removed]",
      "text/plain": [
       "<matplotlib.figure.Figure at 0x1b7c0d898>"
      ]
     },
     "metadata": {},
     "output_type": "display_data"
    }
   ],
   "source": [
    "plt.figure(figsize=(12,5))\n",
    "plt.plot(df_temp.last_active_time,df_temp.upper_ann_open_current, color = 'red')"
   ]
  },
  {
   "cell_type": "code",
   "execution_count": 284,
   "metadata": {
    "scrolled": true
   },
   "outputs": [
    {
     "data": {
      "text/plain": [
       "[<matplotlib.lines.Line2D at 0x1d5b3bcc0>]"
      ]
     },
     "execution_count": 284,
     "metadata": {},
     "output_type": "execute_result"
    },
    {
     "data": {
      "image/png": "[encoded data removed]",
      "text/plain": [
       "<matplotlib.figure.Figure at 0x7eb3a940>"
      ]
     },
     "metadata": {},
     "output_type": "display_data"
    }
   ],
   "source": [
    "plt.figure(figsize=(12,5))\n",
    "plt.plot(df_temp.last_active_time, df_temp.upper_ann_close_current, color = 'red')"
   ]
  },
  {
   "cell_type": "code",
   "execution_count": 285,
   "metadata": {},
   "outputs": [
    {
     "data": {
      "text/plain": [
       "[<matplotlib.lines.Line2D at 0x1bec202b0>]"
      ]
     },
     "execution_count": 285,
     "metadata": {},
     "output_type": "execute_result"
    },
    {
     "data": {
      "image/png": "[encoded data removed]",
      "text/plain": [
       "<matplotlib.figure.Figure at 0x1d5b415f8>"
      ]
     },
     "metadata": {},
     "output_type": "display_data"
    }
   ],
   "source": [
    "plt.figure(figsize=(12,5))\n",
    "plt.plot(df_temp.last_active_time, df_temp[['UA RegPilotPes_adj']], color = 'green')"
   ]
  },
  {
   "cell_type": "code",
   "execution_count": 286,
   "metadata": {},
   "outputs": [
    {
     "data": {
      "text/plain": [
       "[<matplotlib.lines.Line2D at 0x1d5a80b70>]"
      ]
     },
     "execution_count": 286,
     "metadata": {},
     "output_type": "execute_result"
    },
    {
     "data": {
      "image/png": "[encoded data removed]",
      "text/plain": [
       "<matplotlib.figure.Figure at 0x1d5a65940>"
      ]
     },
     "metadata": {},
     "output_type": "display_data"
    }
   ],
   "source": [
    "plt.figure(figsize=(12,5))\n",
    "plt.plot(df_temp.last_active_time, df_temp[['UA RegRdbakPes_adj']], color = 'green')"
   ]
  },
  {
   "cell_type": "code",
   "execution_count": 287,
   "metadata": {},
   "outputs": [
    {
     "data": {
      "text/plain": [
       "[<matplotlib.lines.Line2D at 0x1d5ad5cf8>]"
      ]
     },
     "execution_count": 287,
     "metadata": {},
     "output_type": "execute_result"
    },
    {
     "data": {
      "image/png": "[encoded data removed]",
      "text/plain": [
       "<matplotlib.figure.Figure at 0x1d5abb8d0>"
      ]
     },
     "metadata": {},
     "output_type": "display_data"
    }
   ],
   "source": [
    "plt.figure(figsize=(12,5))\n",
    "plt.plot(df_temp.last_active_time, df_temp[['pod_pilot_pres_podtrans_adj']], color = 'blue')"
   ]
  },
  {
   "cell_type": "code",
   "execution_count": 288,
   "metadata": {
    "scrolled": true
   },
   "outputs": [
    {
     "data": {
      "text/plain": [
       "[<matplotlib.lines.Line2D at 0x1d5ad0eb8>]"
      ]
     },
     "execution_count": 288,
     "metadata": {},
     "output_type": "execute_result"
    },
    {
     "data": {
      "image/png": "[encoded data removed]",
      "text/plain": [
       "<matplotlib.figure.Figure at 0x1d5ad5278>"
      ]
     },
     "metadata": {},
     "output_type": "display_data"
    }
   ],
   "source": [
    "plt.figure(figsize=(12,5))\n",
    "plt.plot(df_temp.last_active_time, df_temp[['pod_supply_pres_podtrans_adj']], color = 'blue')"
   ]
  },
  {
   "cell_type": "code",
   "execution_count": 289,
   "metadata": {},
   "outputs": [
    {
     "ename": "NameError",
     "evalue": "name 'df1' is not defined",
     "output_type": "error",
     "traceback": [
      "\u001b[1;31m---------------------------------------------------------------------------\u001b[0m",
      "\u001b[1;31mNameError\u001b[0m                                 Traceback (most recent call last)",
      "\u001b[1;32m<ipython-input-289-835807b1861d>\u001b[0m in \u001b[0;36m<module>\u001b[1;34m()\u001b[0m\n\u001b[0;32m      1\u001b[0m \u001b[0mplt\u001b[0m\u001b[1;33m.\u001b[0m\u001b[0mfigure\u001b[0m\u001b[1;33m(\u001b[0m\u001b[0mfigsize\u001b[0m\u001b[1;33m=\u001b[0m\u001b[1;33m(\u001b[0m\u001b[1;36m12\u001b[0m\u001b[1;33m,\u001b[0m\u001b[1;36m5\u001b[0m\u001b[1;33m)\u001b[0m\u001b[1;33m)\u001b[0m\u001b[1;33m\u001b[0m\u001b[0m\n\u001b[1;32m----> 2\u001b[1;33m \u001b[0mplt\u001b[0m\u001b[1;33m.\u001b[0m\u001b[0mplot\u001b[0m\u001b[1;33m(\u001b[0m\u001b[0mdf1\u001b[0m\u001b[1;33m[\u001b[0m\u001b[1;33m[\u001b[0m\u001b[1;34m'pod_1_adj'\u001b[0m\u001b[1;33m]\u001b[0m\u001b[1;33m]\u001b[0m\u001b[1;33m,\u001b[0m \u001b[0mcolor\u001b[0m \u001b[1;33m=\u001b[0m \u001b[1;34m'blue'\u001b[0m\u001b[1;33m)\u001b[0m\u001b[1;33m\u001b[0m\u001b[0m\n\u001b[0m",
      "\u001b[1;31mNameError\u001b[0m: name 'df1' is not defined"
     ]
    },
    {
     "data": {
      "text/plain": [
       "<matplotlib.figure.Figure at 0x1d5ba65f8>"
      ]
     },
     "metadata": {},
     "output_type": "display_data"
    }
   ],
   "source": [
    "plt.figure(figsize=(12,5))\n",
    "plt.plot(df1[['pod_1_adj']], color = 'blue')"
   ]
  },
  {
   "cell_type": "code",
   "execution_count": 24,
   "metadata": {},
   "outputs": [
    {
     "ename": "NameError",
     "evalue": "name 'df2_temp' is not defined",
     "output_type": "error",
     "traceback": [
      "\u001b[1;31m---------------------------------------------------------------------------\u001b[0m",
      "\u001b[1;31mNameError\u001b[0m                                 Traceback (most recent call last)",
      "\u001b[1;32m<ipython-input-24-f7f560e76d31>\u001b[0m in \u001b[0;36m<module>\u001b[1;34m()\u001b[0m\n\u001b[0;32m      1\u001b[0m \u001b[1;31m#Write both MAERSK fiels in a xls file for Tableau and reuse\u001b[0m\u001b[1;33m\u001b[0m\u001b[1;33m\u001b[0m\u001b[0m\n\u001b[1;32m----> 2\u001b[1;33m \u001b[0mdf2_temp\u001b[0m\u001b[1;33m.\u001b[0m\u001b[0mto_excel\u001b[0m\u001b[1;33m(\u001b[0m\u001b[1;34m\"MAERSK_Annular_2017_06_19_to_2018_03_31_v1.xlsx\"\u001b[0m\u001b[1;33m,\u001b[0m \u001b[0msheet_name\u001b[0m\u001b[1;33m=\u001b[0m\u001b[1;34m'Sheet_name_1'\u001b[0m\u001b[1;33m)\u001b[0m\u001b[1;33m\u001b[0m\u001b[0m\n\u001b[0m",
      "\u001b[1;31mNameError\u001b[0m: name 'df2_temp' is not defined"
     ]
    }
   ],
   "source": [
    "#Write both MAERSK fiels in a xls file for Tableau and reuse\n",
    "df2_temp.to_excel(\"MAERSK_Annular_2017_06_19_to_2018_03_31_v1.xlsx\", sheet_name='Sheet_name_1')"
   ]
  },
  {
   "cell_type": "code",
   "execution_count": null,
   "metadata": {
    "collapsed": true
   },
   "outputs": [],
   "source": []
  },
  {
   "cell_type": "code",
   "execution_count": null,
   "metadata": {
    "collapsed": true
   },
   "outputs": [],
   "source": []
  }
 ],
 "metadata": {
  "kernelspec": {
   "display_name": "Python 3",
   "language": "python",
   "name": "python3"
  },
  "language_info": {
   "codemirror_mode": {
    "name": "ipython",
    "version": 3
   },
   "file_extension": ".py",
   "mimetype": "text/x-python",
   "name": "python",
   "nbconvert_exporter": "python",
   "pygments_lexer": "ipython3",
   "version": "3.6.3"
  }
 },
 "nbformat": 4,
 "nbformat_minor": 2
}
