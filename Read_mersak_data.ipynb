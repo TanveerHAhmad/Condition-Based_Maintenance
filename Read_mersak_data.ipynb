{
 "cells": [
  {
   "cell_type": "code",
   "execution_count": 65,
   "metadata": {
    "collapsed": true
   },
   "outputs": [],
   "source": [
    "import pandas as pd\n",
    "import numpy as np\n",
    "import csv\n",
    "import matplotlib.pyplot as plt\n",
    "%matplotlib inline"
   ]
  },
  {
   "cell_type": "code",
   "execution_count": null,
   "metadata": {
    "collapsed": true
   },
   "outputs": [],
   "source": []
  },
  {
   "cell_type": "code",
   "execution_count": null,
   "metadata": {
    "collapsed": true
   },
   "outputs": [],
   "source": [
    "#df1 = pd.read_csv(\"MAERSK_Annular_2017_02_26_to_2017_06_19.csv\", sep = '\\t')"
   ]
  },
  {
   "cell_type": "code",
   "execution_count": 45,
   "metadata": {
    "collapsed": true
   },
   "outputs": [],
   "source": [
    "df1 = pd.read_csv(\"MAERSK_PressureTags_2017_06_19_to_2018_03_31.csv\", sep='\\t')"
   ]
  },
  {
   "cell_type": "code",
   "execution_count": 52,
   "metadata": {},
   "outputs": [
    {
     "data": {
      "text/plain": [
       "last_active_time                                   datetime64[ns]\n",
       "activePod                                                   int64\n",
       "rig_id                                                     object\n",
       "Blue                                                        int64\n",
       "Yellow                                                      int64\n",
       "Active                                                      int64\n",
       "BlueSem                                                     int64\n",
       "YellowSem                                                   int64\n",
       "LA Open Current                                             int64\n",
       "LA Close SC                                                 int64\n",
       "LA Close SFS                                                int64\n",
       "LA Open SFS                                                 int64\n",
       "LA Open SOC                                                 int64\n",
       "LA Close SOC                                                int64\n",
       "Blue Adj Ref                                                int64\n",
       "Yellow Adj Ref                                              int64\n",
       "BLUE ADJ                                                  float64\n",
       "YELLOW ADJ                                                float64\n",
       "LA RegRdbakPes 1/A                                        float64\n",
       "LA RegRdbakPes 1/B                                        float64\n",
       "LA RegRdbakPes 2/A                                        float64\n",
       "LA RegRdbakPes 2/B                                        float64\n",
       "LA RegRdbakPes                                            float64\n",
       "LA RegPilotPes                                            float64\n",
       "UA RegPilotPes                                            float64\n",
       "UA RegRdbakPes                                            float64\n",
       "pod_pilot_pres_podtrans                                   float64\n",
       "pod_supply_pres_podtrans                                  float64\n",
       "lower_ann_open_current                                      int64\n",
       "lower_ann_close_current                                     int64\n",
       "upper_ann_open_current                                      int64\n",
       "upper_ann_close_current                                     int64\n",
       "BlueFlowIndx                                                int64\n",
       "YellowFlowIndx                                              int64\n",
       "Pod1 Total1                                               float64\n",
       "Pod1 Total2                                               float64\n",
       "Pod2 Total1                                               float64\n",
       "Pod2 Total2                                               float64\n",
       "user_entered_reference_pres_podtrans_pod_1_sema             int64\n",
       "user_entered_reference_pres_podtrans                        int64\n",
       "user_entered_reference_pres_podtrans_pod_2_sema             int64\n",
       "pod_2_adj                                                 float64\n",
       "pod_1_adj                                                 float64\n",
       "dtype: object"
      ]
     },
     "execution_count": 52,
     "metadata": {},
     "output_type": "execute_result"
    }
   ],
   "source": [
    "df1.dtypes"
   ]
  },
  {
   "cell_type": "code",
   "execution_count": 53,
   "metadata": {
    "collapsed": true
   },
   "outputs": [],
   "source": [
    "df1['last_active_time'] = pd.to_datetime(df1['last_active_time'])"
   ]
  },
  {
   "cell_type": "code",
   "execution_count": 54,
   "metadata": {
    "scrolled": true
   },
   "outputs": [
    {
     "data": {
      "text/html": [
       "<div>\n",
       "<style>\n",
       "    .dataframe thead tr:only-child th {\n",
       "        text-align: right;\n",
       "    }\n",
       "\n",
       "    .dataframe thead th {\n",
       "        text-align: left;\n",
       "    }\n",
       "\n",
       "    .dataframe tbody tr th {\n",
       "        vertical-align: top;\n",
       "    }\n",
       "</style>\n",
       "<table border=\"1\" class=\"dataframe\">\n",
       "  <thead>\n",
       "    <tr style=\"text-align: right;\">\n",
       "      <th></th>\n",
       "      <th>last_active_time</th>\n",
       "      <th>activePod</th>\n",
       "      <th>rig_id</th>\n",
       "      <th>Blue</th>\n",
       "      <th>Yellow</th>\n",
       "      <th>Active</th>\n",
       "      <th>BlueSem</th>\n",
       "      <th>YellowSem</th>\n",
       "      <th>LA Open Current</th>\n",
       "      <th>LA Close SC</th>\n",
       "      <th>...</th>\n",
       "      <th>YellowFlowIndx</th>\n",
       "      <th>Pod1 Total1</th>\n",
       "      <th>Pod1 Total2</th>\n",
       "      <th>Pod2 Total1</th>\n",
       "      <th>Pod2 Total2</th>\n",
       "      <th>user_entered_reference_pres_podtrans_pod_1_sema</th>\n",
       "      <th>user_entered_reference_pres_podtrans</th>\n",
       "      <th>user_entered_reference_pres_podtrans_pod_2_sema</th>\n",
       "      <th>pod_2_adj</th>\n",
       "      <th>pod_1_adj</th>\n",
       "    </tr>\n",
       "  </thead>\n",
       "  <tbody>\n",
       "    <tr>\n",
       "      <th>0</th>\n",
       "      <td>2017-06-19 18:15:49</td>\n",
       "      <td>1</td>\n",
       "      <td>MAERSK_DISC</td>\n",
       "      <td>1</td>\n",
       "      <td>3</td>\n",
       "      <td>1</td>\n",
       "      <td>2</td>\n",
       "      <td>4</td>\n",
       "      <td>236</td>\n",
       "      <td>0</td>\n",
       "      <td>...</td>\n",
       "      <td>18</td>\n",
       "      <td>20.889999</td>\n",
       "      <td>695.179993</td>\n",
       "      <td>0.0</td>\n",
       "      <td>0.0</td>\n",
       "      <td>-3000</td>\n",
       "      <td>-3000</td>\n",
       "      <td>-1500</td>\n",
       "      <td>904.390015</td>\n",
       "      <td>793.150024</td>\n",
       "    </tr>\n",
       "    <tr>\n",
       "      <th>1</th>\n",
       "      <td>2017-06-19 18:15:51</td>\n",
       "      <td>1</td>\n",
       "      <td>MAERSK_DISC</td>\n",
       "      <td>1</td>\n",
       "      <td>3</td>\n",
       "      <td>1</td>\n",
       "      <td>2</td>\n",
       "      <td>4</td>\n",
       "      <td>236</td>\n",
       "      <td>0</td>\n",
       "      <td>...</td>\n",
       "      <td>18</td>\n",
       "      <td>20.889999</td>\n",
       "      <td>695.179993</td>\n",
       "      <td>0.0</td>\n",
       "      <td>0.0</td>\n",
       "      <td>-3000</td>\n",
       "      <td>-3000</td>\n",
       "      <td>-1500</td>\n",
       "      <td>904.390015</td>\n",
       "      <td>793.150024</td>\n",
       "    </tr>\n",
       "    <tr>\n",
       "      <th>2</th>\n",
       "      <td>2017-06-19 18:15:53</td>\n",
       "      <td>1</td>\n",
       "      <td>MAERSK_DISC</td>\n",
       "      <td>1</td>\n",
       "      <td>3</td>\n",
       "      <td>1</td>\n",
       "      <td>2</td>\n",
       "      <td>4</td>\n",
       "      <td>236</td>\n",
       "      <td>0</td>\n",
       "      <td>...</td>\n",
       "      <td>18</td>\n",
       "      <td>20.889999</td>\n",
       "      <td>695.179993</td>\n",
       "      <td>0.0</td>\n",
       "      <td>0.0</td>\n",
       "      <td>-3000</td>\n",
       "      <td>-3000</td>\n",
       "      <td>-1500</td>\n",
       "      <td>904.390015</td>\n",
       "      <td>793.150024</td>\n",
       "    </tr>\n",
       "    <tr>\n",
       "      <th>3</th>\n",
       "      <td>2017-06-19 18:15:55</td>\n",
       "      <td>1</td>\n",
       "      <td>MAERSK_DISC</td>\n",
       "      <td>1</td>\n",
       "      <td>3</td>\n",
       "      <td>1</td>\n",
       "      <td>2</td>\n",
       "      <td>4</td>\n",
       "      <td>236</td>\n",
       "      <td>0</td>\n",
       "      <td>...</td>\n",
       "      <td>18</td>\n",
       "      <td>20.889999</td>\n",
       "      <td>695.179993</td>\n",
       "      <td>0.0</td>\n",
       "      <td>0.0</td>\n",
       "      <td>-3000</td>\n",
       "      <td>-3000</td>\n",
       "      <td>-1500</td>\n",
       "      <td>904.390015</td>\n",
       "      <td>793.150024</td>\n",
       "    </tr>\n",
       "    <tr>\n",
       "      <th>4</th>\n",
       "      <td>2017-06-19 18:15:56</td>\n",
       "      <td>1</td>\n",
       "      <td>MAERSK_DISC</td>\n",
       "      <td>1</td>\n",
       "      <td>3</td>\n",
       "      <td>1</td>\n",
       "      <td>2</td>\n",
       "      <td>4</td>\n",
       "      <td>236</td>\n",
       "      <td>0</td>\n",
       "      <td>...</td>\n",
       "      <td>18</td>\n",
       "      <td>20.889999</td>\n",
       "      <td>695.179993</td>\n",
       "      <td>0.0</td>\n",
       "      <td>0.0</td>\n",
       "      <td>-3000</td>\n",
       "      <td>-3000</td>\n",
       "      <td>-1500</td>\n",
       "      <td>904.390015</td>\n",
       "      <td>793.150024</td>\n",
       "    </tr>\n",
       "  </tbody>\n",
       "</table>\n",
       "<p>5 rows × 43 columns</p>\n",
       "</div>"
      ],
      "text/plain": [
       "     last_active_time  activePod       rig_id  Blue  Yellow  Active  BlueSem  \\\n",
       "0 2017-06-19 18:15:49          1  MAERSK_DISC     1       3       1        2   \n",
       "1 2017-06-19 18:15:51          1  MAERSK_DISC     1       3       1        2   \n",
       "2 2017-06-19 18:15:53          1  MAERSK_DISC     1       3       1        2   \n",
       "3 2017-06-19 18:15:55          1  MAERSK_DISC     1       3       1        2   \n",
       "4 2017-06-19 18:15:56          1  MAERSK_DISC     1       3       1        2   \n",
       "\n",
       "   YellowSem  LA Open Current  LA Close SC     ...      YellowFlowIndx  \\\n",
       "0          4              236            0     ...                  18   \n",
       "1          4              236            0     ...                  18   \n",
       "2          4              236            0     ...                  18   \n",
       "3          4              236            0     ...                  18   \n",
       "4          4              236            0     ...                  18   \n",
       "\n",
       "   Pod1 Total1  Pod1 Total2  Pod2 Total1  Pod2 Total2  \\\n",
       "0    20.889999   695.179993          0.0          0.0   \n",
       "1    20.889999   695.179993          0.0          0.0   \n",
       "2    20.889999   695.179993          0.0          0.0   \n",
       "3    20.889999   695.179993          0.0          0.0   \n",
       "4    20.889999   695.179993          0.0          0.0   \n",
       "\n",
       "   user_entered_reference_pres_podtrans_pod_1_sema  \\\n",
       "0                                            -3000   \n",
       "1                                            -3000   \n",
       "2                                            -3000   \n",
       "3                                            -3000   \n",
       "4                                            -3000   \n",
       "\n",
       "   user_entered_reference_pres_podtrans  \\\n",
       "0                                 -3000   \n",
       "1                                 -3000   \n",
       "2                                 -3000   \n",
       "3                                 -3000   \n",
       "4                                 -3000   \n",
       "\n",
       "   user_entered_reference_pres_podtrans_pod_2_sema   pod_2_adj   pod_1_adj  \n",
       "0                                            -1500  904.390015  793.150024  \n",
       "1                                            -1500  904.390015  793.150024  \n",
       "2                                            -1500  904.390015  793.150024  \n",
       "3                                            -1500  904.390015  793.150024  \n",
       "4                                            -1500  904.390015  793.150024  \n",
       "\n",
       "[5 rows x 43 columns]"
      ]
     },
     "execution_count": 54,
     "metadata": {},
     "output_type": "execute_result"
    }
   ],
   "source": [
    "df1.head()"
   ]
  },
  {
   "cell_type": "code",
   "execution_count": 41,
   "metadata": {
    "scrolled": true
   },
   "outputs": [
    {
     "data": {
      "text/plain": [
       "['last_active_time',\n",
       " 'activePod',\n",
       " 'rig_id',\n",
       " 'Blue',\n",
       " 'Yellow',\n",
       " 'Active',\n",
       " 'BlueSem',\n",
       " 'YellowSem',\n",
       " 'LA Open Current',\n",
       " 'LA Close SC',\n",
       " 'LA Close SFS',\n",
       " 'LA Open SFS',\n",
       " 'LA Open SOC',\n",
       " 'LA Close SOC',\n",
       " 'Blue Adj Ref',\n",
       " 'Yellow Adj Ref',\n",
       " 'BLUE ADJ',\n",
       " 'YELLOW ADJ',\n",
       " 'LA RegRdbakPes 1/A',\n",
       " 'LA RegRdbakPes 1/B',\n",
       " 'LA RegRdbakPes 2/A',\n",
       " 'LA RegRdbakPes 2/B',\n",
       " 'LA RegRdbakPes',\n",
       " 'LA RegPilotPes',\n",
       " 'UA RegPilotPes',\n",
       " 'UA RegRdbakPes',\n",
       " 'pod_pilot_pres_podtrans',\n",
       " 'pod_supply_pres_podtrans',\n",
       " 'lower_ann_open_current',\n",
       " 'lower_ann_close_current',\n",
       " 'upper_ann_open_current',\n",
       " 'upper_ann_close_current',\n",
       " 'BlueFlowIndx',\n",
       " 'YellowFlowIndx',\n",
       " 'Pod1 Total1',\n",
       " 'Pod1 Total2',\n",
       " 'Pod2 Total1',\n",
       " 'Pod2 Total2',\n",
       " 'user_entered_reference_pres_podtrans_pod_1_sema',\n",
       " 'user_entered_reference_pres_podtrans',\n",
       " 'user_entered_reference_pres_podtrans_pod_2_sema',\n",
       " 'pod_2_adj',\n",
       " 'pod_1_adj']"
      ]
     },
     "execution_count": 41,
     "metadata": {},
     "output_type": "execute_result"
    }
   ],
   "source": [
    "list(df1.columns.values)"
   ]
  },
  {
   "cell_type": "code",
   "execution_count": 42,
   "metadata": {
    "scrolled": true
   },
   "outputs": [
    {
     "data": {
      "text/plain": [
       "count    3.097711e+06\n",
       "mean     1.012823e+00\n",
       "std      1.596296e-01\n",
       "min      1.000000e+00\n",
       "25%      1.000000e+00\n",
       "50%      1.000000e+00\n",
       "75%      1.000000e+00\n",
       "max      3.000000e+00\n",
       "Name: activePod, dtype: float64"
      ]
     },
     "execution_count": 42,
     "metadata": {},
     "output_type": "execute_result"
    }
   ],
   "source": [
    "df1['activePod'].describe()"
   ]
  },
  {
   "cell_type": "code",
   "execution_count": null,
   "metadata": {
    "collapsed": true
   },
   "outputs": [],
   "source": [
    "## Selected Columns:\n",
    "# 'last_active_time','UA RegPilotPes', 'UA RegRdbakPes', 'pod_pilot_pres_podtrans', 'pod_supply_pres_podtrans',\n",
    "# 'upper_ann_open_current', 'upper_ann_close_current', 'pod_2_adj', 'pod_1_adj'\n",
    "# Additional parameters required to Adjust\n",
    "## ['Active'],['pod_1_adj'],['pod_2_adj'], "
   ]
  },
  {
   "cell_type": "code",
   "execution_count": 55,
   "metadata": {
    "collapsed": true
   },
   "outputs": [],
   "source": [
    "df1_temp = df1[['last_active_time','UA RegPilotPes', 'UA RegRdbakPes', 'pod_pilot_pres_podtrans', 'pod_supply_pres_podtrans',\n",
    "                'upper_ann_open_current', 'upper_ann_close_current', 'pod_2_adj', 'pod_1_adj','Active']]"
   ]
  },
  {
   "cell_type": "code",
   "execution_count": 11,
   "metadata": {
    "collapsed": true
   },
   "outputs": [],
   "source": [
    "#df2.head()"
   ]
  },
  {
   "cell_type": "code",
   "execution_count": 89,
   "metadata": {
    "collapsed": true
   },
   "outputs": [],
   "source": [
    "temp = df1_temp.describe()"
   ]
  },
  {
   "cell_type": "code",
   "execution_count": 58,
   "metadata": {},
   "outputs": [
    {
     "data": {
      "text/plain": [
       "array(['last_active_time', 'UA RegPilotPes', 'UA RegRdbakPes',\n",
       "       'pod_pilot_pres_podtrans', 'pod_supply_pres_podtrans',\n",
       "       'upper_ann_open_current', 'upper_ann_close_current', 'pod_2_adj',\n",
       "       'pod_1_adj', 'Active'], dtype=object)"
      ]
     },
     "execution_count": 58,
     "metadata": {},
     "output_type": "execute_result"
    }
   ],
   "source": [
    "df1_temp.columns.values"
   ]
  },
  {
   "cell_type": "code",
   "execution_count": 66,
   "metadata": {},
   "outputs": [
    {
     "name": "stderr",
     "output_type": "stream",
     "text": [
      "C:\\Users\\1535980\\Anaconda\\lib\\site-packages\\ipykernel_launcher.py:1: SettingWithCopyWarning: \n",
      "A value is trying to be set on a copy of a slice from a DataFrame.\n",
      "Try using .loc[row_indexer,col_indexer] = value instead\n",
      "\n",
      "See the caveats in the documentation: http://pandas.pydata.org/pandas-docs/stable/indexing.html#indexing-view-versus-copy\n",
      "  \"\"\"Entry point for launching an IPython kernel.\n"
     ]
    }
   ],
   "source": [
    "df1_temp['UA RegPilotPes_adj'] = np.where(df1_temp['Active'] == 1, df1_temp['UA RegPilotPes']- df1_temp['pod_1_adj'],df1_temp['UA RegPilotPes']- df1_temp['pod_2_adj']) "
   ]
  },
  {
   "cell_type": "code",
   "execution_count": 67,
   "metadata": {},
   "outputs": [
    {
     "name": "stderr",
     "output_type": "stream",
     "text": [
      "C:\\Users\\1535980\\Anaconda\\lib\\site-packages\\ipykernel_launcher.py:1: SettingWithCopyWarning: \n",
      "A value is trying to be set on a copy of a slice from a DataFrame.\n",
      "Try using .loc[row_indexer,col_indexer] = value instead\n",
      "\n",
      "See the caveats in the documentation: http://pandas.pydata.org/pandas-docs/stable/indexing.html#indexing-view-versus-copy\n",
      "  \"\"\"Entry point for launching an IPython kernel.\n"
     ]
    }
   ],
   "source": [
    "df1_temp['UA RegRdbakPes_adj'] = np.where(df1_temp['Active'] == 1, df1_temp['UA RegRdbakPes']- df1_temp['pod_1_adj'],df1_temp['UA RegRdbakPes']- df1_temp['pod_2_adj']) "
   ]
  },
  {
   "cell_type": "code",
   "execution_count": 68,
   "metadata": {},
   "outputs": [
    {
     "name": "stderr",
     "output_type": "stream",
     "text": [
      "C:\\Users\\1535980\\Anaconda\\lib\\site-packages\\ipykernel_launcher.py:1: SettingWithCopyWarning: \n",
      "A value is trying to be set on a copy of a slice from a DataFrame.\n",
      "Try using .loc[row_indexer,col_indexer] = value instead\n",
      "\n",
      "See the caveats in the documentation: http://pandas.pydata.org/pandas-docs/stable/indexing.html#indexing-view-versus-copy\n",
      "  \"\"\"Entry point for launching an IPython kernel.\n"
     ]
    }
   ],
   "source": [
    "df1_temp['pod_pilot_pres_podtrans_adj'] = np.where(df1_temp['Active'] == 1, df1_temp['pod_pilot_pres_podtrans']- df1_temp['pod_1_adj'],df1_temp['pod_pilot_pres_podtrans']- df1_temp['pod_2_adj']) "
   ]
  },
  {
   "cell_type": "code",
   "execution_count": 69,
   "metadata": {},
   "outputs": [
    {
     "name": "stderr",
     "output_type": "stream",
     "text": [
      "C:\\Users\\1535980\\Anaconda\\lib\\site-packages\\ipykernel_launcher.py:1: SettingWithCopyWarning: \n",
      "A value is trying to be set on a copy of a slice from a DataFrame.\n",
      "Try using .loc[row_indexer,col_indexer] = value instead\n",
      "\n",
      "See the caveats in the documentation: http://pandas.pydata.org/pandas-docs/stable/indexing.html#indexing-view-versus-copy\n",
      "  \"\"\"Entry point for launching an IPython kernel.\n"
     ]
    }
   ],
   "source": [
    "df1_temp['pod_supply_pres_podtrans_adj'] = np.where(df1_temp['Active'] == 1, df1_temp['pod_supply_pres_podtrans']- df1_temp['pod_1_adj'],df1_temp['pod_supply_pres_podtrans']- df1_temp['pod_2_adj']) "
   ]
  },
  {
   "cell_type": "code",
   "execution_count": 83,
   "metadata": {},
   "outputs": [
    {
     "data": {
      "text/html": [
       "<div>\n",
       "<style>\n",
       "    .dataframe thead tr:only-child th {\n",
       "        text-align: right;\n",
       "    }\n",
       "\n",
       "    .dataframe thead th {\n",
       "        text-align: left;\n",
       "    }\n",
       "\n",
       "    .dataframe tbody tr th {\n",
       "        vertical-align: top;\n",
       "    }\n",
       "</style>\n",
       "<table border=\"1\" class=\"dataframe\">\n",
       "  <thead>\n",
       "    <tr style=\"text-align: right;\">\n",
       "      <th></th>\n",
       "      <th>UA RegPilotPes</th>\n",
       "      <th>UA RegRdbakPes</th>\n",
       "      <th>pod_pilot_pres_podtrans</th>\n",
       "      <th>pod_supply_pres_podtrans</th>\n",
       "      <th>upper_ann_open_current</th>\n",
       "      <th>upper_ann_close_current</th>\n",
       "      <th>pod_2_adj</th>\n",
       "      <th>pod_1_adj</th>\n",
       "      <th>Active</th>\n",
       "      <th>UA RegPilotPes_adj</th>\n",
       "      <th>UA RegRdbakPes_adj</th>\n",
       "      <th>pod_pilot_pres_podtrans_adj</th>\n",
       "      <th>pod_supply_pres_podtrans_adj</th>\n",
       "    </tr>\n",
       "  </thead>\n",
       "  <tbody>\n",
       "    <tr>\n",
       "      <th>count</th>\n",
       "      <td>3.097711e+06</td>\n",
       "      <td>3.097711e+06</td>\n",
       "      <td>3.097711e+06</td>\n",
       "      <td>3.097711e+06</td>\n",
       "      <td>3.097711e+06</td>\n",
       "      <td>3.097711e+06</td>\n",
       "      <td>3.097711e+06</td>\n",
       "      <td>3.097711e+06</td>\n",
       "      <td>3.097711e+06</td>\n",
       "      <td>3.097711e+06</td>\n",
       "      <td>3.097711e+06</td>\n",
       "      <td>3.097711e+06</td>\n",
       "      <td>3.097711e+06</td>\n",
       "    </tr>\n",
       "    <tr>\n",
       "      <th>mean</th>\n",
       "      <td>1.848166e+03</td>\n",
       "      <td>5.995954e+02</td>\n",
       "      <td>1.846537e+03</td>\n",
       "      <td>1.695274e+03</td>\n",
       "      <td>2.060387e+02</td>\n",
       "      <td>1.750518e+00</td>\n",
       "      <td>3.138643e+02</td>\n",
       "      <td>3.038281e+02</td>\n",
       "      <td>1.012823e+00</td>\n",
       "      <td>1.544362e+03</td>\n",
       "      <td>2.957921e+02</td>\n",
       "      <td>1.542734e+03</td>\n",
       "      <td>1.391471e+03</td>\n",
       "    </tr>\n",
       "    <tr>\n",
       "      <th>std</th>\n",
       "      <td>2.253103e+02</td>\n",
       "      <td>7.996694e+02</td>\n",
       "      <td>1.897899e+03</td>\n",
       "      <td>1.743451e+03</td>\n",
       "      <td>6.173528e+01</td>\n",
       "      <td>2.013642e+01</td>\n",
       "      <td>3.888888e+02</td>\n",
       "      <td>3.756505e+02</td>\n",
       "      <td>1.596296e-01</td>\n",
       "      <td>2.343986e+02</td>\n",
       "      <td>5.655847e+02</td>\n",
       "      <td>1.565489e+03</td>\n",
       "      <td>1.417723e+03</td>\n",
       "    </tr>\n",
       "    <tr>\n",
       "      <th>min</th>\n",
       "      <td>0.000000e+00</td>\n",
       "      <td>0.000000e+00</td>\n",
       "      <td>0.000000e+00</td>\n",
       "      <td>0.000000e+00</td>\n",
       "      <td>0.000000e+00</td>\n",
       "      <td>0.000000e+00</td>\n",
       "      <td>0.000000e+00</td>\n",
       "      <td>0.000000e+00</td>\n",
       "      <td>1.000000e+00</td>\n",
       "      <td>0.000000e+00</td>\n",
       "      <td>-9.901999e+01</td>\n",
       "      <td>-5.689999e+00</td>\n",
       "      <td>-3.378000e+01</td>\n",
       "    </tr>\n",
       "    <tr>\n",
       "      <th>25%</th>\n",
       "      <td>1.713710e+03</td>\n",
       "      <td>0.000000e+00</td>\n",
       "      <td>0.000000e+00</td>\n",
       "      <td>0.000000e+00</td>\n",
       "      <td>2.180000e+02</td>\n",
       "      <td>0.000000e+00</td>\n",
       "      <td>0.000000e+00</td>\n",
       "      <td>0.000000e+00</td>\n",
       "      <td>1.000000e+00</td>\n",
       "      <td>1.406310e+03</td>\n",
       "      <td>0.000000e+00</td>\n",
       "      <td>0.000000e+00</td>\n",
       "      <td>0.000000e+00</td>\n",
       "    </tr>\n",
       "    <tr>\n",
       "      <th>50%</th>\n",
       "      <td>1.713710e+03</td>\n",
       "      <td>0.000000e+00</td>\n",
       "      <td>2.809000e+01</td>\n",
       "      <td>1.752000e+01</td>\n",
       "      <td>2.180000e+02</td>\n",
       "      <td>0.000000e+00</td>\n",
       "      <td>0.000000e+00</td>\n",
       "      <td>0.000000e+00</td>\n",
       "      <td>1.000000e+00</td>\n",
       "      <td>1.713710e+03</td>\n",
       "      <td>0.000000e+00</td>\n",
       "      <td>2.107000e+01</td>\n",
       "      <td>1.752000e+01</td>\n",
       "    </tr>\n",
       "    <tr>\n",
       "      <th>75%</th>\n",
       "      <td>1.939190e+03</td>\n",
       "      <td>8.733300e+02</td>\n",
       "      <td>3.990250e+03</td>\n",
       "      <td>3.573090e+03</td>\n",
       "      <td>2.310000e+02</td>\n",
       "      <td>0.000000e+00</td>\n",
       "      <td>8.033400e+02</td>\n",
       "      <td>7.614200e+02</td>\n",
       "      <td>1.000000e+00</td>\n",
       "      <td>1.713710e+03</td>\n",
       "      <td>3.029999e+01</td>\n",
       "      <td>3.174670e+03</td>\n",
       "      <td>2.807660e+03</td>\n",
       "    </tr>\n",
       "    <tr>\n",
       "      <th>max</th>\n",
       "      <td>2.847590e+03</td>\n",
       "      <td>2.724870e+03</td>\n",
       "      <td>4.512530e+03</td>\n",
       "      <td>4.501160e+03</td>\n",
       "      <td>3.270000e+02</td>\n",
       "      <td>3.360000e+02</td>\n",
       "      <td>9.061700e+02</td>\n",
       "      <td>9.581200e+02</td>\n",
       "      <td>3.000000e+00</td>\n",
       "      <td>2.086170e+03</td>\n",
       "      <td>1.963450e+03</td>\n",
       "      <td>3.751110e+03</td>\n",
       "      <td>3.739740e+03</td>\n",
       "    </tr>\n",
       "  </tbody>\n",
       "</table>\n",
       "</div>"
      ],
      "text/plain": [
       "       UA RegPilotPes  UA RegRdbakPes  pod_pilot_pres_podtrans  \\\n",
       "count    3.097711e+06    3.097711e+06             3.097711e+06   \n",
       "mean     1.848166e+03    5.995954e+02             1.846537e+03   \n",
       "std      2.253103e+02    7.996694e+02             1.897899e+03   \n",
       "min      0.000000e+00    0.000000e+00             0.000000e+00   \n",
       "25%      1.713710e+03    0.000000e+00             0.000000e+00   \n",
       "50%      1.713710e+03    0.000000e+00             2.809000e+01   \n",
       "75%      1.939190e+03    8.733300e+02             3.990250e+03   \n",
       "max      2.847590e+03    2.724870e+03             4.512530e+03   \n",
       "\n",
       "       pod_supply_pres_podtrans  upper_ann_open_current  \\\n",
       "count              3.097711e+06            3.097711e+06   \n",
       "mean               1.695274e+03            2.060387e+02   \n",
       "std                1.743451e+03            6.173528e+01   \n",
       "min                0.000000e+00            0.000000e+00   \n",
       "25%                0.000000e+00            2.180000e+02   \n",
       "50%                1.752000e+01            2.180000e+02   \n",
       "75%                3.573090e+03            2.310000e+02   \n",
       "max                4.501160e+03            3.270000e+02   \n",
       "\n",
       "       upper_ann_close_current     pod_2_adj     pod_1_adj        Active  \\\n",
       "count             3.097711e+06  3.097711e+06  3.097711e+06  3.097711e+06   \n",
       "mean              1.750518e+00  3.138643e+02  3.038281e+02  1.012823e+00   \n",
       "std               2.013642e+01  3.888888e+02  3.756505e+02  1.596296e-01   \n",
       "min               0.000000e+00  0.000000e+00  0.000000e+00  1.000000e+00   \n",
       "25%               0.000000e+00  0.000000e+00  0.000000e+00  1.000000e+00   \n",
       "50%               0.000000e+00  0.000000e+00  0.000000e+00  1.000000e+00   \n",
       "75%               0.000000e+00  8.033400e+02  7.614200e+02  1.000000e+00   \n",
       "max               3.360000e+02  9.061700e+02  9.581200e+02  3.000000e+00   \n",
       "\n",
       "       UA RegPilotPes_adj  UA RegRdbakPes_adj  pod_pilot_pres_podtrans_adj  \\\n",
       "count        3.097711e+06        3.097711e+06                 3.097711e+06   \n",
       "mean         1.544362e+03        2.957921e+02                 1.542734e+03   \n",
       "std          2.343986e+02        5.655847e+02                 1.565489e+03   \n",
       "min          0.000000e+00       -9.901999e+01                -5.689999e+00   \n",
       "25%          1.406310e+03        0.000000e+00                 0.000000e+00   \n",
       "50%          1.713710e+03        0.000000e+00                 2.107000e+01   \n",
       "75%          1.713710e+03        3.029999e+01                 3.174670e+03   \n",
       "max          2.086170e+03        1.963450e+03                 3.751110e+03   \n",
       "\n",
       "       pod_supply_pres_podtrans_adj  \n",
       "count                  3.097711e+06  \n",
       "mean                   1.391471e+03  \n",
       "std                    1.417723e+03  \n",
       "min                   -3.378000e+01  \n",
       "25%                    0.000000e+00  \n",
       "50%                    1.752000e+01  \n",
       "75%                    2.807660e+03  \n",
       "max                    3.739740e+03  "
      ]
     },
     "execution_count": 83,
     "metadata": {},
     "output_type": "execute_result"
    }
   ],
   "source": [
    "df1_temp.describe()"
   ]
  },
  {
   "cell_type": "code",
   "execution_count": 85,
   "metadata": {
    "scrolled": true
   },
   "outputs": [
    {
     "data": {
      "text/plain": [
       "[<matplotlib.lines.Line2D at 0x5dcd0b00>]"
      ]
     },
     "execution_count": 85,
     "metadata": {},
     "output_type": "execute_result"
    },
    {
     "data": {
      "image/png": "[encoded data removed]",
      "text/plain": [
       "<matplotlib.figure.Figure at 0x5ddca0f0>"
      ]
     },
     "metadata": {},
     "output_type": "display_data"
    }
   ],
   "source": [
    "plt.figure(figsize=(12,5))\n",
    "plt.plot(df1_temp['last_active_time'], df1_temp.upper_ann_open_current, color = 'red')"
   ]
  },
  {
   "cell_type": "code",
   "execution_count": 86,
   "metadata": {},
   "outputs": [
    {
     "data": {
      "text/plain": [
       "[<matplotlib.lines.Line2D at 0x5dd36710>]"
      ]
     },
     "execution_count": 86,
     "metadata": {},
     "output_type": "execute_result"
    },
    {
     "data": {
      "image/png": "[encoded data removed]",
      "text/plain": [
       "<matplotlib.figure.Figure at 0x5dcb2748>"
      ]
     },
     "metadata": {},
     "output_type": "display_data"
    }
   ],
   "source": [
    "plt.figure(figsize=(12,5))\n",
    "plt.plot(df1_temp['last_active_time'],df1_temp.upper_ann_close_current, color = 'red')"
   ]
  },
  {
   "cell_type": "code",
   "execution_count": 87,
   "metadata": {},
   "outputs": [
    {
     "data": {
      "text/plain": [
       "[<matplotlib.lines.Line2D at 0x5df327b8>]"
      ]
     },
     "execution_count": 87,
     "metadata": {},
     "output_type": "execute_result"
    },
    {
     "data": {
      "image/png": "[encoded data removed]",
      "text/plain": [
       "<matplotlib.figure.Figure at 0x5dd2a898>"
      ]
     },
     "metadata": {},
     "output_type": "display_data"
    }
   ],
   "source": [
    "plt.figure(figsize=(12,5))\n",
    "plt.plot(df1_temp['last_active_time'], df1_temp['UA RegPilotPes_adj'], color = 'green')"
   ]
  },
  {
   "cell_type": "code",
   "execution_count": 88,
   "metadata": {},
   "outputs": [
    {
     "data": {
      "text/plain": [
       "[<matplotlib.lines.Line2D at 0x5de30898>]"
      ]
     },
     "execution_count": 88,
     "metadata": {},
     "output_type": "execute_result"
    },
    {
     "data": {
      "image/png": "[encoded data removed]",
      "text/plain": [
       "<matplotlib.figure.Figure at 0x5df1ce48>"
      ]
     },
     "metadata": {},
     "output_type": "display_data"
    }
   ],
   "source": [
    "plt.figure(figsize=(12,5))\n",
    "plt.plot(df1_temp['last_active_time'], df1_temp['UA RegRdbakPes_adj'], color = 'green')"
   ]
  },
  {
   "cell_type": "code",
   "execution_count": 82,
   "metadata": {},
   "outputs": [
    {
     "data": {
      "text/plain": [
       "[<matplotlib.lines.Line2D at 0x5dbcf780>]"
      ]
     },
     "execution_count": 82,
     "metadata": {},
     "output_type": "execute_result"
    },
    {
     "data": {
      "image/png": "[encoded data removed]",
      "text/plain": [
       "<matplotlib.figure.Figure at 0x5dba60b8>"
      ]
     },
     "metadata": {},
     "output_type": "display_data"
    }
   ],
   "source": [
    "plt.figure(figsize=(12,5))\n",
    "plt.plot(df1_temp['last_active_time'], df1_temp['pod_pilot_pres_podtrans_adj'], color = 'red')"
   ]
  },
  {
   "cell_type": "code",
   "execution_count": 81,
   "metadata": {},
   "outputs": [
    {
     "data": {
      "text/plain": [
       "[<matplotlib.lines.Line2D at 0x5db5bba8>]"
      ]
     },
     "execution_count": 81,
     "metadata": {},
     "output_type": "execute_result"
    },
    {
     "data": {
      "image/png": "[encoded data removed]",
      "text/plain": [
       "<matplotlib.figure.Figure at 0x5dc49748>"
      ]
     },
     "metadata": {},
     "output_type": "display_data"
    }
   ],
   "source": [
    "plt.figure(figsize=(12,5))\n",
    "plt.plot(df1_temp['last_active_time'], df1_temp['pod_supply_pres_podtrans_adj'], color = 'red')"
   ]
  },
  {
   "cell_type": "code",
   "execution_count": 79,
   "metadata": {},
   "outputs": [
    {
     "data": {
      "text/plain": [
       "[<matplotlib.lines.Line2D at 0x5dc689e8>]"
      ]
     },
     "execution_count": 79,
     "metadata": {},
     "output_type": "execute_result"
    },
    {
     "data": {
      "image/png": "[encoded data removed]",
      "text/plain": [
       "<matplotlib.figure.Figure at 0x5da8cda0>"
      ]
     },
     "metadata": {},
     "output_type": "display_data"
    }
   ],
   "source": [
    "plt.figure(figsize=(12,5))\n",
    "plt.plot(df1[['pod_2_adj']], color = 'blue')"
   ]
  },
  {
   "cell_type": "code",
   "execution_count": 35,
   "metadata": {},
   "outputs": [
    {
     "data": {
      "text/plain": [
       "[<matplotlib.lines.Line2D at 0xc9ed780>]"
      ]
     },
     "execution_count": 35,
     "metadata": {},
     "output_type": "execute_result"
    },
    {
     "data": {
      "image/png": "[encoded data removed]",
      "text/plain": [
       "<matplotlib.figure.Figure at 0xc965cf8>"
      ]
     },
     "metadata": {},
     "output_type": "display_data"
    }
   ],
   "source": [
    "plt.figure(figsize=(12,5))\n",
    "plt.plot(df1[['pod_1_adj']], color = 'blue')"
   ]
  },
  {
   "cell_type": "code",
   "execution_count": 24,
   "metadata": {
    "collapsed": true
   },
   "outputs": [
    {
     "ename": "NameError",
     "evalue": "name 'df2_temp' is not defined",
     "output_type": "error",
     "traceback": [
      "\u001b[1;31m---------------------------------------------------------------------------\u001b[0m",
      "\u001b[1;31mNameError\u001b[0m                                 Traceback (most recent call last)",
      "\u001b[1;32m<ipython-input-24-f7f560e76d31>\u001b[0m in \u001b[0;36m<module>\u001b[1;34m()\u001b[0m\n\u001b[0;32m      1\u001b[0m \u001b[1;31m#Write both MAERSK fiels in a xls file for Tableau and reuse\u001b[0m\u001b[1;33m\u001b[0m\u001b[1;33m\u001b[0m\u001b[0m\n\u001b[1;32m----> 2\u001b[1;33m \u001b[0mdf2_temp\u001b[0m\u001b[1;33m.\u001b[0m\u001b[0mto_excel\u001b[0m\u001b[1;33m(\u001b[0m\u001b[1;34m\"MAERSK_Annular_2017_06_19_to_2018_03_31_v1.xlsx\"\u001b[0m\u001b[1;33m,\u001b[0m \u001b[0msheet_name\u001b[0m\u001b[1;33m=\u001b[0m\u001b[1;34m'Sheet_name_1'\u001b[0m\u001b[1;33m)\u001b[0m\u001b[1;33m\u001b[0m\u001b[0m\n\u001b[0m",
      "\u001b[1;31mNameError\u001b[0m: name 'df2_temp' is not defined"
     ]
    }
   ],
   "source": [
    "#Write both MAERSK fiels in a xls file for Tableau and reuse\n",
    "df2_temp.to_excel(\"MAERSK_Annular_2017_06_19_to_2018_03_31_v1.xlsx\", sheet_name='Sheet_name_1')"
   ]
  },
  {
   "cell_type": "code",
   "execution_count": null,
   "metadata": {
    "collapsed": true
   },
   "outputs": [],
   "source": []
  },
  {
   "cell_type": "code",
   "execution_count": null,
   "metadata": {
    "collapsed": true
   },
   "outputs": [],
   "source": []
  }
 ],
 "metadata": {
  "kernelspec": {
   "display_name": "Python 3",
   "language": "python",
   "name": "python3"
  },
  "language_info": {
   "codemirror_mode": {
    "name": "ipython",
    "version": 3
   },
   "file_extension": ".py",
   "mimetype": "text/x-python",
   "name": "python",
   "nbconvert_exporter": "python",
   "pygments_lexer": "ipython3",
   "version": "3.6.3"
  }
 },
 "nbformat": 4,
 "nbformat_minor": 2
}
