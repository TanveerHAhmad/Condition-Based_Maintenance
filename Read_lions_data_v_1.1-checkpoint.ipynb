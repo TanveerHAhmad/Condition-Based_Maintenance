{
 "cells": [
  {
   "cell_type": "code",
   "execution_count": 38,
   "metadata": {
    "collapsed": true
   },
   "outputs": [],
   "source": [
    "import pandas as pd\n",
    "import numpy as np\n",
    "import csv\n",
    "import matplotlib.pyplot as plt\n",
    "%matplotlib inline"
   ]
  },
  {
   "cell_type": "code",
   "execution_count": 39,
   "metadata": {
    "collapsed": true
   },
   "outputs": [],
   "source": [
    "import dask.dataframe as dd\n",
    "import pandas as pd\n",
    "from glob import glob"
   ]
  },
  {
   "cell_type": "code",
   "execution_count": 40,
   "metadata": {
    "collapsed": true
   },
   "outputs": [],
   "source": [
    "#df_dummy = pd.read_csv('LION_PressureTags_*.csv', sep = '\\t', usecols= ['last_active_time','UA RegPilotPes', 'UA RegRdbakPes', 'pod_pilot_pres_podtrans', 'pod_supply_pres_podtrans', 'upper_ann_open_current', 'upper_ann_close_current', 'pod_2_adj', 'pod_1_adj','Active'])\n",
    "df = pd.read_csv(r'LION_PressureTags_2017_04_24_to_2017_08_07.csv', sep = '\\t', usecols= ['last_active_time','UA RegPilotPes', 'UA RegRdbakPes', 'pod_pilot_pres_podtrans', 'pod_supply_pres_podtrans', 'upper_ann_open_current', 'upper_ann_close_current', 'pod_2_adj', 'pod_1_adj','Active'])\n",
    "#cols = ['last_active_time','UA RegPilotPes', 'UA RegRdbakPes', 'pod_pilot_pres_podtrans', 'pod_supply_pres_podtrans', \n",
    "#       'upper_ann_open_current', 'upper_ann_close_current', 'pod_2_adj', 'pod_1_adj','Active']\n",
    "\n",
    "# pd.read_csv"
   ]
  },
  {
   "cell_type": "code",
   "execution_count": 41,
   "metadata": {},
   "outputs": [],
   "source": [
    "#len(df_dummy)"
   ]
  },
  {
   "cell_type": "code",
   "execution_count": null,
   "metadata": {
    "collapsed": true
   },
   "outputs": [],
   "source": [
    "#df1 = pd.read_csv('LION_PressureTags_2017_04_24_to_2017_08_07.csv', sep = '\\t')\n",
    "#df2 = pd.read_csv('LION_PressureTags_2017_09_01_to_2017_09_31.csv', sep = '\\t')\n",
    "#df3 = pd.read_csv('LION_PressureTags_2017_10_01_to_2017_10_31.csv', sep = '\\t')\n",
    "#df4 = pd.read_csv('LION_PressureTags_2017_11_01_to_2017_11_31.csv', sep = '\\t')\n",
    "#df5 = pd.read_csv('LION_PressureTags_2017_12_01_to_2017_12_31.csv', sep = '\\t')\n",
    "#df6 = pd.read_csv('LION_PressureTags_2018_01_01_to_2018_01_31.csv', sep = '\\t')\n",
    "#df7 = pd.read_csv('LION_PressureTags_2018_02_01_to_2018_02_31.csv', sep = '\\t')\n",
    "#df8 = pd.read_csv('LION_PressureTags_2018_03_01_to_2018_03_31.csv', sep = '\\t')\n",
    "#df9 = pd.read_csv('LION_PressureTags_2018_04_01_to_2018_04_31.csv', sep = '\\t')\n",
    "#df10 = pd.read_csv('LION_PressureTags_2018_05_01_to_2018_05_31.csv', sep = '\\t')\n",
    "#df11 = pd.read_csv('LION_PressureTags_2018_06_01_to_2018_06_31.csv', sep = '\\t')"
   ]
  },
  {
   "cell_type": "code",
   "execution_count": null,
   "metadata": {
    "collapsed": true
   },
   "outputs": [],
   "source": [
    "#df = pd.concat([df1, df2], ignore_index = True)"
   ]
  },
  {
   "cell_type": "code",
   "execution_count": 42,
   "metadata": {
    "scrolled": true
   },
   "outputs": [
    {
     "data": {
      "text/html": [
       "<div>\n",
       "<style>\n",
       "    .dataframe thead tr:only-child th {\n",
       "        text-align: right;\n",
       "    }\n",
       "\n",
       "    .dataframe thead th {\n",
       "        text-align: left;\n",
       "    }\n",
       "\n",
       "    .dataframe tbody tr th {\n",
       "        vertical-align: top;\n",
       "    }\n",
       "</style>\n",
       "<table border=\"1\" class=\"dataframe\">\n",
       "  <thead>\n",
       "    <tr style=\"text-align: right;\">\n",
       "      <th></th>\n",
       "      <th>last_active_time</th>\n",
       "      <th>Active</th>\n",
       "      <th>UA RegPilotPes</th>\n",
       "      <th>UA RegRdbakPes</th>\n",
       "      <th>pod_pilot_pres_podtrans</th>\n",
       "      <th>pod_supply_pres_podtrans</th>\n",
       "      <th>upper_ann_open_current</th>\n",
       "      <th>upper_ann_close_current</th>\n",
       "      <th>pod_2_adj</th>\n",
       "      <th>pod_1_adj</th>\n",
       "    </tr>\n",
       "  </thead>\n",
       "  <tbody>\n",
       "    <tr>\n",
       "      <th>0</th>\n",
       "      <td>2017-04-24 08:40:28</td>\n",
       "      <td>2</td>\n",
       "      <td>1363.050049</td>\n",
       "      <td>0.000000</td>\n",
       "      <td>3097.669922</td>\n",
       "      <td>3143.840088</td>\n",
       "      <td>223</td>\n",
       "      <td>0</td>\n",
       "      <td>0.0</td>\n",
       "      <td>0.0</td>\n",
       "    </tr>\n",
       "    <tr>\n",
       "      <th>1</th>\n",
       "      <td>2017-04-24 08:40:36</td>\n",
       "      <td>2</td>\n",
       "      <td>2982.010010</td>\n",
       "      <td>3073.770020</td>\n",
       "      <td>4604.109863</td>\n",
       "      <td>4467.209961</td>\n",
       "      <td>223</td>\n",
       "      <td>0</td>\n",
       "      <td>0.0</td>\n",
       "      <td>0.0</td>\n",
       "    </tr>\n",
       "    <tr>\n",
       "      <th>2</th>\n",
       "      <td>2017-04-24 08:40:41</td>\n",
       "      <td>2</td>\n",
       "      <td>2969.149902</td>\n",
       "      <td>3073.770020</td>\n",
       "      <td>4604.109863</td>\n",
       "      <td>4535.520020</td>\n",
       "      <td>223</td>\n",
       "      <td>0</td>\n",
       "      <td>0.0</td>\n",
       "      <td>0.0</td>\n",
       "    </tr>\n",
       "    <tr>\n",
       "      <th>3</th>\n",
       "      <td>2017-04-24 08:40:46</td>\n",
       "      <td>2</td>\n",
       "      <td>2969.149902</td>\n",
       "      <td>3073.770020</td>\n",
       "      <td>4604.109863</td>\n",
       "      <td>4617.490234</td>\n",
       "      <td>223</td>\n",
       "      <td>0</td>\n",
       "      <td>0.0</td>\n",
       "      <td>0.0</td>\n",
       "    </tr>\n",
       "    <tr>\n",
       "      <th>4</th>\n",
       "      <td>2017-04-24 08:40:51</td>\n",
       "      <td>2</td>\n",
       "      <td>2943.439941</td>\n",
       "      <td>3060.110107</td>\n",
       "      <td>4604.109863</td>\n",
       "      <td>4617.490234</td>\n",
       "      <td>223</td>\n",
       "      <td>0</td>\n",
       "      <td>0.0</td>\n",
       "      <td>0.0</td>\n",
       "    </tr>\n",
       "  </tbody>\n",
       "</table>\n",
       "</div>"
      ],
      "text/plain": [
       "      last_active_time  Active  UA RegPilotPes  UA RegRdbakPes  \\\n",
       "0  2017-04-24 08:40:28       2     1363.050049        0.000000   \n",
       "1  2017-04-24 08:40:36       2     2982.010010     3073.770020   \n",
       "2  2017-04-24 08:40:41       2     2969.149902     3073.770020   \n",
       "3  2017-04-24 08:40:46       2     2969.149902     3073.770020   \n",
       "4  2017-04-24 08:40:51       2     2943.439941     3060.110107   \n",
       "\n",
       "   pod_pilot_pres_podtrans  pod_supply_pres_podtrans  upper_ann_open_current  \\\n",
       "0              3097.669922               3143.840088                     223   \n",
       "1              4604.109863               4467.209961                     223   \n",
       "2              4604.109863               4535.520020                     223   \n",
       "3              4604.109863               4617.490234                     223   \n",
       "4              4604.109863               4617.490234                     223   \n",
       "\n",
       "   upper_ann_close_current  pod_2_adj  pod_1_adj  \n",
       "0                        0        0.0        0.0  \n",
       "1                        0        0.0        0.0  \n",
       "2                        0        0.0        0.0  \n",
       "3                        0        0.0        0.0  \n",
       "4                        0        0.0        0.0  "
      ]
     },
     "execution_count": 42,
     "metadata": {},
     "output_type": "execute_result"
    }
   ],
   "source": [
    "df.head()"
   ]
  },
  {
   "cell_type": "code",
   "execution_count": 43,
   "metadata": {
    "scrolled": true
   },
   "outputs": [
    {
     "name": "stdout",
     "output_type": "stream",
     "text": [
      "1992832\n"
     ]
    }
   ],
   "source": [
    "print(len(df))"
   ]
  },
  {
   "cell_type": "code",
   "execution_count": 44,
   "metadata": {},
   "outputs": [
    {
     "data": {
      "text/plain": [
       "10"
      ]
     },
     "execution_count": 44,
     "metadata": {},
     "output_type": "execute_result"
    }
   ],
   "source": [
    "len(df.columns)"
   ]
  },
  {
   "cell_type": "code",
   "execution_count": 12,
   "metadata": {
    "collapsed": true
   },
   "outputs": [],
   "source": [
    "#df1 = pd.read_csv(\"MAERSK_Annular_2017_02_26_to_2017_06_19.csv\", sep = '\\t')"
   ]
  },
  {
   "cell_type": "code",
   "execution_count": null,
   "metadata": {
    "collapsed": true
   },
   "outputs": [],
   "source": [
    "#df1 = pd.read_csv(\"LION_PressureTags_2017_04_24_to_2017_08_07.csv\", sep='\\t')"
   ]
  },
  {
   "cell_type": "code",
   "execution_count": 45,
   "metadata": {
    "collapsed": true
   },
   "outputs": [],
   "source": [
    "df['last_active_time'] = pd.to_datetime(df['last_active_time'])"
   ]
  },
  {
   "cell_type": "code",
   "execution_count": 46,
   "metadata": {
    "scrolled": true
   },
   "outputs": [
    {
     "data": {
      "text/html": [
       "<div>\n",
       "<style>\n",
       "    .dataframe thead tr:only-child th {\n",
       "        text-align: right;\n",
       "    }\n",
       "\n",
       "    .dataframe thead th {\n",
       "        text-align: left;\n",
       "    }\n",
       "\n",
       "    .dataframe tbody tr th {\n",
       "        vertical-align: top;\n",
       "    }\n",
       "</style>\n",
       "<table border=\"1\" class=\"dataframe\">\n",
       "  <thead>\n",
       "    <tr style=\"text-align: right;\">\n",
       "      <th></th>\n",
       "      <th>last_active_time</th>\n",
       "      <th>Active</th>\n",
       "      <th>UA RegPilotPes</th>\n",
       "      <th>UA RegRdbakPes</th>\n",
       "      <th>pod_pilot_pres_podtrans</th>\n",
       "      <th>pod_supply_pres_podtrans</th>\n",
       "      <th>upper_ann_open_current</th>\n",
       "      <th>upper_ann_close_current</th>\n",
       "      <th>pod_2_adj</th>\n",
       "      <th>pod_1_adj</th>\n",
       "    </tr>\n",
       "  </thead>\n",
       "  <tbody>\n",
       "    <tr>\n",
       "      <th>0</th>\n",
       "      <td>2017-04-24 08:40:28</td>\n",
       "      <td>2</td>\n",
       "      <td>1363.050049</td>\n",
       "      <td>0.000000</td>\n",
       "      <td>3097.669922</td>\n",
       "      <td>3143.840088</td>\n",
       "      <td>223</td>\n",
       "      <td>0</td>\n",
       "      <td>0.0</td>\n",
       "      <td>0.0</td>\n",
       "    </tr>\n",
       "    <tr>\n",
       "      <th>1</th>\n",
       "      <td>2017-04-24 08:40:36</td>\n",
       "      <td>2</td>\n",
       "      <td>2982.010010</td>\n",
       "      <td>3073.770020</td>\n",
       "      <td>4604.109863</td>\n",
       "      <td>4467.209961</td>\n",
       "      <td>223</td>\n",
       "      <td>0</td>\n",
       "      <td>0.0</td>\n",
       "      <td>0.0</td>\n",
       "    </tr>\n",
       "    <tr>\n",
       "      <th>2</th>\n",
       "      <td>2017-04-24 08:40:41</td>\n",
       "      <td>2</td>\n",
       "      <td>2969.149902</td>\n",
       "      <td>3073.770020</td>\n",
       "      <td>4604.109863</td>\n",
       "      <td>4535.520020</td>\n",
       "      <td>223</td>\n",
       "      <td>0</td>\n",
       "      <td>0.0</td>\n",
       "      <td>0.0</td>\n",
       "    </tr>\n",
       "    <tr>\n",
       "      <th>3</th>\n",
       "      <td>2017-04-24 08:40:46</td>\n",
       "      <td>2</td>\n",
       "      <td>2969.149902</td>\n",
       "      <td>3073.770020</td>\n",
       "      <td>4604.109863</td>\n",
       "      <td>4617.490234</td>\n",
       "      <td>223</td>\n",
       "      <td>0</td>\n",
       "      <td>0.0</td>\n",
       "      <td>0.0</td>\n",
       "    </tr>\n",
       "    <tr>\n",
       "      <th>4</th>\n",
       "      <td>2017-04-24 08:40:51</td>\n",
       "      <td>2</td>\n",
       "      <td>2943.439941</td>\n",
       "      <td>3060.110107</td>\n",
       "      <td>4604.109863</td>\n",
       "      <td>4617.490234</td>\n",
       "      <td>223</td>\n",
       "      <td>0</td>\n",
       "      <td>0.0</td>\n",
       "      <td>0.0</td>\n",
       "    </tr>\n",
       "  </tbody>\n",
       "</table>\n",
       "</div>"
      ],
      "text/plain": [
       "     last_active_time  Active  UA RegPilotPes  UA RegRdbakPes  \\\n",
       "0 2017-04-24 08:40:28       2     1363.050049        0.000000   \n",
       "1 2017-04-24 08:40:36       2     2982.010010     3073.770020   \n",
       "2 2017-04-24 08:40:41       2     2969.149902     3073.770020   \n",
       "3 2017-04-24 08:40:46       2     2969.149902     3073.770020   \n",
       "4 2017-04-24 08:40:51       2     2943.439941     3060.110107   \n",
       "\n",
       "   pod_pilot_pres_podtrans  pod_supply_pres_podtrans  upper_ann_open_current  \\\n",
       "0              3097.669922               3143.840088                     223   \n",
       "1              4604.109863               4467.209961                     223   \n",
       "2              4604.109863               4535.520020                     223   \n",
       "3              4604.109863               4617.490234                     223   \n",
       "4              4604.109863               4617.490234                     223   \n",
       "\n",
       "   upper_ann_close_current  pod_2_adj  pod_1_adj  \n",
       "0                        0        0.0        0.0  \n",
       "1                        0        0.0        0.0  \n",
       "2                        0        0.0        0.0  \n",
       "3                        0        0.0        0.0  \n",
       "4                        0        0.0        0.0  "
      ]
     },
     "execution_count": 46,
     "metadata": {},
     "output_type": "execute_result"
    }
   ],
   "source": [
    "df.head()"
   ]
  },
  {
   "cell_type": "code",
   "execution_count": 47,
   "metadata": {},
   "outputs": [
    {
     "data": {
      "text/plain": [
       "['last_active_time',\n",
       " 'Active',\n",
       " 'UA RegPilotPes',\n",
       " 'UA RegRdbakPes',\n",
       " 'pod_pilot_pres_podtrans',\n",
       " 'pod_supply_pres_podtrans',\n",
       " 'upper_ann_open_current',\n",
       " 'upper_ann_close_current',\n",
       " 'pod_2_adj',\n",
       " 'pod_1_adj']"
      ]
     },
     "execution_count": 47,
     "metadata": {},
     "output_type": "execute_result"
    }
   ],
   "source": [
    "list(df.columns.values)"
   ]
  },
  {
   "cell_type": "code",
   "execution_count": 48,
   "metadata": {
    "collapsed": true
   },
   "outputs": [],
   "source": [
    "## Selected Columns:\n",
    "# 'last_active_time','UA RegPilotPes', 'UA RegRdbakPes', 'pod_pilot_pres_podtrans', 'pod_supply_pres_podtrans',\n",
    "# 'upper_ann_open_current', 'upper_ann_close_current', 'pod_2_adj', 'pod_1_adj'"
   ]
  },
  {
   "cell_type": "code",
   "execution_count": 49,
   "metadata": {
    "collapsed": true
   },
   "outputs": [],
   "source": [
    "df_temp = df[['last_active_time','UA RegPilotPes', 'UA RegRdbakPes', 'pod_pilot_pres_podtrans', 'pod_supply_pres_podtrans',\n",
    "                'upper_ann_open_current', 'upper_ann_close_current', 'pod_2_adj', 'pod_1_adj','Active']]"
   ]
  },
  {
   "cell_type": "code",
   "execution_count": 50,
   "metadata": {
    "collapsed": true
   },
   "outputs": [],
   "source": [
    "df_temp = df"
   ]
  },
  {
   "cell_type": "code",
   "execution_count": 51,
   "metadata": {
    "collapsed": true
   },
   "outputs": [],
   "source": [
    "temp = df_temp.describe()"
   ]
  },
  {
   "cell_type": "code",
   "execution_count": 52,
   "metadata": {
    "scrolled": true
   },
   "outputs": [
    {
     "data": {
      "text/html": [
       "<div>\n",
       "<style>\n",
       "    .dataframe thead tr:only-child th {\n",
       "        text-align: right;\n",
       "    }\n",
       "\n",
       "    .dataframe thead th {\n",
       "        text-align: left;\n",
       "    }\n",
       "\n",
       "    .dataframe tbody tr th {\n",
       "        vertical-align: top;\n",
       "    }\n",
       "</style>\n",
       "<table border=\"1\" class=\"dataframe\">\n",
       "  <thead>\n",
       "    <tr style=\"text-align: right;\">\n",
       "      <th></th>\n",
       "      <th>Active</th>\n",
       "      <th>UA RegPilotPes</th>\n",
       "      <th>UA RegRdbakPes</th>\n",
       "      <th>pod_pilot_pres_podtrans</th>\n",
       "      <th>pod_supply_pres_podtrans</th>\n",
       "      <th>upper_ann_open_current</th>\n",
       "      <th>upper_ann_close_current</th>\n",
       "      <th>pod_2_adj</th>\n",
       "      <th>pod_1_adj</th>\n",
       "    </tr>\n",
       "  </thead>\n",
       "  <tbody>\n",
       "    <tr>\n",
       "      <th>count</th>\n",
       "      <td>1.992832e+06</td>\n",
       "      <td>1.992832e+06</td>\n",
       "      <td>1.992832e+06</td>\n",
       "      <td>1.992832e+06</td>\n",
       "      <td>1.992832e+06</td>\n",
       "      <td>1.992832e+06</td>\n",
       "      <td>1.992832e+06</td>\n",
       "      <td>1.992832e+06</td>\n",
       "      <td>1.992832e+06</td>\n",
       "    </tr>\n",
       "    <tr>\n",
       "      <th>mean</th>\n",
       "      <td>1.726745e+00</td>\n",
       "      <td>2.905460e+03</td>\n",
       "      <td>2.980722e+03</td>\n",
       "      <td>4.853748e+03</td>\n",
       "      <td>4.768336e+03</td>\n",
       "      <td>2.250846e+02</td>\n",
       "      <td>1.221517e+01</td>\n",
       "      <td>1.584248e+03</td>\n",
       "      <td>1.468049e+03</td>\n",
       "    </tr>\n",
       "    <tr>\n",
       "      <th>std</th>\n",
       "      <td>4.456310e-01</td>\n",
       "      <td>1.990144e+02</td>\n",
       "      <td>1.992055e+02</td>\n",
       "      <td>2.097438e+02</td>\n",
       "      <td>2.730328e+02</td>\n",
       "      <td>6.033071e+01</td>\n",
       "      <td>5.144850e+01</td>\n",
       "      <td>2.300919e+02</td>\n",
       "      <td>4.232339e+02</td>\n",
       "    </tr>\n",
       "    <tr>\n",
       "      <th>min</th>\n",
       "      <td>1.000000e+00</td>\n",
       "      <td>1.363050e+03</td>\n",
       "      <td>0.000000e+00</td>\n",
       "      <td>3.097670e+03</td>\n",
       "      <td>2.022850e+03</td>\n",
       "      <td>0.000000e+00</td>\n",
       "      <td>0.000000e+00</td>\n",
       "      <td>0.000000e+00</td>\n",
       "      <td>0.000000e+00</td>\n",
       "    </tr>\n",
       "    <tr>\n",
       "      <th>25%</th>\n",
       "      <td>1.000000e+00</td>\n",
       "      <td>2.821340e+03</td>\n",
       "      <td>2.909840e+03</td>\n",
       "      <td>4.772730e+03</td>\n",
       "      <td>4.658470e+03</td>\n",
       "      <td>2.400000e+02</td>\n",
       "      <td>0.000000e+00</td>\n",
       "      <td>1.537470e+03</td>\n",
       "      <td>1.593330e+03</td>\n",
       "    </tr>\n",
       "    <tr>\n",
       "      <th>50%</th>\n",
       "      <td>2.000000e+00</td>\n",
       "      <td>2.947760e+03</td>\n",
       "      <td>3.012300e+03</td>\n",
       "      <td>4.856460e+03</td>\n",
       "      <td>4.815570e+03</td>\n",
       "      <td>2.410000e+02</td>\n",
       "      <td>1.000000e+00</td>\n",
       "      <td>1.627600e+03</td>\n",
       "      <td>1.626670e+03</td>\n",
       "    </tr>\n",
       "    <tr>\n",
       "      <th>75%</th>\n",
       "      <td>2.000000e+00</td>\n",
       "      <td>3.007710e+03</td>\n",
       "      <td>3.098960e+03</td>\n",
       "      <td>5.043480e+03</td>\n",
       "      <td>5.013590e+03</td>\n",
       "      <td>2.420000e+02</td>\n",
       "      <td>1.000000e+00</td>\n",
       "      <td>1.660160e+03</td>\n",
       "      <td>1.626670e+03</td>\n",
       "    </tr>\n",
       "    <tr>\n",
       "      <th>max</th>\n",
       "      <td>2.000000e+00</td>\n",
       "      <td>3.836760e+03</td>\n",
       "      <td>3.989070e+03</td>\n",
       "      <td>5.187500e+03</td>\n",
       "      <td>5.095110e+03</td>\n",
       "      <td>4.640000e+02</td>\n",
       "      <td>4.600000e+02</td>\n",
       "      <td>1.660160e+03</td>\n",
       "      <td>1.660000e+03</td>\n",
       "    </tr>\n",
       "  </tbody>\n",
       "</table>\n",
       "</div>"
      ],
      "text/plain": [
       "             Active  UA RegPilotPes  UA RegRdbakPes  pod_pilot_pres_podtrans  \\\n",
       "count  1.992832e+06    1.992832e+06    1.992832e+06             1.992832e+06   \n",
       "mean   1.726745e+00    2.905460e+03    2.980722e+03             4.853748e+03   \n",
       "std    4.456310e-01    1.990144e+02    1.992055e+02             2.097438e+02   \n",
       "min    1.000000e+00    1.363050e+03    0.000000e+00             3.097670e+03   \n",
       "25%    1.000000e+00    2.821340e+03    2.909840e+03             4.772730e+03   \n",
       "50%    2.000000e+00    2.947760e+03    3.012300e+03             4.856460e+03   \n",
       "75%    2.000000e+00    3.007710e+03    3.098960e+03             5.043480e+03   \n",
       "max    2.000000e+00    3.836760e+03    3.989070e+03             5.187500e+03   \n",
       "\n",
       "       pod_supply_pres_podtrans  upper_ann_open_current  \\\n",
       "count              1.992832e+06            1.992832e+06   \n",
       "mean               4.768336e+03            2.250846e+02   \n",
       "std                2.730328e+02            6.033071e+01   \n",
       "min                2.022850e+03            0.000000e+00   \n",
       "25%                4.658470e+03            2.400000e+02   \n",
       "50%                4.815570e+03            2.410000e+02   \n",
       "75%                5.013590e+03            2.420000e+02   \n",
       "max                5.095110e+03            4.640000e+02   \n",
       "\n",
       "       upper_ann_close_current     pod_2_adj     pod_1_adj  \n",
       "count             1.992832e+06  1.992832e+06  1.992832e+06  \n",
       "mean              1.221517e+01  1.584248e+03  1.468049e+03  \n",
       "std               5.144850e+01  2.300919e+02  4.232339e+02  \n",
       "min               0.000000e+00  0.000000e+00  0.000000e+00  \n",
       "25%               0.000000e+00  1.537470e+03  1.593330e+03  \n",
       "50%               1.000000e+00  1.627600e+03  1.626670e+03  \n",
       "75%               1.000000e+00  1.660160e+03  1.626670e+03  \n",
       "max               4.600000e+02  1.660160e+03  1.660000e+03  "
      ]
     },
     "execution_count": 52,
     "metadata": {},
     "output_type": "execute_result"
    }
   ],
   "source": [
    "temp"
   ]
  },
  {
   "cell_type": "code",
   "execution_count": 9,
   "metadata": {
    "collapsed": true
   },
   "outputs": [],
   "source": [
    "#stat_summary"
   ]
  },
  {
   "cell_type": "code",
   "execution_count": null,
   "metadata": {
    "collapsed": true
   },
   "outputs": [],
   "source": []
  },
  {
   "cell_type": "code",
   "execution_count": 53,
   "metadata": {
    "collapsed": true
   },
   "outputs": [],
   "source": [
    "df_temp['UA RegPilotPes_adj'] = np.where(df_temp['Active'] == 1, df_temp['UA RegPilotPes']- df_temp['pod_1_adj'],df_temp['UA RegPilotPes']- df_temp['pod_2_adj'])"
   ]
  },
  {
   "cell_type": "code",
   "execution_count": 54,
   "metadata": {
    "collapsed": true,
    "scrolled": true
   },
   "outputs": [],
   "source": [
    "df_temp['UA RegRdbakPes_adj'] = np.where(df_temp['Active'] == 1, df_temp['UA RegRdbakPes']- df_temp['pod_1_adj'],df_temp['UA RegRdbakPes']- df_temp['pod_2_adj']) "
   ]
  },
  {
   "cell_type": "code",
   "execution_count": 55,
   "metadata": {
    "collapsed": true
   },
   "outputs": [],
   "source": [
    "df_temp['pod_pilot_pres_podtrans_adj'] = np.where(df_temp['Active'] == 1, df_temp['pod_pilot_pres_podtrans']- df_temp['pod_1_adj'],df_temp['pod_pilot_pres_podtrans']- df_temp['pod_2_adj']) "
   ]
  },
  {
   "cell_type": "code",
   "execution_count": 56,
   "metadata": {
    "collapsed": true
   },
   "outputs": [],
   "source": [
    "df_temp['pod_supply_pres_podtrans_adj'] = np.where(df_temp['Active'] == 1, df_temp['pod_supply_pres_podtrans']- df_temp['pod_1_adj'],df_temp['pod_supply_pres_podtrans']- df_temp['pod_2_adj']) "
   ]
  },
  {
   "cell_type": "code",
   "execution_count": 57,
   "metadata": {
    "scrolled": true
   },
   "outputs": [
    {
     "data": {
      "text/html": [
       "<div>\n",
       "<style>\n",
       "    .dataframe thead tr:only-child th {\n",
       "        text-align: right;\n",
       "    }\n",
       "\n",
       "    .dataframe thead th {\n",
       "        text-align: left;\n",
       "    }\n",
       "\n",
       "    .dataframe tbody tr th {\n",
       "        vertical-align: top;\n",
       "    }\n",
       "</style>\n",
       "<table border=\"1\" class=\"dataframe\">\n",
       "  <thead>\n",
       "    <tr style=\"text-align: right;\">\n",
       "      <th></th>\n",
       "      <th>UA RegPilotPes_adj</th>\n",
       "      <th>UA RegRdbakPes_adj</th>\n",
       "      <th>pod_pilot_pres_podtrans_adj</th>\n",
       "      <th>pod_supply_pres_podtrans_adj</th>\n",
       "      <th>upper_ann_open_current</th>\n",
       "      <th>upper_ann_close_current</th>\n",
       "    </tr>\n",
       "  </thead>\n",
       "  <tbody>\n",
       "    <tr>\n",
       "      <th>count</th>\n",
       "      <td>1.992832e+06</td>\n",
       "      <td>1.992832e+06</td>\n",
       "      <td>1.992832e+06</td>\n",
       "      <td>1.992832e+06</td>\n",
       "      <td>1.992832e+06</td>\n",
       "      <td>1.992832e+06</td>\n",
       "    </tr>\n",
       "    <tr>\n",
       "      <th>mean</th>\n",
       "      <td>1.334827e+03</td>\n",
       "      <td>1.410089e+03</td>\n",
       "      <td>3.283115e+03</td>\n",
       "      <td>3.197703e+03</td>\n",
       "      <td>2.250846e+02</td>\n",
       "      <td>1.221517e+01</td>\n",
       "    </tr>\n",
       "    <tr>\n",
       "      <th>std</th>\n",
       "      <td>2.917030e+02</td>\n",
       "      <td>2.934670e+02</td>\n",
       "      <td>2.960843e+02</td>\n",
       "      <td>3.462369e+02</td>\n",
       "      <td>6.033071e+01</td>\n",
       "      <td>5.144850e+01</td>\n",
       "    </tr>\n",
       "    <tr>\n",
       "      <th>min</th>\n",
       "      <td>4.061700e+02</td>\n",
       "      <td>-1.437700e+02</td>\n",
       "      <td>2.392470e+03</td>\n",
       "      <td>4.853800e+02</td>\n",
       "      <td>0.000000e+00</td>\n",
       "      <td>0.000000e+00</td>\n",
       "    </tr>\n",
       "    <tr>\n",
       "      <th>25%</th>\n",
       "      <td>1.245310e+03</td>\n",
       "      <td>1.324810e+03</td>\n",
       "      <td>3.172250e+03</td>\n",
       "      <td>3.073450e+03</td>\n",
       "      <td>2.400000e+02</td>\n",
       "      <td>0.000000e+00</td>\n",
       "    </tr>\n",
       "    <tr>\n",
       "      <th>50%</th>\n",
       "      <td>1.321090e+03</td>\n",
       "      <td>1.398360e+03</td>\n",
       "      <td>3.265670e+03</td>\n",
       "      <td>3.215300e+03</td>\n",
       "      <td>2.410000e+02</td>\n",
       "      <td>1.000000e+00</td>\n",
       "    </tr>\n",
       "    <tr>\n",
       "      <th>75%</th>\n",
       "      <td>1.425250e+03</td>\n",
       "      <td>1.488490e+03</td>\n",
       "      <td>3.423310e+03</td>\n",
       "      <td>3.394190e+03</td>\n",
       "      <td>2.420000e+02</td>\n",
       "      <td>1.000000e+00</td>\n",
       "    </tr>\n",
       "    <tr>\n",
       "      <th>max</th>\n",
       "      <td>3.233830e+03</td>\n",
       "      <td>3.281250e+03</td>\n",
       "      <td>5.079710e+03</td>\n",
       "      <td>5.054350e+03</td>\n",
       "      <td>4.640000e+02</td>\n",
       "      <td>4.600000e+02</td>\n",
       "    </tr>\n",
       "  </tbody>\n",
       "</table>\n",
       "</div>"
      ],
      "text/plain": [
       "       UA RegPilotPes_adj  UA RegRdbakPes_adj  pod_pilot_pres_podtrans_adj  \\\n",
       "count        1.992832e+06        1.992832e+06                 1.992832e+06   \n",
       "mean         1.334827e+03        1.410089e+03                 3.283115e+03   \n",
       "std          2.917030e+02        2.934670e+02                 2.960843e+02   \n",
       "min          4.061700e+02       -1.437700e+02                 2.392470e+03   \n",
       "25%          1.245310e+03        1.324810e+03                 3.172250e+03   \n",
       "50%          1.321090e+03        1.398360e+03                 3.265670e+03   \n",
       "75%          1.425250e+03        1.488490e+03                 3.423310e+03   \n",
       "max          3.233830e+03        3.281250e+03                 5.079710e+03   \n",
       "\n",
       "       pod_supply_pres_podtrans_adj  upper_ann_open_current  \\\n",
       "count                  1.992832e+06            1.992832e+06   \n",
       "mean                   3.197703e+03            2.250846e+02   \n",
       "std                    3.462369e+02            6.033071e+01   \n",
       "min                    4.853800e+02            0.000000e+00   \n",
       "25%                    3.073450e+03            2.400000e+02   \n",
       "50%                    3.215300e+03            2.410000e+02   \n",
       "75%                    3.394190e+03            2.420000e+02   \n",
       "max                    5.054350e+03            4.640000e+02   \n",
       "\n",
       "       upper_ann_close_current  \n",
       "count             1.992832e+06  \n",
       "mean              1.221517e+01  \n",
       "std               5.144850e+01  \n",
       "min               0.000000e+00  \n",
       "25%               0.000000e+00  \n",
       "50%               1.000000e+00  \n",
       "75%               1.000000e+00  \n",
       "max               4.600000e+02  "
      ]
     },
     "execution_count": 57,
     "metadata": {},
     "output_type": "execute_result"
    }
   ],
   "source": [
    "df_temp[['UA RegPilotPes_adj', 'UA RegRdbakPes_adj', 'pod_pilot_pres_podtrans_adj', 'pod_supply_pres_podtrans_adj', 'upper_ann_open_current', 'upper_ann_close_current']].describe()"
   ]
  },
  {
   "cell_type": "code",
   "execution_count": 58,
   "metadata": {
    "collapsed": true
   },
   "outputs": [],
   "source": [
    "temp = df_temp[['UA RegPilotPes_adj', 'UA RegRdbakPes_adj', 'pod_pilot_pres_podtrans_adj', 'pod_supply_pres_podtrans_adj', 'upper_ann_open_current', 'upper_ann_close_current']].describe()"
   ]
  },
  {
   "cell_type": "code",
   "execution_count": 59,
   "metadata": {
    "collapsed": true
   },
   "outputs": [],
   "source": [
    "temp.to_excel(\"summary_2017_04_24_to_2017_08_07.xlsx\")"
   ]
  },
  {
   "cell_type": "code",
   "execution_count": 60,
   "metadata": {
    "scrolled": false
   },
   "outputs": [
    {
     "data": {
      "text/plain": [
       "[<matplotlib.lines.Line2D at 0x1e449f98>]"
      ]
     },
     "execution_count": 60,
     "metadata": {},
     "output_type": "execute_result"
    },
    {
     "data": {
      "image/png": "[encoded data removed]",
      "text/plain": [
       "<matplotlib.figure.Figure at 0xe8c6b00>"
      ]
     },
     "metadata": {},
     "output_type": "display_data"
    }
   ],
   "source": [
    "plt.figure(figsize=(12,5))\n",
    "plt.plot(df_temp.last_active_time,df_temp.upper_ann_open_current, color = 'red')"
   ]
  },
  {
   "cell_type": "code",
   "execution_count": 61,
   "metadata": {
    "scrolled": true
   },
   "outputs": [
    {
     "data": {
      "text/plain": [
       "[<matplotlib.lines.Line2D at 0x10d74710>]"
      ]
     },
     "execution_count": 61,
     "metadata": {},
     "output_type": "execute_result"
    },
    {
     "data": {
      "image/png": "[encoded data removed]",
      "text/plain": [
       "<matplotlib.figure.Figure at 0x1e449550>"
      ]
     },
     "metadata": {},
     "output_type": "display_data"
    }
   ],
   "source": [
    "plt.figure(figsize=(12,5))\n",
    "plt.plot(df_temp.last_active_time, df_temp.upper_ann_close_current, color = 'red')"
   ]
  },
  {
   "cell_type": "code",
   "execution_count": 62,
   "metadata": {},
   "outputs": [
    {
     "data": {
      "text/plain": [
       "[<matplotlib.lines.Line2D at 0x1130dda0>]"
      ]
     },
     "execution_count": 62,
     "metadata": {},
     "output_type": "execute_result"
    },
    {
     "data": {
      "image/png": "[encoded data removed]",
      "text/plain": [
       "<matplotlib.figure.Figure at 0xd36f6d8>"
      ]
     },
     "metadata": {},
     "output_type": "display_data"
    }
   ],
   "source": [
    "plt.figure(figsize=(12,5))\n",
    "plt.plot(df_temp.last_active_time, df_temp[['UA RegPilotPes_adj']], color = 'green')"
   ]
  },
  {
   "cell_type": "code",
   "execution_count": 63,
   "metadata": {
    "scrolled": true
   },
   "outputs": [
    {
     "data": {
      "text/plain": [
       "[<matplotlib.lines.Line2D at 0x10c684e0>]"
      ]
     },
     "execution_count": 63,
     "metadata": {},
     "output_type": "execute_result"
    },
    {
     "data": {
      "image/png": "[encoded data removed]",
      "text/plain": [
       "<matplotlib.figure.Figure at 0x10c57f28>"
      ]
     },
     "metadata": {},
     "output_type": "display_data"
    }
   ],
   "source": [
    "plt.figure(figsize=(12,5))\n",
    "plt.plot(df_temp.last_active_time, df_temp[['UA RegRdbakPes_adj']], color = 'green')"
   ]
  },
  {
   "cell_type": "code",
   "execution_count": 64,
   "metadata": {},
   "outputs": [
    {
     "data": {
      "text/plain": [
       "[<matplotlib.lines.Line2D at 0x10cfdfd0>]"
      ]
     },
     "execution_count": 64,
     "metadata": {},
     "output_type": "execute_result"
    },
    {
     "data": {
      "image/png": "[encoded data removed]",
      "text/plain": [
       "<matplotlib.figure.Figure at 0x10c7d3c8>"
      ]
     },
     "metadata": {},
     "output_type": "display_data"
    }
   ],
   "source": [
    "plt.figure(figsize=(12,5))\n",
    "plt.plot(df_temp.last_active_time, df_temp[['pod_pilot_pres_podtrans_adj']], color = 'blue')"
   ]
  },
  {
   "cell_type": "code",
   "execution_count": 65,
   "metadata": {
    "scrolled": true
   },
   "outputs": [
    {
     "data": {
      "text/plain": [
       "[<matplotlib.lines.Line2D at 0x10ca8e48>]"
      ]
     },
     "execution_count": 65,
     "metadata": {},
     "output_type": "execute_result"
    },
    {
     "data": {
      "image/png": "[encoded data removed]",
      "text/plain": [
       "<matplotlib.figure.Figure at 0x10d1bac8>"
      ]
     },
     "metadata": {},
     "output_type": "display_data"
    }
   ],
   "source": [
    "plt.figure(figsize=(12,5))\n",
    "plt.plot(df_temp.last_active_time, df_temp[['pod_supply_pres_podtrans_adj']], color = 'blue')"
   ]
  },
  {
   "cell_type": "code",
   "execution_count": 36,
   "metadata": {},
   "outputs": [
    {
     "ename": "NameError",
     "evalue": "name 'df1' is not defined",
     "output_type": "error",
     "traceback": [
      "\u001b[1;31m---------------------------------------------------------------------------\u001b[0m",
      "\u001b[1;31mNameError\u001b[0m                                 Traceback (most recent call last)",
      "\u001b[1;32m<ipython-input-36-835807b1861d>\u001b[0m in \u001b[0;36m<module>\u001b[1;34m()\u001b[0m\n\u001b[0;32m      1\u001b[0m \u001b[0mplt\u001b[0m\u001b[1;33m.\u001b[0m\u001b[0mfigure\u001b[0m\u001b[1;33m(\u001b[0m\u001b[0mfigsize\u001b[0m\u001b[1;33m=\u001b[0m\u001b[1;33m(\u001b[0m\u001b[1;36m12\u001b[0m\u001b[1;33m,\u001b[0m\u001b[1;36m5\u001b[0m\u001b[1;33m)\u001b[0m\u001b[1;33m)\u001b[0m\u001b[1;33m\u001b[0m\u001b[0m\n\u001b[1;32m----> 2\u001b[1;33m \u001b[0mplt\u001b[0m\u001b[1;33m.\u001b[0m\u001b[0mplot\u001b[0m\u001b[1;33m(\u001b[0m\u001b[0mdf1\u001b[0m\u001b[1;33m[\u001b[0m\u001b[1;33m[\u001b[0m\u001b[1;34m'pod_1_adj'\u001b[0m\u001b[1;33m]\u001b[0m\u001b[1;33m]\u001b[0m\u001b[1;33m,\u001b[0m \u001b[0mcolor\u001b[0m \u001b[1;33m=\u001b[0m \u001b[1;34m'blue'\u001b[0m\u001b[1;33m)\u001b[0m\u001b[1;33m\u001b[0m\u001b[0m\n\u001b[0m",
      "\u001b[1;31mNameError\u001b[0m: name 'df1' is not defined"
     ]
    },
    {
     "data": {
      "text/plain": [
       "<matplotlib.figure.Figure at 0xe8a0710>"
      ]
     },
     "metadata": {},
     "output_type": "display_data"
    }
   ],
   "source": [
    "plt.figure(figsize=(12,5))\n",
    "plt.plot(df1[['pod_1_adj']], color = 'blue')"
   ]
  },
  {
   "cell_type": "code",
   "execution_count": 37,
   "metadata": {},
   "outputs": [],
   "source": [
    "#Write both MAERSK fiels in a xls file for Tableau and reuse\n",
    "#df_temp.to_excel(\"LIONS_2017_04_24_to_2017_08_07.xlsx\")"
   ]
  },
  {
   "cell_type": "code",
   "execution_count": 66,
   "metadata": {
    "collapsed": true
   },
   "outputs": [],
   "source": [
    "df_temp.to_csv(\"LION_2017_04_24_to_2017_08_07.csv\", index = False)"
   ]
  },
  {
   "cell_type": "code",
   "execution_count": null,
   "metadata": {
    "collapsed": true
   },
   "outputs": [],
   "source": []
  },
  {
   "cell_type": "code",
   "execution_count": null,
   "metadata": {
    "collapsed": true
   },
   "outputs": [],
   "source": []
  },
  {
   "cell_type": "code",
   "execution_count": null,
   "metadata": {
    "collapsed": true
   },
   "outputs": [],
   "source": []
  }
 ],
 "metadata": {
  "kernelspec": {
   "display_name": "Python 3",
   "language": "python",
   "name": "python3"
  },
  "language_info": {
   "codemirror_mode": {
    "name": "ipython",
    "version": 3
   },
   "file_extension": ".py",
   "mimetype": "text/x-python",
   "name": "python",
   "nbconvert_exporter": "python",
   "pygments_lexer": "ipython3",
   "version": "3.6.3"
  }
 },
 "nbformat": 4,
 "nbformat_minor": 2
}
