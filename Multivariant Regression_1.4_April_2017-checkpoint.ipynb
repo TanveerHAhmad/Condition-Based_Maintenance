{
 "cells": [
  {
   "cell_type": "code",
   "execution_count": 1,
   "metadata": {
    "collapsed": true
   },
   "outputs": [],
   "source": [
    "import numpy as np # linear algebra\n",
    "import pandas as pd # data processing, CSV file I/O (e.g. pd.read_csv)\n",
    "\n",
    "from sklearn.ensemble import RandomForestRegressor\n",
    "from sklearn.model_selection import train_test_split\n",
    "from sklearn.preprocessing import StandardScaler\n",
    "\n",
    "import matplotlib.pyplot as plt\n",
    "\n",
    "#from subprocess import check_output\n",
    "#from datetime import time\n",
    "%matplotlib inline"
   ]
  },
  {
   "cell_type": "code",
   "execution_count": 2,
   "metadata": {
    "collapsed": true
   },
   "outputs": [],
   "source": [
    "#df = pd.read_csv(\"LIONS_2017_04_24_to_2017_08_07.csv\", usecols= ['last_active_time','UA RegPilotPes_adj', 'UA RegRdbakPes_adj', 'pod_pilot_pres_podtrans_adj', 'pod_supply_pres_podtrans_adj', 'upper_ann_open_current', 'upper_ann_close_current'])\n",
    "df1 = pd.read_csv(\"LIONS_2017_04_24_to_2017_08_07.csv\") \n",
    "df2 = pd.read_csv(\"lion_data_upper_annular_train_cluster2.csv\") "
   ]
  },
  {
   "cell_type": "code",
   "execution_count": 3,
   "metadata": {},
   "outputs": [
    {
     "data": {
      "text/html": [
       "<div>\n",
       "<style>\n",
       "    .dataframe thead tr:only-child th {\n",
       "        text-align: right;\n",
       "    }\n",
       "\n",
       "    .dataframe thead th {\n",
       "        text-align: left;\n",
       "    }\n",
       "\n",
       "    .dataframe tbody tr th {\n",
       "        vertical-align: top;\n",
       "    }\n",
       "</style>\n",
       "<table border=\"1\" class=\"dataframe\">\n",
       "  <thead>\n",
       "    <tr style=\"text-align: right;\">\n",
       "      <th></th>\n",
       "      <th>last_active_time</th>\n",
       "      <th>Active</th>\n",
       "      <th>UA RegPilotPes</th>\n",
       "      <th>UA RegRdbakPes</th>\n",
       "      <th>pod_pilot_pres_podtrans</th>\n",
       "      <th>pod_supply_pres_podtrans</th>\n",
       "      <th>upper_ann_open_current</th>\n",
       "      <th>upper_ann_close_current</th>\n",
       "      <th>pod_2_adj</th>\n",
       "      <th>pod_1_adj</th>\n",
       "      <th>UA RegPilotPes_adj</th>\n",
       "      <th>UA RegRdbakPes_adj</th>\n",
       "      <th>pod_pilot_pres_podtrans_adj</th>\n",
       "      <th>pod_supply_pres_podtrans_adj</th>\n",
       "    </tr>\n",
       "  </thead>\n",
       "  <tbody>\n",
       "    <tr>\n",
       "      <th>0</th>\n",
       "      <td>2017-04-24 08:40:28</td>\n",
       "      <td>2</td>\n",
       "      <td>1363.050049</td>\n",
       "      <td>0.000000</td>\n",
       "      <td>3097.669922</td>\n",
       "      <td>3143.840088</td>\n",
       "      <td>223</td>\n",
       "      <td>0</td>\n",
       "      <td>0.0</td>\n",
       "      <td>0.0</td>\n",
       "      <td>1363.050049</td>\n",
       "      <td>0.000000</td>\n",
       "      <td>3097.669922</td>\n",
       "      <td>3143.840088</td>\n",
       "    </tr>\n",
       "    <tr>\n",
       "      <th>1</th>\n",
       "      <td>2017-04-24 08:40:36</td>\n",
       "      <td>2</td>\n",
       "      <td>2982.010010</td>\n",
       "      <td>3073.770020</td>\n",
       "      <td>4604.109863</td>\n",
       "      <td>4467.209961</td>\n",
       "      <td>223</td>\n",
       "      <td>0</td>\n",
       "      <td>0.0</td>\n",
       "      <td>0.0</td>\n",
       "      <td>2982.010010</td>\n",
       "      <td>3073.770020</td>\n",
       "      <td>4604.109863</td>\n",
       "      <td>4467.209961</td>\n",
       "    </tr>\n",
       "    <tr>\n",
       "      <th>2</th>\n",
       "      <td>2017-04-24 08:40:41</td>\n",
       "      <td>2</td>\n",
       "      <td>2969.149902</td>\n",
       "      <td>3073.770020</td>\n",
       "      <td>4604.109863</td>\n",
       "      <td>4535.520020</td>\n",
       "      <td>223</td>\n",
       "      <td>0</td>\n",
       "      <td>0.0</td>\n",
       "      <td>0.0</td>\n",
       "      <td>2969.149902</td>\n",
       "      <td>3073.770020</td>\n",
       "      <td>4604.109863</td>\n",
       "      <td>4535.520020</td>\n",
       "    </tr>\n",
       "    <tr>\n",
       "      <th>3</th>\n",
       "      <td>2017-04-24 08:40:46</td>\n",
       "      <td>2</td>\n",
       "      <td>2969.149902</td>\n",
       "      <td>3073.770020</td>\n",
       "      <td>4604.109863</td>\n",
       "      <td>4617.490234</td>\n",
       "      <td>223</td>\n",
       "      <td>0</td>\n",
       "      <td>0.0</td>\n",
       "      <td>0.0</td>\n",
       "      <td>2969.149902</td>\n",
       "      <td>3073.770020</td>\n",
       "      <td>4604.109863</td>\n",
       "      <td>4617.490234</td>\n",
       "    </tr>\n",
       "    <tr>\n",
       "      <th>4</th>\n",
       "      <td>2017-04-24 08:40:51</td>\n",
       "      <td>2</td>\n",
       "      <td>2943.439941</td>\n",
       "      <td>3060.110107</td>\n",
       "      <td>4604.109863</td>\n",
       "      <td>4617.490234</td>\n",
       "      <td>223</td>\n",
       "      <td>0</td>\n",
       "      <td>0.0</td>\n",
       "      <td>0.0</td>\n",
       "      <td>2943.439941</td>\n",
       "      <td>3060.110107</td>\n",
       "      <td>4604.109863</td>\n",
       "      <td>4617.490234</td>\n",
       "    </tr>\n",
       "  </tbody>\n",
       "</table>\n",
       "</div>"
      ],
      "text/plain": [
       "      last_active_time  Active  UA RegPilotPes  UA RegRdbakPes  \\\n",
       "0  2017-04-24 08:40:28       2     1363.050049        0.000000   \n",
       "1  2017-04-24 08:40:36       2     2982.010010     3073.770020   \n",
       "2  2017-04-24 08:40:41       2     2969.149902     3073.770020   \n",
       "3  2017-04-24 08:40:46       2     2969.149902     3073.770020   \n",
       "4  2017-04-24 08:40:51       2     2943.439941     3060.110107   \n",
       "\n",
       "   pod_pilot_pres_podtrans  pod_supply_pres_podtrans  upper_ann_open_current  \\\n",
       "0              3097.669922               3143.840088                     223   \n",
       "1              4604.109863               4467.209961                     223   \n",
       "2              4604.109863               4535.520020                     223   \n",
       "3              4604.109863               4617.490234                     223   \n",
       "4              4604.109863               4617.490234                     223   \n",
       "\n",
       "   upper_ann_close_current  pod_2_adj  pod_1_adj  UA RegPilotPes_adj  \\\n",
       "0                        0        0.0        0.0         1363.050049   \n",
       "1                        0        0.0        0.0         2982.010010   \n",
       "2                        0        0.0        0.0         2969.149902   \n",
       "3                        0        0.0        0.0         2969.149902   \n",
       "4                        0        0.0        0.0         2943.439941   \n",
       "\n",
       "   UA RegRdbakPes_adj  pod_pilot_pres_podtrans_adj  \\\n",
       "0            0.000000                  3097.669922   \n",
       "1         3073.770020                  4604.109863   \n",
       "2         3073.770020                  4604.109863   \n",
       "3         3073.770020                  4604.109863   \n",
       "4         3060.110107                  4604.109863   \n",
       "\n",
       "   pod_supply_pres_podtrans_adj  \n",
       "0                   3143.840088  \n",
       "1                   4467.209961  \n",
       "2                   4535.520020  \n",
       "3                   4617.490234  \n",
       "4                   4617.490234  "
      ]
     },
     "execution_count": 3,
     "metadata": {},
     "output_type": "execute_result"
    }
   ],
   "source": [
    "df1.head()"
   ]
  },
  {
   "cell_type": "code",
   "execution_count": 4,
   "metadata": {},
   "outputs": [
    {
     "data": {
      "text/html": [
       "<div>\n",
       "<style>\n",
       "    .dataframe thead tr:only-child th {\n",
       "        text-align: right;\n",
       "    }\n",
       "\n",
       "    .dataframe thead th {\n",
       "        text-align: left;\n",
       "    }\n",
       "\n",
       "    .dataframe tbody tr th {\n",
       "        vertical-align: top;\n",
       "    }\n",
       "</style>\n",
       "<table border=\"1\" class=\"dataframe\">\n",
       "  <thead>\n",
       "    <tr style=\"text-align: right;\">\n",
       "      <th></th>\n",
       "      <th>last_active_time</th>\n",
       "      <th>Active</th>\n",
       "      <th>UA RegPilotPes</th>\n",
       "      <th>UA RegRdbakPes</th>\n",
       "      <th>pod_pilot_pres_podtrans</th>\n",
       "      <th>pod_supply_pres_podtrans</th>\n",
       "      <th>upper_ann_open_current</th>\n",
       "      <th>upper_ann_close_current</th>\n",
       "      <th>pod_2_adj</th>\n",
       "      <th>pod_1_adj</th>\n",
       "      <th>UA RegPilotPes_adj</th>\n",
       "      <th>UA RegRdbakPes_adj</th>\n",
       "      <th>pod_pilot_pres_podtrans_adj</th>\n",
       "      <th>pod_supply_pres_podtrans_adj</th>\n",
       "      <th>predicted_state</th>\n",
       "      <th>anomaly</th>\n",
       "      <th>open_current_states_kmean</th>\n",
       "      <th>close_current_states_kmean</th>\n",
       "    </tr>\n",
       "  </thead>\n",
       "  <tbody>\n",
       "    <tr>\n",
       "      <th>0</th>\n",
       "      <td>2017-04-24 08:40:28</td>\n",
       "      <td>2</td>\n",
       "      <td>1363.050049</td>\n",
       "      <td>0.000000</td>\n",
       "      <td>3097.669922</td>\n",
       "      <td>3143.840088</td>\n",
       "      <td>223</td>\n",
       "      <td>0</td>\n",
       "      <td>0.0</td>\n",
       "      <td>0.0</td>\n",
       "      <td>1363.050049</td>\n",
       "      <td>0.000000</td>\n",
       "      <td>3097.669922</td>\n",
       "      <td>3143.840088</td>\n",
       "      <td>12</td>\n",
       "      <td>0</td>\n",
       "      <td>0</td>\n",
       "      <td>0</td>\n",
       "    </tr>\n",
       "    <tr>\n",
       "      <th>1</th>\n",
       "      <td>2017-04-24 08:40:36</td>\n",
       "      <td>2</td>\n",
       "      <td>2982.010010</td>\n",
       "      <td>3073.770020</td>\n",
       "      <td>4604.109863</td>\n",
       "      <td>4467.209961</td>\n",
       "      <td>223</td>\n",
       "      <td>0</td>\n",
       "      <td>0.0</td>\n",
       "      <td>0.0</td>\n",
       "      <td>2982.010010</td>\n",
       "      <td>3073.770020</td>\n",
       "      <td>4604.109863</td>\n",
       "      <td>4467.209961</td>\n",
       "      <td>2</td>\n",
       "      <td>2</td>\n",
       "      <td>0</td>\n",
       "      <td>0</td>\n",
       "    </tr>\n",
       "    <tr>\n",
       "      <th>2</th>\n",
       "      <td>2017-04-24 08:40:41</td>\n",
       "      <td>2</td>\n",
       "      <td>2969.149902</td>\n",
       "      <td>3073.770020</td>\n",
       "      <td>4604.109863</td>\n",
       "      <td>4535.520020</td>\n",
       "      <td>223</td>\n",
       "      <td>0</td>\n",
       "      <td>0.0</td>\n",
       "      <td>0.0</td>\n",
       "      <td>2969.149902</td>\n",
       "      <td>3073.770020</td>\n",
       "      <td>4604.109863</td>\n",
       "      <td>4535.520020</td>\n",
       "      <td>2</td>\n",
       "      <td>2</td>\n",
       "      <td>0</td>\n",
       "      <td>0</td>\n",
       "    </tr>\n",
       "    <tr>\n",
       "      <th>3</th>\n",
       "      <td>2017-04-24 08:40:46</td>\n",
       "      <td>2</td>\n",
       "      <td>2969.149902</td>\n",
       "      <td>3073.770020</td>\n",
       "      <td>4604.109863</td>\n",
       "      <td>4617.490234</td>\n",
       "      <td>223</td>\n",
       "      <td>0</td>\n",
       "      <td>0.0</td>\n",
       "      <td>0.0</td>\n",
       "      <td>2969.149902</td>\n",
       "      <td>3073.770020</td>\n",
       "      <td>4604.109863</td>\n",
       "      <td>4617.490234</td>\n",
       "      <td>2</td>\n",
       "      <td>2</td>\n",
       "      <td>0</td>\n",
       "      <td>0</td>\n",
       "    </tr>\n",
       "    <tr>\n",
       "      <th>4</th>\n",
       "      <td>2017-04-24 08:40:51</td>\n",
       "      <td>2</td>\n",
       "      <td>2943.439941</td>\n",
       "      <td>3060.110107</td>\n",
       "      <td>4604.109863</td>\n",
       "      <td>4617.490234</td>\n",
       "      <td>223</td>\n",
       "      <td>0</td>\n",
       "      <td>0.0</td>\n",
       "      <td>0.0</td>\n",
       "      <td>2943.439941</td>\n",
       "      <td>3060.110107</td>\n",
       "      <td>4604.109863</td>\n",
       "      <td>4617.490234</td>\n",
       "      <td>2</td>\n",
       "      <td>2</td>\n",
       "      <td>0</td>\n",
       "      <td>0</td>\n",
       "    </tr>\n",
       "  </tbody>\n",
       "</table>\n",
       "</div>"
      ],
      "text/plain": [
       "      last_active_time  Active  UA RegPilotPes  UA RegRdbakPes  \\\n",
       "0  2017-04-24 08:40:28       2     1363.050049        0.000000   \n",
       "1  2017-04-24 08:40:36       2     2982.010010     3073.770020   \n",
       "2  2017-04-24 08:40:41       2     2969.149902     3073.770020   \n",
       "3  2017-04-24 08:40:46       2     2969.149902     3073.770020   \n",
       "4  2017-04-24 08:40:51       2     2943.439941     3060.110107   \n",
       "\n",
       "   pod_pilot_pres_podtrans  pod_supply_pres_podtrans  upper_ann_open_current  \\\n",
       "0              3097.669922               3143.840088                     223   \n",
       "1              4604.109863               4467.209961                     223   \n",
       "2              4604.109863               4535.520020                     223   \n",
       "3              4604.109863               4617.490234                     223   \n",
       "4              4604.109863               4617.490234                     223   \n",
       "\n",
       "   upper_ann_close_current  pod_2_adj  pod_1_adj  UA RegPilotPes_adj  \\\n",
       "0                        0        0.0        0.0         1363.050049   \n",
       "1                        0        0.0        0.0         2982.010010   \n",
       "2                        0        0.0        0.0         2969.149902   \n",
       "3                        0        0.0        0.0         2969.149902   \n",
       "4                        0        0.0        0.0         2943.439941   \n",
       "\n",
       "   UA RegRdbakPes_adj  pod_pilot_pres_podtrans_adj  \\\n",
       "0            0.000000                  3097.669922   \n",
       "1         3073.770020                  4604.109863   \n",
       "2         3073.770020                  4604.109863   \n",
       "3         3073.770020                  4604.109863   \n",
       "4         3060.110107                  4604.109863   \n",
       "\n",
       "   pod_supply_pres_podtrans_adj  predicted_state  anomaly  \\\n",
       "0                   3143.840088               12        0   \n",
       "1                   4467.209961                2        2   \n",
       "2                   4535.520020                2        2   \n",
       "3                   4617.490234                2        2   \n",
       "4                   4617.490234                2        2   \n",
       "\n",
       "   open_current_states_kmean  close_current_states_kmean  \n",
       "0                          0                           0  \n",
       "1                          0                           0  \n",
       "2                          0                           0  \n",
       "3                          0                           0  \n",
       "4                          0                           0  "
      ]
     },
     "execution_count": 4,
     "metadata": {},
     "output_type": "execute_result"
    }
   ],
   "source": [
    "df2.head()"
   ]
  },
  {
   "cell_type": "code",
   "execution_count": null,
   "metadata": {
    "collapsed": true
   },
   "outputs": [],
   "source": [
    "df_train['last_active_time'] = pd.to_datetime(df_train['last_active_time'])\n",
    "df_train = df_train.set_index('last_active_time')"
   ]
  },
  {
   "cell_type": "code",
   "execution_count": 8,
   "metadata": {},
   "outputs": [
    {
     "ename": "NameError",
     "evalue": "name 'df_train' is not defined",
     "output_type": "error",
     "traceback": [
      "\u001b[1;31m---------------------------------------------------------------------------\u001b[0m",
      "\u001b[1;31mNameError\u001b[0m                                 Traceback (most recent call last)",
      "\u001b[1;32m<ipython-input-8-d6f087d4daa6>\u001b[0m in \u001b[0;36m<module>\u001b[1;34m()\u001b[0m\n\u001b[1;32m----> 1\u001b[1;33m \u001b[0mdf_train\u001b[0m\u001b[1;33m.\u001b[0m\u001b[0mdtypes\u001b[0m\u001b[1;33m\u001b[0m\u001b[0m\n\u001b[0m",
      "\u001b[1;31mNameError\u001b[0m: name 'df_train' is not defined"
     ]
    }
   ],
   "source": [
    "#APril data \n",
    "df_train = df_train['2017-04-01 00:00:00':'2017-04-30 08:40:36']"
   ]
  },
  {
   "cell_type": "code",
   "execution_count": 11,
   "metadata": {
    "collapsed": true
   },
   "outputs": [],
   "source": []
  },
  {
   "cell_type": "code",
   "execution_count": 5,
   "metadata": {
    "collapsed": true
   },
   "outputs": [],
   "source": [
    "#df_train = df2[df2['anomaly'] == 2 && df2[] < 1900]\n",
    "df_train = df2[df2['anomaly'] == 0]"
   ]
  },
  {
   "cell_type": "code",
   "execution_count": 6,
   "metadata": {
    "collapsed": true
   },
   "outputs": [],
   "source": [
    " df_train = df_train[df_train['UA RegPilotPes_adj'] > 1200]"
   ]
  },
  {
   "cell_type": "code",
   "execution_count": 7,
   "metadata": {
    "collapsed": true
   },
   "outputs": [],
   "source": [
    " df_train = df_train[df_train['UA RegPilotPes_adj'] <1600]"
   ]
  },
  {
   "cell_type": "code",
   "execution_count": 8,
   "metadata": {
    "collapsed": true
   },
   "outputs": [],
   "source": [
    "#df_train['last_active_time'] = pd.to_datetime(df_train['last_active_time'])\n",
    "#df_train = df_train.set_index('last_active_time')"
   ]
  },
  {
   "cell_type": "code",
   "execution_count": 9,
   "metadata": {
    "collapsed": true
   },
   "outputs": [],
   "source": [
    "#APril data \n",
    "#df_train = df_train['2017-04-01 00:00:00':'2017-04-30 08:40:36']"
   ]
  },
  {
   "cell_type": "code",
   "execution_count": 10,
   "metadata": {},
   "outputs": [
    {
     "name": "stdout",
     "output_type": "stream",
     "text": [
      "1264.73974609375 1316.18017578125\n"
     ]
    }
   ],
   "source": [
    "#def remove_outlier(df_in, col_name):\n",
    "#    q1 = df_in[col_name].quantile(0.25)\n",
    "#    q3 = df_in[col_name].quantile(0.75)\n",
    "#    iqr = q3-q1 #Interquartile range\n",
    "#    fence_low  = q1-1.5*iqr\n",
    "#    fence_high = q3+1.5*iqr\n",
    "#    df_out = df_in.loc[(df_in[col_name] > fence_low) & (df_in[col_name] < fence_high)]\n",
    "#    return df_out\n",
    "q1 = df_train['UA RegPilotPes_adj'].quantile(0.25)\n",
    "q3 = df_train['UA RegPilotPes_adj'].quantile(0.75)\n",
    "iqr = q3-q1 #Interquartile range\n",
    "fence_low  = q1-1.5*iqr\n",
    "fence_high = q3+1.5*iqr\n",
    "print(fence_low, fence_high)"
   ]
  },
  {
   "cell_type": "code",
   "execution_count": 11,
   "metadata": {
    "collapsed": true
   },
   "outputs": [],
   "source": [
    "df_train2 = df_train.loc[(df_train['UA RegPilotPes_adj'] > fence_low) & (df_train['UA RegPilotPes_adj'] < fence_high)]"
   ]
  },
  {
   "cell_type": "code",
   "execution_count": 12,
   "metadata": {},
   "outputs": [
    {
     "data": {
      "text/plain": [
       "1296.8900146484375"
      ]
     },
     "execution_count": 12,
     "metadata": {},
     "output_type": "execute_result"
    }
   ],
   "source": [
    "## Data Cleaning\n",
    "#plt.box(df_train[['UA RegPilotPes_adj']]).all()\n",
    "temp_q = df_train[\"UA RegPilotPes_adj\"].quantile(0.99)\n",
    "temp_q"
   ]
  },
  {
   "cell_type": "code",
   "execution_count": null,
   "metadata": {
    "collapsed": true
   },
   "outputs": [],
   "source": []
  },
  {
   "cell_type": "code",
   "execution_count": 122,
   "metadata": {
    "collapsed": true
   },
   "outputs": [],
   "source": [
    "#df_train= df_train.truncate(after = '2017-06-11 8:48')\n",
    "#df_train = df_train[:'2017-06-11 8:48']"
   ]
  },
  {
   "cell_type": "code",
   "execution_count": 13,
   "metadata": {},
   "outputs": [
    {
     "data": {
      "text/html": [
       "<div>\n",
       "<style>\n",
       "    .dataframe thead tr:only-child th {\n",
       "        text-align: right;\n",
       "    }\n",
       "\n",
       "    .dataframe thead th {\n",
       "        text-align: left;\n",
       "    }\n",
       "\n",
       "    .dataframe tbody tr th {\n",
       "        vertical-align: top;\n",
       "    }\n",
       "</style>\n",
       "<table border=\"1\" class=\"dataframe\">\n",
       "  <thead>\n",
       "    <tr style=\"text-align: right;\">\n",
       "      <th></th>\n",
       "      <th>Active</th>\n",
       "      <th>UA RegPilotPes</th>\n",
       "      <th>UA RegRdbakPes</th>\n",
       "      <th>pod_pilot_pres_podtrans</th>\n",
       "      <th>pod_supply_pres_podtrans</th>\n",
       "      <th>upper_ann_open_current</th>\n",
       "      <th>upper_ann_close_current</th>\n",
       "      <th>pod_2_adj</th>\n",
       "      <th>pod_1_adj</th>\n",
       "      <th>UA RegPilotPes_adj</th>\n",
       "      <th>UA RegRdbakPes_adj</th>\n",
       "      <th>pod_pilot_pres_podtrans_adj</th>\n",
       "      <th>pod_supply_pres_podtrans_adj</th>\n",
       "      <th>predicted_state</th>\n",
       "      <th>anomaly</th>\n",
       "      <th>open_current_states_kmean</th>\n",
       "      <th>close_current_states_kmean</th>\n",
       "    </tr>\n",
       "    <tr>\n",
       "      <th>last_active_time</th>\n",
       "      <th></th>\n",
       "      <th></th>\n",
       "      <th></th>\n",
       "      <th></th>\n",
       "      <th></th>\n",
       "      <th></th>\n",
       "      <th></th>\n",
       "      <th></th>\n",
       "      <th></th>\n",
       "      <th></th>\n",
       "      <th></th>\n",
       "      <th></th>\n",
       "      <th></th>\n",
       "      <th></th>\n",
       "      <th></th>\n",
       "      <th></th>\n",
       "      <th></th>\n",
       "    </tr>\n",
       "  </thead>\n",
       "  <tbody>\n",
       "    <tr>\n",
       "      <th>2017-04-26 09:42:36</th>\n",
       "      <td>2</td>\n",
       "      <td>2802.060059</td>\n",
       "      <td>2916.669922</td>\n",
       "      <td>4677.419922</td>\n",
       "      <td>4631.149902</td>\n",
       "      <td>243</td>\n",
       "      <td>0</td>\n",
       "      <td>1505.170044</td>\n",
       "      <td>0.0</td>\n",
       "      <td>1296.890015</td>\n",
       "      <td>1411.499878</td>\n",
       "      <td>3172.249878</td>\n",
       "      <td>3125.979858</td>\n",
       "      <td>3</td>\n",
       "      <td>0</td>\n",
       "      <td>0</td>\n",
       "      <td>0</td>\n",
       "    </tr>\n",
       "    <tr>\n",
       "      <th>2017-04-26 09:42:40</th>\n",
       "      <td>2</td>\n",
       "      <td>2802.060059</td>\n",
       "      <td>2916.669922</td>\n",
       "      <td>4677.419922</td>\n",
       "      <td>4631.149902</td>\n",
       "      <td>243</td>\n",
       "      <td>0</td>\n",
       "      <td>1505.170044</td>\n",
       "      <td>0.0</td>\n",
       "      <td>1296.890015</td>\n",
       "      <td>1411.499878</td>\n",
       "      <td>3172.249878</td>\n",
       "      <td>3125.979858</td>\n",
       "      <td>3</td>\n",
       "      <td>0</td>\n",
       "      <td>0</td>\n",
       "      <td>0</td>\n",
       "    </tr>\n",
       "    <tr>\n",
       "      <th>2017-04-26 09:42:41</th>\n",
       "      <td>2</td>\n",
       "      <td>2802.060059</td>\n",
       "      <td>2930.330078</td>\n",
       "      <td>4677.419922</td>\n",
       "      <td>4631.149902</td>\n",
       "      <td>243</td>\n",
       "      <td>0</td>\n",
       "      <td>1505.170044</td>\n",
       "      <td>0.0</td>\n",
       "      <td>1296.890015</td>\n",
       "      <td>1425.160034</td>\n",
       "      <td>3172.249878</td>\n",
       "      <td>3125.979858</td>\n",
       "      <td>3</td>\n",
       "      <td>0</td>\n",
       "      <td>0</td>\n",
       "      <td>0</td>\n",
       "    </tr>\n",
       "    <tr>\n",
       "      <th>2017-04-26 09:42:46</th>\n",
       "      <td>2</td>\n",
       "      <td>2802.060059</td>\n",
       "      <td>2930.330078</td>\n",
       "      <td>4677.419922</td>\n",
       "      <td>4631.149902</td>\n",
       "      <td>243</td>\n",
       "      <td>0</td>\n",
       "      <td>1505.170044</td>\n",
       "      <td>0.0</td>\n",
       "      <td>1296.890015</td>\n",
       "      <td>1425.160034</td>\n",
       "      <td>3172.249878</td>\n",
       "      <td>3125.979858</td>\n",
       "      <td>3</td>\n",
       "      <td>0</td>\n",
       "      <td>0</td>\n",
       "      <td>0</td>\n",
       "    </tr>\n",
       "    <tr>\n",
       "      <th>2017-04-26 09:42:51</th>\n",
       "      <td>2</td>\n",
       "      <td>2802.060059</td>\n",
       "      <td>2930.330078</td>\n",
       "      <td>4677.419922</td>\n",
       "      <td>4631.149902</td>\n",
       "      <td>243</td>\n",
       "      <td>0</td>\n",
       "      <td>1505.170044</td>\n",
       "      <td>0.0</td>\n",
       "      <td>1296.890015</td>\n",
       "      <td>1425.160034</td>\n",
       "      <td>3172.249878</td>\n",
       "      <td>3125.979858</td>\n",
       "      <td>3</td>\n",
       "      <td>0</td>\n",
       "      <td>0</td>\n",
       "      <td>0</td>\n",
       "    </tr>\n",
       "  </tbody>\n",
       "</table>\n",
       "</div>"
      ],
      "text/plain": [
       "                     Active  UA RegPilotPes  UA RegRdbakPes  \\\n",
       "last_active_time                                              \n",
       "2017-04-26 09:42:36       2     2802.060059     2916.669922   \n",
       "2017-04-26 09:42:40       2     2802.060059     2916.669922   \n",
       "2017-04-26 09:42:41       2     2802.060059     2930.330078   \n",
       "2017-04-26 09:42:46       2     2802.060059     2930.330078   \n",
       "2017-04-26 09:42:51       2     2802.060059     2930.330078   \n",
       "\n",
       "                     pod_pilot_pres_podtrans  pod_supply_pres_podtrans  \\\n",
       "last_active_time                                                         \n",
       "2017-04-26 09:42:36              4677.419922               4631.149902   \n",
       "2017-04-26 09:42:40              4677.419922               4631.149902   \n",
       "2017-04-26 09:42:41              4677.419922               4631.149902   \n",
       "2017-04-26 09:42:46              4677.419922               4631.149902   \n",
       "2017-04-26 09:42:51              4677.419922               4631.149902   \n",
       "\n",
       "                     upper_ann_open_current  upper_ann_close_current  \\\n",
       "last_active_time                                                       \n",
       "2017-04-26 09:42:36                     243                        0   \n",
       "2017-04-26 09:42:40                     243                        0   \n",
       "2017-04-26 09:42:41                     243                        0   \n",
       "2017-04-26 09:42:46                     243                        0   \n",
       "2017-04-26 09:42:51                     243                        0   \n",
       "\n",
       "                       pod_2_adj  pod_1_adj  UA RegPilotPes_adj  \\\n",
       "last_active_time                                                  \n",
       "2017-04-26 09:42:36  1505.170044        0.0         1296.890015   \n",
       "2017-04-26 09:42:40  1505.170044        0.0         1296.890015   \n",
       "2017-04-26 09:42:41  1505.170044        0.0         1296.890015   \n",
       "2017-04-26 09:42:46  1505.170044        0.0         1296.890015   \n",
       "2017-04-26 09:42:51  1505.170044        0.0         1296.890015   \n",
       "\n",
       "                     UA RegRdbakPes_adj  pod_pilot_pres_podtrans_adj  \\\n",
       "last_active_time                                                       \n",
       "2017-04-26 09:42:36         1411.499878                  3172.249878   \n",
       "2017-04-26 09:42:40         1411.499878                  3172.249878   \n",
       "2017-04-26 09:42:41         1425.160034                  3172.249878   \n",
       "2017-04-26 09:42:46         1425.160034                  3172.249878   \n",
       "2017-04-26 09:42:51         1425.160034                  3172.249878   \n",
       "\n",
       "                     pod_supply_pres_podtrans_adj  predicted_state  anomaly  \\\n",
       "last_active_time                                                              \n",
       "2017-04-26 09:42:36                   3125.979858                3        0   \n",
       "2017-04-26 09:42:40                   3125.979858                3        0   \n",
       "2017-04-26 09:42:41                   3125.979858                3        0   \n",
       "2017-04-26 09:42:46                   3125.979858                3        0   \n",
       "2017-04-26 09:42:51                   3125.979858                3        0   \n",
       "\n",
       "                     open_current_states_kmean  close_current_states_kmean  \n",
       "last_active_time                                                            \n",
       "2017-04-26 09:42:36                          0                           0  \n",
       "2017-04-26 09:42:40                          0                           0  \n",
       "2017-04-26 09:42:41                          0                           0  \n",
       "2017-04-26 09:42:46                          0                           0  \n",
       "2017-04-26 09:42:51                          0                           0  "
      ]
     },
     "execution_count": 13,
     "metadata": {},
     "output_type": "execute_result"
    }
   ],
   "source": [
    "df_train2.head()"
   ]
  },
  {
   "cell_type": "code",
   "execution_count": 14,
   "metadata": {},
   "outputs": [
    {
     "data": {
      "text/plain": [
       "43799"
      ]
     },
     "execution_count": 14,
     "metadata": {},
     "output_type": "execute_result"
    }
   ],
   "source": [
    "len(df_train)"
   ]
  },
  {
   "cell_type": "code",
   "execution_count": 15,
   "metadata": {},
   "outputs": [
    {
     "data": {
      "text/plain": [
       "43640"
      ]
     },
     "execution_count": 15,
     "metadata": {},
     "output_type": "execute_result"
    }
   ],
   "source": [
    "len(df_train2)"
   ]
  },
  {
   "cell_type": "code",
   "execution_count": 16,
   "metadata": {},
   "outputs": [
    {
     "data": {
      "text/plain": [
       "1992832"
      ]
     },
     "execution_count": 16,
     "metadata": {},
     "output_type": "execute_result"
    }
   ],
   "source": [
    "len(df2)"
   ]
  },
  {
   "cell_type": "code",
   "execution_count": 17,
   "metadata": {
    "collapsed": true
   },
   "outputs": [],
   "source": [
    "# Choose label\n",
    "y = df_train2[\"UA RegPilotPes_adj\"]"
   ]
  },
  {
   "cell_type": "code",
   "execution_count": 18,
   "metadata": {
    "collapsed": true
   },
   "outputs": [],
   "source": [
    "df_features = [\"UA RegRdbakPes_adj\", \"pod_pilot_pres_podtrans_adj\", \"pod_supply_pres_podtrans_adj\"]\n",
    "X = df_train2[df_features]"
   ]
  },
  {
   "cell_type": "code",
   "execution_count": 19,
   "metadata": {
    "collapsed": true
   },
   "outputs": [],
   "source": [
    "from sklearn.model_selection import train_test_split"
   ]
  },
  {
   "cell_type": "code",
   "execution_count": 20,
   "metadata": {
    "collapsed": true
   },
   "outputs": [],
   "source": [
    "train_X, val_X, train_y, val_y = train_test_split(X, y,random_state = 0)"
   ]
  },
  {
   "cell_type": "code",
   "execution_count": 21,
   "metadata": {},
   "outputs": [
    {
     "data": {
      "text/plain": [
       "pandas.core.frame.DataFrame"
      ]
     },
     "execution_count": 21,
     "metadata": {},
     "output_type": "execute_result"
    }
   ],
   "source": [
    "type(val_X)"
   ]
  },
  {
   "cell_type": "code",
   "execution_count": 22,
   "metadata": {
    "collapsed": true
   },
   "outputs": [],
   "source": [
    "from sklearn.ensemble import RandomForestRegressor\n",
    "from sklearn.metrics import mean_absolute_error"
   ]
  },
  {
   "cell_type": "code",
   "execution_count": 23,
   "metadata": {
    "scrolled": true
   },
   "outputs": [
    {
     "data": {
      "text/plain": [
       "RandomForestRegressor(bootstrap=True, criterion='mse', max_depth=None,\n",
       "           max_features='auto', max_leaf_nodes=None,\n",
       "           min_impurity_decrease=0.0, min_impurity_split=None,\n",
       "           min_samples_leaf=1, min_samples_split=2,\n",
       "           min_weight_fraction_leaf=0.0, n_estimators=10, n_jobs=1,\n",
       "           oob_score=False, random_state=1, verbose=0, warm_start=False)"
      ]
     },
     "execution_count": 23,
     "metadata": {},
     "output_type": "execute_result"
    }
   ],
   "source": [
    "forest_model = RandomForestRegressor(random_state=1)\n",
    "forest_model.fit(train_X, train_y)"
   ]
  },
  {
   "cell_type": "code",
   "execution_count": 24,
   "metadata": {
    "collapsed": true
   },
   "outputs": [],
   "source": [
    "# Y prediction\n",
    "#preds = forest_model.predict(val_X)\n",
    "\n",
    "#preds = forest_model.predict(df[df_features ])\n",
    "preds = forest_model.predict(df2[df_features ])"
   ]
  },
  {
   "cell_type": "code",
   "execution_count": 25,
   "metadata": {},
   "outputs": [
    {
     "data": {
      "text/plain": [
       "numpy.ndarray"
      ]
     },
     "execution_count": 25,
     "metadata": {},
     "output_type": "execute_result"
    }
   ],
   "source": [
    "type(preds)"
   ]
  },
  {
   "cell_type": "code",
   "execution_count": 26,
   "metadata": {
    "collapsed": true
   },
   "outputs": [],
   "source": [
    "df2[\"UA RegPilotPes_adj_predicted\"] = preds"
   ]
  },
  {
   "cell_type": "code",
   "execution_count": 27,
   "metadata": {},
   "outputs": [
    {
     "name": "stdout",
     "output_type": "stream",
     "text": [
      "[ 1284.02990723  1284.02990723  1284.02990723 ...,  1298.81801758\n",
      "  1298.81801758  1298.81801758]\n"
     ]
    }
   ],
   "source": [
    "print(preds)"
   ]
  },
  {
   "cell_type": "code",
   "execution_count": 28,
   "metadata": {
    "collapsed": true
   },
   "outputs": [],
   "source": [
    "df_temp = df2[[ \"last_active_time\", \"UA RegPilotPes_adj\", \"UA RegPilotPes_adj_predicted\"]]"
   ]
  },
  {
   "cell_type": "code",
   "execution_count": 29,
   "metadata": {},
   "outputs": [
    {
     "name": "stderr",
     "output_type": "stream",
     "text": [
      "C:\\Users\\1535980\\Anaconda\\lib\\site-packages\\ipykernel_launcher.py:1: SettingWithCopyWarning: \n",
      "A value is trying to be set on a copy of a slice from a DataFrame.\n",
      "Try using .loc[row_indexer,col_indexer] = value instead\n",
      "\n",
      "See the caveats in the documentation: http://pandas.pydata.org/pandas-docs/stable/indexing.html#indexing-view-versus-copy\n",
      "  \"\"\"Entry point for launching an IPython kernel.\n"
     ]
    }
   ],
   "source": [
    "df_temp['last_active_time'] = pd.to_datetime(df_temp['last_active_time'])"
   ]
  },
  {
   "cell_type": "code",
   "execution_count": 30,
   "metadata": {},
   "outputs": [
    {
     "data": {
      "image/png": "[encoded data removed]",
      "text/plain": [
       "<matplotlib.figure.Figure at 0xbf75940>"
      ]
     },
     "metadata": {},
     "output_type": "display_data"
    }
   ],
   "source": [
    "plt.figure(figsize=(16,8))\n",
    "plt.plot(df_temp[\"last_active_time\"], df_temp[\"UA RegPilotPes_adj\"], color=\"red\")\n",
    "plt.plot(df_temp[\"last_active_time\"], df_temp[\"UA RegPilotPes_adj_predicted\"], color=\"blue\")\n",
    "#plt.plot(x, y_3, '-', color=\"#aaaaaa\")\n",
    "plt.legend(['Y_TEST','Y_PRED'])\n",
    "plt.xlabel(\"Time\")\n",
    "plt.ylabel(\"UA RegPilotPes Predicted (normal+abnormal) vs Original BOP observations\")\n",
    "#plt.legend(loc='upper left')\n",
    "\n",
    "plt.show()\n"
   ]
  },
  {
   "cell_type": "code",
   "execution_count": null,
   "metadata": {
    "collapsed": true
   },
   "outputs": [],
   "source": []
  },
  {
   "cell_type": "code",
   "execution_count": null,
   "metadata": {
    "collapsed": true
   },
   "outputs": [],
   "source": []
  },
  {
   "cell_type": "code",
   "execution_count": null,
   "metadata": {
    "collapsed": true
   },
   "outputs": [],
   "source": []
  },
  {
   "cell_type": "code",
   "execution_count": null,
   "metadata": {
    "collapsed": true
   },
   "outputs": [],
   "source": []
  },
  {
   "cell_type": "code",
   "execution_count": 50,
   "metadata": {},
   "outputs": [
    {
     "ename": "ValueError",
     "evalue": "Length of values does not match length of index",
     "output_type": "error",
     "traceback": [
      "\u001b[1;31m---------------------------------------------------------------------------\u001b[0m",
      "\u001b[1;31mValueError\u001b[0m                                Traceback (most recent call last)",
      "\u001b[1;32m<ipython-input-50-1a99a89edab0>\u001b[0m in \u001b[0;36m<module>\u001b[1;34m()\u001b[0m\n\u001b[1;32m----> 1\u001b[1;33m \u001b[0mdf\u001b[0m\u001b[1;33m[\u001b[0m\u001b[1;34m\"UA RegPilotPes_adj_pred\"\u001b[0m\u001b[1;33m]\u001b[0m\u001b[1;33m=\u001b[0m \u001b[0mpreds\u001b[0m\u001b[1;33m\u001b[0m\u001b[0m\n\u001b[0m",
      "\u001b[1;32m~\\Anaconda\\lib\\site-packages\\pandas\\core\\frame.py\u001b[0m in \u001b[0;36m__setitem__\u001b[1;34m(self, key, value)\u001b[0m\n\u001b[0;32m   2329\u001b[0m         \u001b[1;32melse\u001b[0m\u001b[1;33m:\u001b[0m\u001b[1;33m\u001b[0m\u001b[0m\n\u001b[0;32m   2330\u001b[0m             \u001b[1;31m# set column\u001b[0m\u001b[1;33m\u001b[0m\u001b[1;33m\u001b[0m\u001b[0m\n\u001b[1;32m-> 2331\u001b[1;33m             \u001b[0mself\u001b[0m\u001b[1;33m.\u001b[0m\u001b[0m_set_item\u001b[0m\u001b[1;33m(\u001b[0m\u001b[0mkey\u001b[0m\u001b[1;33m,\u001b[0m \u001b[0mvalue\u001b[0m\u001b[1;33m)\u001b[0m\u001b[1;33m\u001b[0m\u001b[0m\n\u001b[0m\u001b[0;32m   2332\u001b[0m \u001b[1;33m\u001b[0m\u001b[0m\n\u001b[0;32m   2333\u001b[0m     \u001b[1;32mdef\u001b[0m \u001b[0m_setitem_slice\u001b[0m\u001b[1;33m(\u001b[0m\u001b[0mself\u001b[0m\u001b[1;33m,\u001b[0m \u001b[0mkey\u001b[0m\u001b[1;33m,\u001b[0m \u001b[0mvalue\u001b[0m\u001b[1;33m)\u001b[0m\u001b[1;33m:\u001b[0m\u001b[1;33m\u001b[0m\u001b[0m\n",
      "\u001b[1;32m~\\Anaconda\\lib\\site-packages\\pandas\\core\\frame.py\u001b[0m in \u001b[0;36m_set_item\u001b[1;34m(self, key, value)\u001b[0m\n\u001b[0;32m   2395\u001b[0m \u001b[1;33m\u001b[0m\u001b[0m\n\u001b[0;32m   2396\u001b[0m         \u001b[0mself\u001b[0m\u001b[1;33m.\u001b[0m\u001b[0m_ensure_valid_index\u001b[0m\u001b[1;33m(\u001b[0m\u001b[0mvalue\u001b[0m\u001b[1;33m)\u001b[0m\u001b[1;33m\u001b[0m\u001b[0m\n\u001b[1;32m-> 2397\u001b[1;33m         \u001b[0mvalue\u001b[0m \u001b[1;33m=\u001b[0m \u001b[0mself\u001b[0m\u001b[1;33m.\u001b[0m\u001b[0m_sanitize_column\u001b[0m\u001b[1;33m(\u001b[0m\u001b[0mkey\u001b[0m\u001b[1;33m,\u001b[0m \u001b[0mvalue\u001b[0m\u001b[1;33m)\u001b[0m\u001b[1;33m\u001b[0m\u001b[0m\n\u001b[0m\u001b[0;32m   2398\u001b[0m         \u001b[0mNDFrame\u001b[0m\u001b[1;33m.\u001b[0m\u001b[0m_set_item\u001b[0m\u001b[1;33m(\u001b[0m\u001b[0mself\u001b[0m\u001b[1;33m,\u001b[0m \u001b[0mkey\u001b[0m\u001b[1;33m,\u001b[0m \u001b[0mvalue\u001b[0m\u001b[1;33m)\u001b[0m\u001b[1;33m\u001b[0m\u001b[0m\n\u001b[0;32m   2399\u001b[0m \u001b[1;33m\u001b[0m\u001b[0m\n",
      "\u001b[1;32m~\\Anaconda\\lib\\site-packages\\pandas\\core\\frame.py\u001b[0m in \u001b[0;36m_sanitize_column\u001b[1;34m(self, key, value, broadcast)\u001b[0m\n\u001b[0;32m   2566\u001b[0m \u001b[1;33m\u001b[0m\u001b[0m\n\u001b[0;32m   2567\u001b[0m             \u001b[1;31m# turn me into an ndarray\u001b[0m\u001b[1;33m\u001b[0m\u001b[1;33m\u001b[0m\u001b[0m\n\u001b[1;32m-> 2568\u001b[1;33m             \u001b[0mvalue\u001b[0m \u001b[1;33m=\u001b[0m \u001b[0m_sanitize_index\u001b[0m\u001b[1;33m(\u001b[0m\u001b[0mvalue\u001b[0m\u001b[1;33m,\u001b[0m \u001b[0mself\u001b[0m\u001b[1;33m.\u001b[0m\u001b[0mindex\u001b[0m\u001b[1;33m,\u001b[0m \u001b[0mcopy\u001b[0m\u001b[1;33m=\u001b[0m\u001b[1;32mFalse\u001b[0m\u001b[1;33m)\u001b[0m\u001b[1;33m\u001b[0m\u001b[0m\n\u001b[0m\u001b[0;32m   2569\u001b[0m             \u001b[1;32mif\u001b[0m \u001b[1;32mnot\u001b[0m \u001b[0misinstance\u001b[0m\u001b[1;33m(\u001b[0m\u001b[0mvalue\u001b[0m\u001b[1;33m,\u001b[0m \u001b[1;33m(\u001b[0m\u001b[0mnp\u001b[0m\u001b[1;33m.\u001b[0m\u001b[0mndarray\u001b[0m\u001b[1;33m,\u001b[0m \u001b[0mIndex\u001b[0m\u001b[1;33m)\u001b[0m\u001b[1;33m)\u001b[0m\u001b[1;33m:\u001b[0m\u001b[1;33m\u001b[0m\u001b[0m\n\u001b[0;32m   2570\u001b[0m                 \u001b[1;32mif\u001b[0m \u001b[0misinstance\u001b[0m\u001b[1;33m(\u001b[0m\u001b[0mvalue\u001b[0m\u001b[1;33m,\u001b[0m \u001b[0mlist\u001b[0m\u001b[1;33m)\u001b[0m \u001b[1;32mand\u001b[0m \u001b[0mlen\u001b[0m\u001b[1;33m(\u001b[0m\u001b[0mvalue\u001b[0m\u001b[1;33m)\u001b[0m \u001b[1;33m>\u001b[0m \u001b[1;36m0\u001b[0m\u001b[1;33m:\u001b[0m\u001b[1;33m\u001b[0m\u001b[0m\n",
      "\u001b[1;32m~\\Anaconda\\lib\\site-packages\\pandas\\core\\series.py\u001b[0m in \u001b[0;36m_sanitize_index\u001b[1;34m(data, index, copy)\u001b[0m\n\u001b[0;32m   2877\u001b[0m \u001b[1;33m\u001b[0m\u001b[0m\n\u001b[0;32m   2878\u001b[0m     \u001b[1;32mif\u001b[0m \u001b[0mlen\u001b[0m\u001b[1;33m(\u001b[0m\u001b[0mdata\u001b[0m\u001b[1;33m)\u001b[0m \u001b[1;33m!=\u001b[0m \u001b[0mlen\u001b[0m\u001b[1;33m(\u001b[0m\u001b[0mindex\u001b[0m\u001b[1;33m)\u001b[0m\u001b[1;33m:\u001b[0m\u001b[1;33m\u001b[0m\u001b[0m\n\u001b[1;32m-> 2879\u001b[1;33m         \u001b[1;32mraise\u001b[0m \u001b[0mValueError\u001b[0m\u001b[1;33m(\u001b[0m\u001b[1;34m'Length of values does not match length of '\u001b[0m \u001b[1;34m'index'\u001b[0m\u001b[1;33m)\u001b[0m\u001b[1;33m\u001b[0m\u001b[0m\n\u001b[0m\u001b[0;32m   2880\u001b[0m \u001b[1;33m\u001b[0m\u001b[0m\n\u001b[0;32m   2881\u001b[0m     \u001b[1;32mif\u001b[0m \u001b[0misinstance\u001b[0m\u001b[1;33m(\u001b[0m\u001b[0mdata\u001b[0m\u001b[1;33m,\u001b[0m \u001b[0mPeriodIndex\u001b[0m\u001b[1;33m)\u001b[0m\u001b[1;33m:\u001b[0m\u001b[1;33m\u001b[0m\u001b[0m\n",
      "\u001b[1;31mValueError\u001b[0m: Length of values does not match length of index"
     ]
    }
   ],
   "source": []
  },
  {
   "cell_type": "code",
   "execution_count": null,
   "metadata": {
    "collapsed": true
   },
   "outputs": [],
   "source": []
  }
 ],
 "metadata": {
  "kernelspec": {
   "display_name": "Python 3",
   "language": "python",
   "name": "python3"
  },
  "language_info": {
   "codemirror_mode": {
    "name": "ipython",
    "version": 3
   },
   "file_extension": ".py",
   "mimetype": "text/x-python",
   "name": "python",
   "nbconvert_exporter": "python",
   "pygments_lexer": "ipython3",
   "version": "3.6.3"
  }
 },
 "nbformat": 4,
 "nbformat_minor": 2
}
